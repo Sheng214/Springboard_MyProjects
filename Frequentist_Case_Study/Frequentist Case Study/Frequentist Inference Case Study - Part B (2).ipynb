{
 "cells": [
  {
   "cell_type": "markdown",
   "metadata": {},
   "source": [
    "# Frequentist Inference Case Study - Part B"
   ]
  },
  {
   "cell_type": "markdown",
   "metadata": {},
   "source": [
    "## Learning objectives"
   ]
  },
  {
   "cell_type": "markdown",
   "metadata": {},
   "source": [
    "Welcome to Part B of the Frequentist inference case study! The purpose of this case study is to help you apply the concepts associated with Frequentist inference in Python. In particular, you'll practice writing Python code to apply the following statistical concepts: \n",
    "* the _z_-statistic\n",
    "* the _t_-statistic\n",
    "* the difference and relationship between the two\n",
    "* the Central Limit Theorem, including its assumptions and consequences\n",
    "* how to estimate the population mean and standard deviation from a sample\n",
    "* the concept of a sampling distribution of a test statistic, particularly for the mean\n",
    "* how to combine these concepts to calculate a confidence interval"
   ]
  },
  {
   "cell_type": "markdown",
   "metadata": {},
   "source": [
    "In the previous notebook, we used only data from a known normal distribution. **You'll now tackle real data, rather than simulated data, and answer some relevant real-world business problems using the data.**"
   ]
  },
  {
   "cell_type": "markdown",
   "metadata": {},
   "source": [
    "## Hospital medical charges"
   ]
  },
  {
   "cell_type": "markdown",
   "metadata": {},
   "source": [
    "Imagine that a hospital has hired you as their data scientist. An administrator is working on the hospital's business operations plan and needs you to help them answer some business questions. \n",
    "\n",
    "In this assignment notebook, you're going to use frequentist statistical inference on a data sample to answer the questions:\n",
    "* has the hospital's revenue stream fallen below a key threshold?\n",
    "* are patients with insurance really charged different amounts than those without?\n",
    "\n",
    "Answering that last question with a frequentist approach makes some assumptions, and requires some knowledge, about the two groups."
   ]
  },
  {
   "cell_type": "markdown",
   "metadata": {},
   "source": [
    "We are going to use some data on medical charges obtained from [Kaggle](https://www.kaggle.com/easonlai/sample-insurance-claim-prediction-dataset). \n",
    "\n",
    "For the purposes of this exercise, assume the observations are the result of random sampling from our single hospital. Recall that in the previous assignment, we introduced the Central Limit Theorem (CLT), and its consequence that the distributions of sample statistics approach a normal distribution as $n$ increases. The amazing thing about this is that it applies to the sampling distributions of statistics that have been calculated from even highly non-normal distributions of data! Recall, also, that hypothesis testing is very much based on making inferences about such sample statistics. You're going to rely heavily on the CLT to apply frequentist (parametric) tests to answer the questions in this notebook."
   ]
  },
  {
   "cell_type": "code",
   "execution_count": 59,
   "metadata": {},
   "outputs": [],
   "source": [
    "import pandas as pd\n",
    "import numpy as np\n",
    "import matplotlib.pyplot as plt\n",
    "from scipy.stats import t\n",
    "from numpy.random import seed\n",
    "import os\n",
    "medical = pd.read_csv(r\"C:\\Users\\Sheng Miao\\OneDrive\\桌面\\SpringBoard\\Springboard_MyProjects\\Frequentist_Case_Study\\Frequentist Case Study\\insurance2.csv\")"
   ]
  },
  {
   "cell_type": "code",
   "execution_count": 60,
   "metadata": {},
   "outputs": [
    {
     "data": {
      "text/plain": [
       "(1338, 8)"
      ]
     },
     "execution_count": 60,
     "metadata": {},
     "output_type": "execute_result"
    }
   ],
   "source": [
    "medical.shape"
   ]
  },
  {
   "cell_type": "code",
   "execution_count": 61,
   "metadata": {},
   "outputs": [
    {
     "data": {
      "text/html": [
       "<div>\n",
       "<style scoped>\n",
       "    .dataframe tbody tr th:only-of-type {\n",
       "        vertical-align: middle;\n",
       "    }\n",
       "\n",
       "    .dataframe tbody tr th {\n",
       "        vertical-align: top;\n",
       "    }\n",
       "\n",
       "    .dataframe thead th {\n",
       "        text-align: right;\n",
       "    }\n",
       "</style>\n",
       "<table border=\"1\" class=\"dataframe\">\n",
       "  <thead>\n",
       "    <tr style=\"text-align: right;\">\n",
       "      <th></th>\n",
       "      <th>age</th>\n",
       "      <th>sex</th>\n",
       "      <th>bmi</th>\n",
       "      <th>children</th>\n",
       "      <th>smoker</th>\n",
       "      <th>region</th>\n",
       "      <th>charges</th>\n",
       "      <th>insuranceclaim</th>\n",
       "    </tr>\n",
       "  </thead>\n",
       "  <tbody>\n",
       "    <tr>\n",
       "      <th>0</th>\n",
       "      <td>19</td>\n",
       "      <td>0</td>\n",
       "      <td>27.900</td>\n",
       "      <td>0</td>\n",
       "      <td>1</td>\n",
       "      <td>3</td>\n",
       "      <td>16884.92400</td>\n",
       "      <td>1</td>\n",
       "    </tr>\n",
       "    <tr>\n",
       "      <th>1</th>\n",
       "      <td>18</td>\n",
       "      <td>1</td>\n",
       "      <td>33.770</td>\n",
       "      <td>1</td>\n",
       "      <td>0</td>\n",
       "      <td>2</td>\n",
       "      <td>1725.55230</td>\n",
       "      <td>1</td>\n",
       "    </tr>\n",
       "    <tr>\n",
       "      <th>2</th>\n",
       "      <td>28</td>\n",
       "      <td>1</td>\n",
       "      <td>33.000</td>\n",
       "      <td>3</td>\n",
       "      <td>0</td>\n",
       "      <td>2</td>\n",
       "      <td>4449.46200</td>\n",
       "      <td>0</td>\n",
       "    </tr>\n",
       "    <tr>\n",
       "      <th>3</th>\n",
       "      <td>33</td>\n",
       "      <td>1</td>\n",
       "      <td>22.705</td>\n",
       "      <td>0</td>\n",
       "      <td>0</td>\n",
       "      <td>1</td>\n",
       "      <td>21984.47061</td>\n",
       "      <td>0</td>\n",
       "    </tr>\n",
       "    <tr>\n",
       "      <th>4</th>\n",
       "      <td>32</td>\n",
       "      <td>1</td>\n",
       "      <td>28.880</td>\n",
       "      <td>0</td>\n",
       "      <td>0</td>\n",
       "      <td>1</td>\n",
       "      <td>3866.85520</td>\n",
       "      <td>1</td>\n",
       "    </tr>\n",
       "  </tbody>\n",
       "</table>\n",
       "</div>"
      ],
      "text/plain": [
       "   age  sex     bmi  children  smoker  region      charges  insuranceclaim\n",
       "0   19    0  27.900         0       1       3  16884.92400               1\n",
       "1   18    1  33.770         1       0       2   1725.55230               1\n",
       "2   28    1  33.000         3       0       2   4449.46200               0\n",
       "3   33    1  22.705         0       0       1  21984.47061               0\n",
       "4   32    1  28.880         0       0       1   3866.85520               1"
      ]
     },
     "execution_count": 61,
     "metadata": {},
     "output_type": "execute_result"
    }
   ],
   "source": [
    "medical.head()"
   ]
  },
  {
   "cell_type": "markdown",
   "metadata": {},
   "source": [
    "__Q1:__ Plot the histogram of charges and calculate the mean and standard deviation. Comment on the appropriateness of these statistics for the data."
   ]
  },
  {
   "cell_type": "markdown",
   "metadata": {},
   "source": [
    "__A:__"
   ]
  },
  {
   "cell_type": "code",
   "execution_count": 62,
   "metadata": {},
   "outputs": [
    {
     "data": {
      "image/png": "[encoded data removed]",
      "text/plain": [
       "<Figure size 640x480 with 1 Axes>"
      ]
     },
     "metadata": {},
     "output_type": "display_data"
    }
   ],
   "source": [
    "_ = plt.hist(medical.charges)"
   ]
  },
  {
   "cell_type": "code",
   "execution_count": 63,
   "metadata": {},
   "outputs": [
    {
     "name": "stdout",
     "output_type": "stream",
     "text": [
      "The mean of medical charges is: 13270.422265141257\n",
      "The standard deviation of medical charges is: 12105.484975561605\n"
     ]
    }
   ],
   "source": [
    "charges_mean = np.mean(medical.charges)\n",
    "charges_std = np.std(medical.charges)\n",
    "print(\"The mean of medical charges is:\", charges_mean)\n",
    "print(\"The standard deviation of medical charges is:\", charges_std)"
   ]
  },
  {
   "cell_type": "markdown",
   "metadata": {},
   "source": [
    "__Comment:__\n",
    "The histogram of the medical charges reveals a screwed distribution toward values below 10000, making the calculation of mean and standard deviation inappropriate. "
   ]
  },
  {
   "cell_type": "markdown",
   "metadata": {},
   "source": [
    "__Q2:__ The administrator is concerned that the actual average charge has fallen below 12,000, threatening the hospital's operational model. On the assumption that these data represent a random sample of charges, how would you justify that these data allow you to answer that question? And what would be the most appropriate frequentist test, of the ones discussed so far, to apply?"
   ]
  },
  {
   "cell_type": "code",
   "execution_count": 64,
   "metadata": {},
   "outputs": [
    {
     "name": "stdout",
     "output_type": "stream",
     "text": [
      "13268.292567069491\n",
      "331.9939687156728\n",
      "330.943713906084\n"
     ]
    },
    {
     "data": {
      "image/png": "[encoded data removed]",
      "text/plain": [
       "<Figure size 640x480 with 1 Axes>"
      ]
     },
     "metadata": {},
     "output_type": "display_data"
    }
   ],
   "source": [
    "def sampler(n):\n",
    "    return np.random.choice(medical.charges, n)\n",
    "\n",
    "seed(47)\n",
    "sample_means = [np.mean(sampler(1338)) for i in range (10000)]\n",
    "_ = plt.hist(sample_means, bins=20)\n",
    "_ = plt.xlabel('average charge')\n",
    "_ = plt.ylabel('sampling distribution of average charge of sample of 1338')\n",
    "\n",
    "CLT_mean = np.mean(sample_means)\n",
    "CLT_std = np.std(sample_means)\n",
    "print(CLT_mean)\n",
    "print(CLT_std)\n",
    "print(charges_std/np.sqrt(1338))"
   ]
  },
  {
   "cell_type": "markdown",
   "metadata": {},
   "source": [
    "__A:__\n",
    "The above is the distribution of the means of medical charges of size 1338 taken randomly from the sample with replacement. The Central Limit Theorem tells us that although the skewed distribution of medical charges, the sampling distribution of the charge means is close to a normal distribution, and the expected mean of this distribution will be equal to the population mean. However, since the population mean is still unknown, the most appropriate frequentist test should be the t-statistic test."
   ]
  },
  {
   "cell_type": "markdown",
   "metadata": {},
   "source": [
    "__Q3:__ Given the nature of the administrator's concern, what is the appropriate confidence interval in this case? A ***one-sided*** or ***two-sided*** interval? (Refresh your understanding of this concept on p. 399 of the *AoS*). Calculate the critical value and the relevant 95% confidence interval for the mean, and comment on whether the administrator should be concerned."
   ]
  },
  {
   "cell_type": "markdown",
   "metadata": {},
   "source": [
    "__A:__"
   ]
  },
  {
   "cell_type": "code",
   "execution_count": 65,
   "metadata": {},
   "outputs": [
    {
     "name": "stdout",
     "output_type": "stream",
     "text": [
      "The critical t-value for a one tailed test at p-value of 0.05, with 1337 degrees of freedom, is: -1.65\n",
      "The 95% confidence interval for a one tailed test with 1337 degrees of freedom, is: [13253.35326133            inf]\n",
      "The probability that the mean charges are less than 12000 is 0.0\n"
     ]
    }
   ],
   "source": [
    "t_value = t.ppf(0.05,df=1337)\n",
    "print(f\"The critical t-value for a one tailed test at p-value of 0.05, with 1337 degrees of freedom, is: {t_value:.2f}\")\n",
    "\n",
    "confidence_interval_t = t.ppf([0.05, 1], loc=CLT_mean, scale=CLT_std/np.sqrt(1338), df=1337)\n",
    "print(\"The 95% confidence interval for a one tailed test with 1337 degrees of freedom, is:\", confidence_interval_t)\n",
    "\n",
    "prob_below_12000 = t.cdf(12000, loc=CLT_mean, scale=CLT_std/np.sqrt(1338), df=1337)\n",
    "print(\"The probability that the mean charges are less than 12000 is\", prob_below_12000)"
   ]
  },
  {
   "cell_type": "markdown",
   "metadata": {},
   "source": [
    " __Comment:__\n",
    " As a result, the 95% confidence interval for a one-tailed test for the sampling distribution of the mean charges, with 1337 degrees of freedom, is above 13253, which is well above 12000. calculations using the t.cdf() function reveals that the probability of the mean charges being less than 12000 is close to 0. Therefore, the administrator should not be concerned that the actual average charge has fallen below 12,000."
   ]
  },
  {
   "cell_type": "markdown",
   "metadata": {},
   "source": [
    "The administrator then wants to know whether people with insurance really are charged a different amount to those without.\n",
    "\n",
    "__Q4:__ State the null and alternative hypothesis here. Use the _t_-test for the difference between means, where the pooled standard deviation of the two groups is given by:\n",
    "\\begin{equation}\n",
    "s_p = \\sqrt{\\frac{(n_0 - 1)s^2_0 + (n_1 - 1)s^2_1}{n_0 + n_1 - 2}}\n",
    "\\end{equation}\n",
    "\n",
    "and the *t*-test statistic is then given by:\n",
    "\n",
    "\\begin{equation}\n",
    "t = \\frac{\\bar{x}_0 - \\bar{x}_1}{s_p \\sqrt{1/n_0 + 1/n_1}}.\n",
    "\\end{equation}\n",
    "\n",
    "(If you need some reminding of the general definition of ***t-statistic***, check out the definition on p. 404 of *AoS*). \n",
    "\n",
    "What assumption about the variances of the two groups are we making here?"
   ]
  },
  {
   "cell_type": "markdown",
   "metadata": {},
   "source": [
    "__A:__\n",
    "We assume that the metric variable--charges--is normally distributed and its variances in the two groups are approximately equal. "
   ]
  },
  {
   "cell_type": "markdown",
   "metadata": {},
   "source": [
    "__Q5:__ Perform this hypothesis test both manually, using the above formulae, and then using the appropriate function from [scipy.stats](https://docs.scipy.org/doc/scipy/reference/stats.html#statistical-tests) (hint, you're looking for a function to perform a _t_-test on two independent samples). For the manual approach, calculate the value of the test statistic and then its probability (the p-value). Verify you get the same results from both."
   ]
  },
  {
   "cell_type": "markdown",
   "metadata": {},
   "source": [
    "__A:__ "
   ]
  },
  {
   "cell_type": "code",
   "execution_count": 67,
   "metadata": {},
   "outputs": [
    {
     "name": "stdout",
     "output_type": "stream",
     "text": [
      "The mean charges of patients with insurance is: 16424\n",
      "The mean charges of patients without insurance is: 8821\n",
      "The standard variation of charges of patients with insurance is: 14037\n",
      "The standard variation of charges of patients without insurance is: 6441\n",
      "The number of patients with insurance is: 783\n",
      "The number of patients without insurance is: 555\n",
      "The pooled standard deviation calculated manually is: 11512.28\n",
      "The t-value calculated manually is: 11.90\n",
      "The degrees of freedom is: 1336\n",
      "The p-value for two-tailed test is: 0.00\n"
     ]
    }
   ],
   "source": [
    "# the manual approach to calculate the value of the test statistic and then its probability\n",
    "# get charges data for insurance patients and non-insurance patients\n",
    "insur = medical.loc[medical['insuranceclaim'] == 1, 'charges']\n",
    "no_insur = medical.loc[medical['insuranceclaim'] == 0, 'charges']\n",
    "\n",
    "# calculate means, standard deviations, and n for both groups\n",
    "insur_mean = np.mean(insur)\n",
    "no_insur_mean = np.mean(no_insur)\n",
    "print(f\"The mean charges of patients with insurance is: {insur_mean:.0f}\")\n",
    "print(f\"The mean charges of patients without insurance is: {no_insur_mean:.0f}\")\n",
    "\n",
    "insur_std = np.std(insur)\n",
    "no_insur_std = np.std(no_insur)\n",
    "print(f\"The standard deviation of charges of patients with insurance is: {insur_std:.0f}\")\n",
    "print(f\"The standard deviation of charges of patients without insurance is: {no_insur_std:.0f}\")\n",
    "\n",
    "insur_n = len(insur)\n",
    "no_insur_n = len(no_insur)\n",
    "print(f\"The number of patients with insurance is: {insur_n:.0f}\")\n",
    "print(f\"The number of patients without insurance is: {no_insur_n:.0f}\")\n",
    "\n",
    "# calculate pooled standard deviation, manual_s\n",
    "pooled_s = np.sqrt(\n",
    "    ((insur_n - 1)*insur_std**2 + (no_insur_n - 1)*no_insur_std**2) / (insur_n + no_insur_n - 2)\n",
    ")\n",
    "print(f\"The pooled standard deviation calculated manually is: {pooled_s:.2f}\")\n",
    "\n",
    "# calculate t-value \n",
    "manual_t = (insur_mean - no_insur_mean) / (pooled_s * np.sqrt((1 / insur_n) + (1 / no_insur_n)))\n",
    "print(f\"The t-value calculated manually is: {manual_t:.2f}\")\n",
    "\n",
    "# calcualte degrees of freedom\n",
    "df = insur_n + no_insur_n - 2\n",
    "print(f\"The degrees of freedom is: {df:.0f}\")\n",
    "\n",
    "# calcualte p-value\n",
    "manual_two_tailed_p = 2 * (1 - t.cdf(manual_t, df))\n",
    "print(f\"The p-value for two-tailed test is: {manual_two_tailed_p:.2f}\")"
   ]
  },
  {
   "cell_type": "code",
   "execution_count": 85,
   "metadata": {},
   "outputs": [
    {
     "name": "stdout",
     "output_type": "stream",
     "text": [
      "The t_value calculated by scipy is: 11.89\n",
      "The p_value calculated by scipy is: 0.00\n"
     ]
    }
   ],
   "source": [
    "# perform t-test on two independent samples using function ttest_ind from scipy.stats\n",
    "from scipy.stats import ttest_ind\n",
    "t_value, p_value = ttest_ind(insur, no_insur, equal_var=True, alternative='two-sided')\n",
    "print(f\"The t_value calculated by scipy is: {t_value:.2f}\")\n",
    "print(f\"The p_value calculated by scipy is: {p_value:.2f}\")"
   ]
  },
  {
   "cell_type": "markdown",
   "metadata": {},
   "source": [
    "__Comment:__\n",
    "Both the manual calculation and the scipy.stats.ttest_ind function produce consistent result for t-value and p-value. "
   ]
  },
  {
   "cell_type": "markdown",
   "metadata": {},
   "source": [
    "Congratulations! Hopefully you got the exact same numerical results. This shows that you correctly calculated the numbers by hand. Secondly, you used the correct function and saw that it's much easier to use. All you need to do is pass your data to it."
   ]
  },
  {
   "cell_type": "markdown",
   "metadata": {},
   "source": [
    "__Q6:__ Conceptual question: look through the documentation for statistical test functions in scipy.stats. You'll see the above _t_-test for a sample, but can you see an equivalent one for performing a *z*-test from a sample? Comment on your answer."
   ]
  },
  {
   "cell_type": "markdown",
   "metadata": {},
   "source": [
    "__A:__\n",
    "I couldn't found an equivalent one for performing a z-test in the documentation for statistical test functions in scipy.stats. The absence of a z-test function in scipy.stats likely reflects the practical focus on t-tests, which are more widely applicable given unknown population parameters. The library prioritizes tests that are more relevant to real-world data, where population parameters are usually not known."
   ]
  },
  {
   "cell_type": "markdown",
   "metadata": {},
   "source": [
    "## Learning outcomes"
   ]
  },
  {
   "cell_type": "markdown",
   "metadata": {},
   "source": [
    "Having completed this project notebook, you now have good hands-on experience:\n",
    "* using the central limit theorem to help you apply frequentist techniques to answer questions that pertain to very non-normally distributed data from the real world\n",
    "* performing inference using such data to answer business questions\n",
    "* forming a hypothesis and framing the null and alternative hypotheses\n",
    "* testing this using a _t_-test"
   ]
  }
 ],
 "metadata": {
  "kernelspec": {
   "display_name": "base",
   "language": "python",
   "name": "python3"
  },
  "language_info": {
   "codemirror_mode": {
    "name": "ipython",
    "version": 3
   },
   "file_extension": ".py",
   "mimetype": "text/x-python",
   "name": "python",
   "nbconvert_exporter": "python",
   "pygments_lexer": "ipython3",
   "version": "3.11.7"
  }
 },
 "nbformat": 4,
 "nbformat_minor": 2
}
