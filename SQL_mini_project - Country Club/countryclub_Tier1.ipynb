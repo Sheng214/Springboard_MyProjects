{
 "cells": [
  {
   "cell_type": "code",
   "execution_count": 64,
   "id": "f1261f0e-ab94-47dc-8e20-520dcebec7e3",
   "metadata": {},
   "outputs": [
    {
     "name": "stdout",
     "output_type": "stream",
     "text": [
      "2.6.0\n",
      "2. Query all tasks\n"
     ]
    }
   ],
   "source": [
    "import sqlite3\n",
    "from sqlite3 import Error\n",
    "\n",
    " \n",
    "def create_connection(db_file):\n",
    "    \"\"\" create a database connection to the SQLite database\n",
    "        specified by the db_file\n",
    "    :param db_file: database file\n",
    "    :return: Connection object or None\n",
    "    \"\"\"\n",
    "    conn = None\n",
    "    try:\n",
    "        conn = sqlite3.connect(db_file)\n",
    "        print(sqlite3.version)\n",
    "    except Error as e:\n",
    "        print(e)\n",
    " \n",
    "    return conn\n",
    "\n",
    "\n",
    "def select_all_tasks(conn):\n",
    "    \"\"\"\n",
    "    Query all rows in the tasks table\n",
    "    :param conn: the Connection object\n",
    "    :return:\n",
    "    \"\"\"\n",
    "    cur = conn.cursor()\n",
    "    \n",
    "    query1 = \"\"\"\n",
    "        \"\"\"\n",
    "    cur.execute(query1)\n",
    " \n",
    "    rows = cur.fetchall()\n",
    " \n",
    "    for row in rows:\n",
    "        print(row)\n",
    "\n",
    "\n",
    "def main():\n",
    "    database = \"sqlite_db_pythonsqlite.db\"\n",
    " \n",
    "    # create a database connection\n",
    "    conn = create_connection(database)\n",
    "    with conn: \n",
    "        print(\"2. Query all tasks\")\n",
    "        select_all_tasks(conn)\n",
    " \n",
    " \n",
    "if __name__ == '__main__':\n",
    "    main()"
   ]
  },
  {
   "cell_type": "code",
   "execution_count": 65,
   "id": "bac259f9-77da-40e7-a6d7-a318c08edd7a",
   "metadata": {},
   "outputs": [],
   "source": [
    "def select_all_tasks_query(query):\n",
    "    database = \"sqlite_db_pythonsqlite.db\"\n",
    "    conn = create_connection(database)\n",
    "    with conn:\n",
    "        cur = conn.cursor()\n",
    "        cur.execute(query)\n",
    "        rows = cur.fetchall()\n",
    "        for row in rows:\n",
    "            print(row)\n"
   ]
  },
  {
   "cell_type": "code",
   "execution_count": 66,
   "id": "d5e58309-dd86-4f7a-939f-5025eecf3c12",
   "metadata": {},
   "outputs": [
    {
     "name": "stdout",
     "output_type": "stream",
     "text": [
      "2.6.0\n",
      "('Table Tennis', 180)\n",
      "('Snooker Table', 240)\n",
      "('Pool Table', 270)\n"
     ]
    }
   ],
   "source": [
    "# Question 10: Produce a list of facilities with a total revenue less than 1000. The output of facility name and total revenue, sorted by revenue. Remember that there's a different cost for guests and members!\n",
    "\n",
    "query = \"\"\"\n",
    "SELECT NAME,\n",
    "SUM(COST) AS REVENUE\n",
    "FROM\n",
    "(SELECT NAME,\n",
    "CASE WHEN B.MEMID = 0 THEN B.SLOTS * F.GUESTCOST\n",
    "ELSE B.SLOTs * F.MEMBERCOST\n",
    "END AS COST\n",
    "FROM FACILITIES AS F\n",
    "LEFT JOIN BOOKINGS AS B ON F.FACID = B.FACID\n",
    ")\n",
    "GROUP BY NAME\n",
    "HAVING REVENUE < 1000\n",
    "ORDER BY REVENUE;\"\"\"\n",
    "\n",
    "select_all_tasks_query(query)\n"
   ]
  },
  {
   "cell_type": "code",
   "execution_count": 67,
   "id": "09234a04-d706-463c-b2e1-eeebd38a0f02",
   "metadata": {},
   "outputs": [
    {
     "name": "stdout",
     "output_type": "stream",
     "text": [
      "2.6.0\n",
      "('Bader', 'Florence', 'Stibbons', 'Ponder')\n",
      "('Baker', 'Anne', 'Stibbons', 'Ponder')\n",
      "('Baker', 'Timothy', 'Farrell', 'Jemima')\n",
      "('Boothe', 'Tim', 'Rownam', 'Tim')\n",
      "('Butters', 'Gerald', 'Smith', 'Darren')\n",
      "('Coplin', 'Joan', 'Baker', 'Timothy')\n",
      "('Crumpet', 'Erica', 'Smith', 'Tracy')\n",
      "('Dare', 'Nancy', 'Joplette', 'Janice')\n",
      "('Farrell', 'David', None, None)\n",
      "('Farrell', 'Jemima', None, None)\n",
      "('Genting', 'Matthew', 'Butters', 'Gerald')\n",
      "('Hunt', 'John', 'Purview', 'Millicent')\n",
      "('Jones', 'David', 'Joplette', 'Janice')\n",
      "('Jones', 'Douglas', 'Jones', 'David')\n",
      "('Joplette', 'Janice', 'Smith', 'Darren')\n",
      "('Mackenzie', 'Anna', 'Smith', 'Darren')\n",
      "('Owen', 'Charles', 'Smith', 'Darren')\n",
      "('Pinker', 'David', 'Farrell', 'Jemima')\n",
      "('Purview', 'Millicent', 'Smith', 'Tracy')\n",
      "('Rownam', 'Tim', None, None)\n",
      "('Rumney', 'Henrietta', 'Genting', 'Matthew')\n",
      "('Sarwin', 'Ramnaresh', 'Bader', 'Florence')\n",
      "('Smith', 'Darren', None, None)\n",
      "('Smith', 'Darren', None, None)\n",
      "('Smith', 'Jack', 'Smith', 'Darren')\n",
      "('Smith', 'Tracy', None, None)\n",
      "('Stibbons', 'Ponder', 'Tracy', 'Burton')\n",
      "('Tracy', 'Burton', None, None)\n",
      "('Tupperware', 'Hyacinth', None, None)\n",
      "('Worthington-Smyth', 'Henry', 'Smith', 'Tracy')\n"
     ]
    }
   ],
   "source": [
    "# Question 11: Produce a report of members and who recommended them in alphabetic surname,firstname order\n",
    "\n",
    "query = \"\"\"\n",
    "SELECT MEM.SURNAME AS MEM_SUR,\n",
    "MEM.FIRSTNAME AS MEM_FIR,\n",
    "REM.SURNAME AS REM_SUR,\n",
    "REM.FIRSTNAME AS REM_FIR\n",
    "FROM MEMBERS AS MEM\n",
    "LEFT JOIN MEMBERS AS REM ON MEM.RECOMMENDEDBY = REM.MEMID\n",
    "WHERE MEM_SUR != 'GUEST'\n",
    "ORDER BY MEM_SUR, MEM_FIR;\"\"\"\n",
    "\n",
    "select_all_tasks_query(query)"
   ]
  },
  {
   "cell_type": "code",
   "execution_count": 68,
   "id": "f34c6564-b69e-4106-aa0f-b97ad1501525",
   "metadata": {},
   "outputs": [
    {
     "name": "stdout",
     "output_type": "stream",
     "text": [
      "2.6.0\n",
      "('Badminton Court', 344)\n",
      "('Massage Room 1', 421)\n",
      "('Massage Room 2', 27)\n",
      "('Pool Table', 783)\n",
      "('Snooker Table', 421)\n",
      "('Squash Court', 195)\n",
      "('Table Tennis', 385)\n",
      "('Tennis Court 1', 308)\n",
      "('Tennis Court 2', 276)\n"
     ]
    }
   ],
   "source": [
    "# Question 12: Find the facilities with their usage by member, but not guests\n",
    "query = \"\"\"\n",
    "SELECT SUB.NAME,\n",
    "       COUNT(*) AS BOOK_NUM\n",
    "FROM (\n",
    "  SELECT *\n",
    "  FROM FACILITIES AS F\n",
    "  LEFT JOIN BOOKINGS AS B \n",
    "  ON F.FACID = B.FACID\n",
    "  WHERE B.MEMID > 0) AS SUB\n",
    "GROUP BY SUB.NAME;\"\"\"\n",
    "\n",
    "select_all_tasks_query(query)"
   ]
  },
  {
   "cell_type": "code",
   "execution_count": 69,
   "id": "f4473335-c5fb-4821-82dc-e7b0184dd189",
   "metadata": {},
   "outputs": [
    {
     "name": "stdout",
     "output_type": "stream",
     "text": [
      "2.6.0\n",
      "('Badminton Court', '07', 51, 165)\n",
      "('Badminton Court', '08', 132, 414)\n",
      "('Badminton Court', '09', 161, 507)\n",
      "('Massage Room 1', '07', 77, 166)\n",
      "('Massage Room 1', '08', 153, 316)\n",
      "('Massage Room 1', '09', 191, 402)\n",
      "('Massage Room 2', '07', 4, 8)\n",
      "('Massage Room 2', '08', 9, 18)\n",
      "('Massage Room 2', '09', 14, 28)\n",
      "('Pool Table', '07', 103, 110)\n",
      "('Pool Table', '08', 272, 303)\n",
      "('Pool Table', '09', 408, 443)\n",
      "('Snooker Table', '07', 68, 140)\n",
      "('Snooker Table', '08', 154, 316)\n",
      "('Snooker Table', '09', 199, 404)\n",
      "('Squash Court', '07', 23, 50)\n",
      "('Squash Court', '08', 85, 184)\n",
      "('Squash Court', '09', 87, 184)\n",
      "('Table Tennis', '07', 48, 98)\n",
      "('Table Tennis', '08', 143, 296)\n",
      "('Table Tennis', '09', 194, 400)\n",
      "('Tennis Court 1', '07', 65, 201)\n",
      "('Tennis Court 1', '08', 111, 339)\n",
      "('Tennis Court 1', '09', 132, 417)\n",
      "('Tennis Court 2', '07', 41, 123)\n",
      "('Tennis Court 2', '08', 109, 345)\n",
      "('Tennis Court 2', '09', 126, 414)\n"
     ]
    }
   ],
   "source": [
    "# Question 13: Find the facilities usage by month, but not guests\n",
    "\n",
    "query = '''\n",
    "SELECT f.name, \n",
    "       strftime('%m', b.Starttime) AS Month, \n",
    "       COUNT(b.bookid) AS Total_Books, \n",
    "       SUM(b.slots) AS Total_slots\n",
    "FROM FACILITIES AS f\n",
    "LEFT JOIN (\n",
    "    SELECT * \n",
    "    FROM BOOKINGS\n",
    "    WHERE memid != 0) AS b\n",
    "ON f.facid = b.facid\n",
    "GROUP BY f.name, Month;'''\n",
    "\n",
    "select_all_tasks_query(query)"
   ]
  },
  {
   "cell_type": "code",
   "execution_count": 70,
   "id": "d82a287e-2d15-45d9-b85e-09581cbe154d",
   "metadata": {},
   "outputs": [
    {
     "name": "stdout",
     "output_type": "stream",
     "text": [
      "2.6.0\n",
      "('Badminton Court', '07', 51, 165)\n",
      "('Badminton Court', '08', 132, 414)\n",
      "('Badminton Court', '09', 161, 507)\n",
      "('Massage Room 1', '07', 77, 166)\n",
      "('Massage Room 1', '08', 153, 316)\n",
      "('Massage Room 1', '09', 191, 402)\n",
      "('Massage Room 2', '07', 4, 8)\n",
      "('Massage Room 2', '08', 9, 18)\n",
      "('Massage Room 2', '09', 14, 28)\n",
      "('Pool Table', '07', 103, 110)\n",
      "('Pool Table', '08', 272, 303)\n",
      "('Pool Table', '09', 408, 443)\n",
      "('Snooker Table', '07', 68, 140)\n",
      "('Snooker Table', '08', 154, 316)\n",
      "('Snooker Table', '09', 199, 404)\n",
      "('Squash Court', '07', 23, 50)\n",
      "('Squash Court', '08', 85, 184)\n",
      "('Squash Court', '09', 87, 184)\n",
      "('Table Tennis', '07', 48, 98)\n",
      "('Table Tennis', '08', 143, 296)\n",
      "('Table Tennis', '09', 194, 400)\n",
      "('Tennis Court 1', '07', 65, 201)\n",
      "('Tennis Court 1', '08', 111, 339)\n",
      "('Tennis Court 1', '09', 132, 417)\n",
      "('Tennis Court 2', '07', 41, 123)\n",
      "('Tennis Court 2', '08', 109, 345)\n",
      "('Tennis Court 2', '09', 126, 414)\n"
     ]
    }
   ],
   "source": [
    "query = \"\"\"\n",
    "  SELECT SUB.NAME, \n",
    "         SUB.MONTH,\n",
    "         COUNT(*) AS BOOK_NUM,\n",
    "         SUM(SUB.SLOTS) AS TOTAL_SLOTS\n",
    "  FROM\n",
    "  (SELECT F.NAME,\n",
    "          B.SLOTS,\n",
    "          strftime('%m', b.Starttime) AS MONTH\n",
    "  FROM FACILITIES AS F\n",
    "  LEFT JOIN BOOKINGS AS B \n",
    "  ON F.FACID = B.FACID\n",
    "  WHERE B.MEMID > 0) AS SUB\n",
    "  GROUP BY SUB.NAME, SUB.MONTH;\"\"\"\n",
    "\n",
    "select_all_tasks_query(query)"
   ]
  },
  {
   "cell_type": "code",
   "execution_count": null,
   "id": "78bf26a8-62a5-4f42-bf4f-d5f859ecebbb",
   "metadata": {},
   "outputs": [],
   "source": []
  },
  {
   "cell_type": "code",
   "execution_count": null,
   "id": "38443349-4e1f-4001-b7f9-9cddedc03f45",
   "metadata": {},
   "outputs": [],
   "source": []
  }
 ],
 "metadata": {
  "kernelspec": {
   "display_name": "Python 3 (ipykernel)",
   "language": "python",
   "name": "python3"
  },
  "language_info": {
   "codemirror_mode": {
    "name": "ipython",
    "version": 3
   },
   "file_extension": ".py",
   "mimetype": "text/x-python",
   "name": "python",
   "nbconvert_exporter": "python",
   "pygments_lexer": "ipython3",
   "version": "3.11.7"
  }
 },
 "nbformat": 4,
 "nbformat_minor": 5
}
