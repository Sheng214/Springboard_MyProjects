{
 "cells": [
  {
   "cell_type": "markdown",
   "id": "caeb0327-ce63-4060-bc07-66438b7bfa9f",
   "metadata": {
    "tags": []
   },
   "source": [
    "# 1. Import Packages and Saved Data "
   ]
  },
  {
   "cell_type": "code",
   "execution_count": null,
   "id": "aed8afe8-5336-4ef3-808f-eaf7f3f980ee",
   "metadata": {
    "tags": []
   },
   "outputs": [
    {
     "name": "stderr",
     "output_type": "stream",
     "text": [
      "[nltk_data] Downloading package stopwords to C:\\Users\\Sheng\n",
      "[nltk_data]     Miao\\AppData\\Roaming\\nltk_data...\n",
      "[nltk_data]   Package stopwords is already up-to-date!\n",
      "[nltk_data] Downloading package punkt to C:\\Users\\Sheng\n",
      "[nltk_data]     Miao\\AppData\\Roaming\\nltk_data...\n",
      "[nltk_data]   Unzipping tokenizers\\punkt.zip.\n",
      "[nltk_data] Downloading package punkt_tab to C:\\Users\\Sheng\n",
      "[nltk_data]     Miao\\AppData\\Roaming\\nltk_data...\n",
      "[nltk_data]   Package punkt_tab is already up-to-date!\n",
      "[nltk_data] Downloading package averaged_perceptron_tagger_eng to\n",
      "[nltk_data]     C:\\Users\\Sheng Miao\\AppData\\Roaming\\nltk_data...\n",
      "[nltk_data]   Package averaged_perceptron_tagger_eng is already up-to-\n",
      "[nltk_data]       date!\n",
      "[nltk_data] Downloading package wordnet to C:\\Users\\Sheng\n",
      "[nltk_data]     Miao\\AppData\\Roaming\\nltk_data...\n",
      "[nltk_data]   Package wordnet is already up-to-date!\n",
      "[nltk_data] Downloading package averaged_perceptron_tagger to\n",
      "[nltk_data]     C:\\Users\\Sheng Miao\\AppData\\Roaming\\nltk_data...\n",
      "[nltk_data]   Package averaged_perceptron_tagger is already up-to-\n",
      "[nltk_data]       date!\n",
      "[nltk_data] Downloading package omw-1.4 to C:\\Users\\Sheng\n",
      "[nltk_data]     Miao\\AppData\\Roaming\\nltk_data...\n",
      "[nltk_data]   Package omw-1.4 is already up-to-date!\n"
     ]
    },
    {
     "data": {
      "text/plain": [
       "True"
      ]
     },
     "execution_count": 5,
     "metadata": {},
     "output_type": "execute_result"
    }
   ],
   "source": [
    "# %%writefile utils/my_utils.py\n",
    "\n",
    "# Installation\n",
    "# !python -m spacy download en_core_web_sm (# English language model en_core_web_sm used by spaCy for: Tokenization, POS tagging, Lemmatization and Named Entity Recognition (NER))\n",
    "# !pip install scikit-learn\n",
    "# !pip install textblob\n",
    "# %pip install optuna (# Unlike !pip, %pip installs into the current Jupyter kernel's environment reliably)\n",
    "# %pip install imblearn\n",
    "# %pip install --upgrade optuna\n",
    "# %pip install xgboost lightgbm\n",
    "# %pip install shap\n",
    "\n",
    "# Standard libraries\n",
    "import os, io, datetime, sys, json\n",
    "from tqdm import tqdm\n",
    "import joblib\n",
    "from pathlib import Path\n",
    "\n",
    "\n",
    "# Data manipulation\n",
    "import pandas as pd\n",
    "import numpy as np\n",
    "\n",
    "# Visualization\n",
    "import matplotlib.pyplot as plt\n",
    "import seaborn as sns\n",
    "\n",
    "# Split to training and testing datasets\n",
    "from sklearn.model_selection import train_test_split\n",
    "\n",
    "# Feature scaling\n",
    "from sklearn.preprocessing import PowerTransformer\n",
    "\n",
    "# Machine learning\n",
    "from sklearn.linear_model import LogisticRegression\n",
    "from sklearn.ensemble import RandomForestClassifier, StackingClassifier\n",
    "from sklearn.model_selection import cross_val_score, StratifiedKFold\n",
    "from sklearn.metrics import roc_auc_score\n",
    "from sklearn.base import clone\n",
    "import sklearn\n",
    "import optuna\n",
    "from imblearn.over_sampling import SMOTE\n",
    "from imblearn.pipeline import Pipeline as ImbPipeline\n",
    "import xgboost as xgb\n",
    "import lightgbm as lgb\n",
    "import shap\n",
    "\n",
    "#  Natural Language Processing (NLP)\n",
    "import re, string\n",
    "import nltk\n",
    "from nltk import pos_tag, word_tokenize\n",
    "from nltk.corpus import stopwords, wordnet\n",
    "from nltk.stem import WordNetLemmatizer\n",
    "from textblob import TextBlob\n",
    "from collections import Counter\n",
    "import spacy\n",
    "from spacy.tokens import Doc\n",
    "from sklearn.feature_extraction.text import TfidfVectorizer\n",
    "\n",
    "# Download required resources\n",
    "nltk.download('stopwords') # for stopword lists\n",
    "nltk.download('punkt',  force=True)\n",
    "nltk.download('punkt_tab')\n",
    "nltk.download('averaged_perceptron_tagger_eng')\n",
    "nltk.download('wordnet') # for lemmatization\n",
    "nltk.download('averaged_perceptron_tagger') # for POS tagging\n",
    "nltk.download('omw-1.4')"
   ]
  },
  {
   "cell_type": "code",
   "execution_count": 3,
   "id": "6789ae25-11b8-4c69-a135-0cbdb506566f",
   "metadata": {
    "tags": []
   },
   "outputs": [
    {
     "name": "stderr",
     "output_type": "stream",
     "text": [
      "c:\\Users\\Sheng Miao\\anaconda3\\envs\\ds_env\\lib\\site-packages\\sklearn\\base.py:380: InconsistentVersionWarning: Trying to unpickle estimator TfidfTransformer from version 1.7.0 when using version 1.6.1. This might lead to breaking code or invalid results. Use at your own risk. For more info please refer to:\n",
      "https://scikit-learn.org/stable/model_persistence.html#security-maintainability-limitations\n",
      "  warnings.warn(\n",
      "c:\\Users\\Sheng Miao\\anaconda3\\envs\\ds_env\\lib\\site-packages\\sklearn\\base.py:380: InconsistentVersionWarning: Trying to unpickle estimator TfidfVectorizer from version 1.7.0 when using version 1.6.1. This might lead to breaking code or invalid results. Use at your own risk. For more info please refer to:\n",
      "https://scikit-learn.org/stable/model_persistence.html#security-maintainability-limitations\n",
      "  warnings.warn(\n"
     ]
    }
   ],
   "source": [
    "session_data = joblib.load(\"Saved/tfidf_session_1.joblib\")\n",
    "df = session_data['df']\n",
    "tfidf_df = session_data['tfidf_df']\n",
    "tfidf_combined = session_data['tfidf_combined']\n",
    "tfidf_vectorizer = session_data['tfidf_vectorizer']"
   ]
  },
  {
   "cell_type": "code",
   "execution_count": 3,
   "id": "e78949d6-462d-4273-8c02-c15644329121",
   "metadata": {
    "tags": []
   },
   "outputs": [
    {
     "name": "stdout",
     "output_type": "stream",
     "text": [
      "subject_id                  0\n",
      "hadm_id                     0\n",
      "stay_id                     0\n",
      "admittime                   0\n",
      "dischtime                   0\n",
      "intime                      0\n",
      "outtime                     0\n",
      "note_id                     0\n",
      "text                        0\n",
      "length_of_icu_stay          0\n",
      "admit_to_disch              0\n",
      "length_of_icu_stay_hours    0\n",
      "admit_to_disch_hours        0\n",
      "note_length                 0\n",
      "word_count                  0\n",
      "spacy_lemmas                0\n",
      "advanced_spacy_lemmas       0\n",
      "spacy_lemmas_n              0\n",
      "advanced_spacy_lemmas_n     0\n",
      "lemma_text                  0\n",
      "dtype: int64\n"
     ]
    }
   ],
   "source": [
    "print(df.isnull().sum())"
   ]
  },
  {
   "cell_type": "code",
   "execution_count": 4,
   "id": "126056cd-7b08-4a8b-8188-a535a79e5540",
   "metadata": {
    "tags": []
   },
   "outputs": [
    {
     "data": {
      "text/plain": [
       "(10000, 20)"
      ]
     },
     "execution_count": 4,
     "metadata": {},
     "output_type": "execute_result"
    }
   ],
   "source": [
    "df.shape"
   ]
  },
  {
   "cell_type": "code",
   "execution_count": 5,
   "id": "29801ba8-8453-4cee-b8c8-eff9818db32b",
   "metadata": {
    "tags": []
   },
   "outputs": [
    {
     "name": "stdout",
     "output_type": "stream",
     "text": [
      "ab           0\n",
      "abd          0\n",
      "abd soft     0\n",
      "abdoman      0\n",
      "abdomen      0\n",
      "            ..\n",
      "yellow       0\n",
      "yes          0\n",
      "yesterday    0\n",
      "yo           0\n",
      "zosyn        0\n",
      "Length: 2000, dtype: int64\n"
     ]
    }
   ],
   "source": [
    "print(tfidf_df.isnull().sum())"
   ]
  },
  {
   "cell_type": "code",
   "execution_count": 6,
   "id": "5544f2b4-c317-4ff3-8928-821eea4c1f86",
   "metadata": {
    "tags": []
   },
   "outputs": [
    {
     "data": {
      "text/plain": [
       "(10000, 2000)"
      ]
     },
     "execution_count": 6,
     "metadata": {},
     "output_type": "execute_result"
    }
   ],
   "source": [
    "tfidf_df.shape"
   ]
  },
  {
   "cell_type": "code",
   "execution_count": 7,
   "id": "3573e27c-50e4-474f-98ee-c66728872a2e",
   "metadata": {
    "tags": []
   },
   "outputs": [
    {
     "name": "stdout",
     "output_type": "stream",
     "text": [
      "subject_id               0\n",
      "hadm_id                  0\n",
      "stay_id                  0\n",
      "admittime                0\n",
      "dischtime                0\n",
      "                      ... \n",
      "yo                       0\n",
      "zosyn                    0\n",
      "next_admittime        9238\n",
      "days_to_next_admit    9238\n",
      "readmit_30days           0\n",
      "Length: 2023, dtype: int64\n"
     ]
    }
   ],
   "source": [
    "print(tfidf_combined.isnull().sum())"
   ]
  },
  {
   "cell_type": "code",
   "execution_count": 8,
   "id": "b9a4358c-4d04-4f5b-9f5c-1c661fa8b957",
   "metadata": {
    "tags": []
   },
   "outputs": [
    {
     "data": {
      "text/plain": [
       "(10000, 2023)"
      ]
     },
     "execution_count": 8,
     "metadata": {},
     "output_type": "execute_result"
    }
   ],
   "source": [
    "tfidf_combined.shape"
   ]
  },
  {
   "cell_type": "code",
   "execution_count": 9,
   "id": "5818d2be-a3b8-434d-9705-d31a08bb1c95",
   "metadata": {
    "tags": []
   },
   "outputs": [
    {
     "data": {
      "text/plain": [
       "readmit_30days\n",
       "0    9890\n",
       "1     110\n",
       "Name: count, dtype: int64"
      ]
     },
     "execution_count": 9,
     "metadata": {},
     "output_type": "execute_result"
    }
   ],
   "source": [
    "tfidf_combined['readmit_30days'].value_counts()"
   ]
  },
  {
   "cell_type": "code",
   "execution_count": 10,
   "id": "463fe411-ba2b-43fc-b209-bb4683b8228f",
   "metadata": {
    "tags": []
   },
   "outputs": [
    {
     "name": "stdout",
     "output_type": "stream",
     "text": [
      "Subjects with only 1 row: 8615\n",
      "Subjects with 2 rows: 524\n",
      "Subjects with 3+ rows: 99\n"
     ]
    }
   ],
   "source": [
    "# Count how many admissions per subject\n",
    "row_counts = tfidf_combined['subject_id'].value_counts()\n",
    "\n",
    "# Subjects with only 1 row\n",
    "subjects_with_1r = row_counts[row_counts == 1]\n",
    "# Subjects with 2 rows\n",
    "subjects_with_2r = row_counts[row_counts == 2]\n",
    "# Subjects with 3 or more rows\n",
    "subjects_with_3plusr = row_counts[row_counts >= 3]\n",
    "\n",
    "print(f\"Subjects with only 1 row: {len(subjects_with_1r)}\")\n",
    "print(f\"Subjects with 2 rows: {len(subjects_with_2r)}\")\n",
    "print(f\"Subjects with 3+ rows: {len(subjects_with_3plusr)}\")"
   ]
  },
  {
   "cell_type": "markdown",
   "id": "5f698447-814f-42fb-adcb-bacb14b3fd95",
   "metadata": {},
   "source": [
    "This counts the number of rows per subject_id, not the number of distinct hospital admissions (hadm_id). The expected number of null values in the columns next_admittime and days_to_next_admit is 9,238 ( could be calculated as 8,615 + 524 + 99)."
   ]
  },
  {
   "cell_type": "code",
   "execution_count": 11,
   "id": "3805bb60-b17b-4287-9f78-30556f08d398",
   "metadata": {
    "tags": []
   },
   "outputs": [
    {
     "name": "stdout",
     "output_type": "stream",
     "text": [
      "Subjects with only 1 admission: 8732\n",
      "Subjects with 2 admissions: 429\n",
      "Subjects with 3+ admissions: 77\n"
     ]
    }
   ],
   "source": [
    "admit_counts = tfidf_combined.groupby('subject_id')['hadm_id'].nunique()\n",
    "subjects_with_1 = admit_counts[admit_counts == 1]\n",
    "subjects_with_2 = admit_counts[admit_counts == 2]\n",
    "subjects_with_3plus = admit_counts[admit_counts >= 3]\n",
    "\n",
    "print(f\"Subjects with only 1 admission: {len(subjects_with_1)}\")\n",
    "print(f\"Subjects with 2 admissions: {len(subjects_with_2)}\")\n",
    "print(f\"Subjects with 3+ admissions: {len(subjects_with_3plus)}\")\n"
   ]
  },
  {
   "cell_type": "markdown",
   "id": "387e9698-883c-4bf6-8ba5-3791e3d46a10",
   "metadata": {},
   "source": [
    "The expected number of null values in the columns next_admittime and days_to_next_admit is 9,238 (could be calculated as 8,732 + 429 + 77)."
   ]
  },
  {
   "cell_type": "code",
   "execution_count": 12,
   "id": "a8e0c84e-1a23-42f9-a967-07cf719e9bd4",
   "metadata": {
    "tags": []
   },
   "outputs": [
    {
     "data": {
      "text/plain": [
       "0"
      ]
     },
     "execution_count": 12,
     "metadata": {},
     "output_type": "execute_result"
    }
   ],
   "source": [
    "tfidf_combined.admit_to_disch_hours.isnull().sum()"
   ]
  },
  {
   "cell_type": "markdown",
   "id": "2699ca70-13ae-4829-b23e-33e08d98d635",
   "metadata": {},
   "source": [
    "# 2. Data Cleaning"
   ]
  },
  {
   "cell_type": "markdown",
   "id": "0235baf8-37bb-4541-b5ea-08f940739122",
   "metadata": {},
   "source": [
    "## 2.1 Filter DataFrames to Remove Readmission Records"
   ]
  },
  {
   "cell_type": "code",
   "execution_count": 13,
   "id": "9f58ceb7-c012-46e4-994e-fa73c1ee129d",
   "metadata": {
    "tags": []
   },
   "outputs": [
    {
     "name": "stdout",
     "output_type": "stream",
     "text": [
      "Index(['subject_id', 'hadm_id', 'stay_id', 'admittime', 'dischtime', 'intime',\n",
      "       'outtime', 'note_id', 'text', 'length_of_icu_stay', 'admit_to_disch',\n",
      "       'length_of_icu_stay_hours', 'admit_to_disch_hours', 'note_length',\n",
      "       'word_count', 'spacy_lemmas', 'advanced_spacy_lemmas', 'spacy_lemmas_n',\n",
      "       'advanced_spacy_lemmas_n', 'lemma_text'],\n",
      "      dtype='object')\n"
     ]
    }
   ],
   "source": [
    "print(df.columns)"
   ]
  },
  {
   "cell_type": "code",
   "execution_count": 14,
   "id": "82060fae-19e9-4a09-aaad-35a5fb12a99b",
   "metadata": {
    "tags": []
   },
   "outputs": [
    {
     "name": "stdout",
     "output_type": "stream",
     "text": [
      "['subject_id', 'hadm_id', 'stay_id', 'admittime', 'dischtime', 'intime', 'outtime', 'note_id', 'length_of_icu_stay', 'admit_to_disch', 'length_of_icu_stay_hours', 'admit_to_disch_hours', 'note_length', 'word_count', 'spacy_lemmas_n', 'advanced_spacy_lemmas_n']\n"
     ]
    }
   ],
   "source": [
    "struc_data_cols = list(df.drop(columns=['text', 'spacy_lemmas', 'advanced_spacy_lemmas', 'lemma_text' ]).columns)\n",
    "print(struc_data_cols)"
   ]
  },
  {
   "cell_type": "code",
   "execution_count": 15,
   "id": "07b51c5c-b93c-43ea-bb89-d07421705528",
   "metadata": {
    "tags": []
   },
   "outputs": [],
   "source": [
    "struc_data = tfidf_combined[struc_data_cols + ['readmit_30days']]"
   ]
  },
  {
   "cell_type": "code",
   "execution_count": 16,
   "id": "a8f183ab-4c27-4825-8d9b-227f5598ab58",
   "metadata": {
    "tags": []
   },
   "outputs": [
    {
     "data": {
      "text/html": [
       "<div>\n",
       "<style scoped>\n",
       "    .dataframe tbody tr th:only-of-type {\n",
       "        vertical-align: middle;\n",
       "    }\n",
       "\n",
       "    .dataframe tbody tr th {\n",
       "        vertical-align: top;\n",
       "    }\n",
       "\n",
       "    .dataframe thead th {\n",
       "        text-align: right;\n",
       "    }\n",
       "</style>\n",
       "<table border=\"1\" class=\"dataframe\">\n",
       "  <thead>\n",
       "    <tr style=\"text-align: right;\">\n",
       "      <th></th>\n",
       "      <th>subject_id</th>\n",
       "      <th>hadm_id</th>\n",
       "      <th>stay_id</th>\n",
       "      <th>admittime</th>\n",
       "      <th>dischtime</th>\n",
       "      <th>intime</th>\n",
       "      <th>outtime</th>\n",
       "      <th>note_id</th>\n",
       "      <th>length_of_icu_stay</th>\n",
       "      <th>admit_to_disch</th>\n",
       "      <th>length_of_icu_stay_hours</th>\n",
       "      <th>admit_to_disch_hours</th>\n",
       "      <th>note_length</th>\n",
       "      <th>word_count</th>\n",
       "      <th>spacy_lemmas_n</th>\n",
       "      <th>advanced_spacy_lemmas_n</th>\n",
       "      <th>readmit_30days</th>\n",
       "    </tr>\n",
       "  </thead>\n",
       "  <tbody>\n",
       "    <tr>\n",
       "      <th>7793</th>\n",
       "      <td>10000032</td>\n",
       "      <td>29079034</td>\n",
       "      <td>39553978</td>\n",
       "      <td>2180-07-23 12:35:00</td>\n",
       "      <td>2180-07-25 17:55:00</td>\n",
       "      <td>2180-07-23 14:00:00</td>\n",
       "      <td>2180-07-23 23:50:47</td>\n",
       "      <td>10000032-DS-23</td>\n",
       "      <td>0 days 09:50:47</td>\n",
       "      <td>2 days 05:20:00</td>\n",
       "      <td>9.846389</td>\n",
       "      <td>53.333333</td>\n",
       "      <td>10608</td>\n",
       "      <td>1633</td>\n",
       "      <td>862</td>\n",
       "      <td>862</td>\n",
       "      <td>0</td>\n",
       "    </tr>\n",
       "    <tr>\n",
       "      <th>774</th>\n",
       "      <td>10001725</td>\n",
       "      <td>25563031</td>\n",
       "      <td>31205490</td>\n",
       "      <td>2110-04-11 15:08:00</td>\n",
       "      <td>2110-04-14 15:00:00</td>\n",
       "      <td>2110-04-11 15:52:22</td>\n",
       "      <td>2110-04-12 23:59:56</td>\n",
       "      <td>10001725-DS-12</td>\n",
       "      <td>1 days 08:07:34</td>\n",
       "      <td>2 days 23:52:00</td>\n",
       "      <td>32.126111</td>\n",
       "      <td>71.866667</td>\n",
       "      <td>12107</td>\n",
       "      <td>1828</td>\n",
       "      <td>1032</td>\n",
       "      <td>1031</td>\n",
       "      <td>0</td>\n",
       "    </tr>\n",
       "    <tr>\n",
       "      <th>5154</th>\n",
       "      <td>10001884</td>\n",
       "      <td>26184834</td>\n",
       "      <td>37510196</td>\n",
       "      <td>2131-01-07 20:39:00</td>\n",
       "      <td>2131-01-20 05:15:00</td>\n",
       "      <td>2131-01-11 04:20:05</td>\n",
       "      <td>2131-01-20 08:27:30</td>\n",
       "      <td>10001884-DS-38</td>\n",
       "      <td>9 days 04:07:25</td>\n",
       "      <td>12 days 08:36:00</td>\n",
       "      <td>220.123611</td>\n",
       "      <td>296.600000</td>\n",
       "      <td>9303</td>\n",
       "      <td>1371</td>\n",
       "      <td>767</td>\n",
       "      <td>767</td>\n",
       "      <td>0</td>\n",
       "    </tr>\n",
       "    <tr>\n",
       "      <th>4525</th>\n",
       "      <td>10002428</td>\n",
       "      <td>28662225</td>\n",
       "      <td>33987268</td>\n",
       "      <td>2156-04-12 14:16:00</td>\n",
       "      <td>2156-04-29 16:26:00</td>\n",
       "      <td>2156-04-12 16:24:18</td>\n",
       "      <td>2156-04-17 15:57:08</td>\n",
       "      <td>10002428-DS-16</td>\n",
       "      <td>4 days 23:32:50</td>\n",
       "      <td>17 days 02:10:00</td>\n",
       "      <td>119.547222</td>\n",
       "      <td>410.166667</td>\n",
       "      <td>18547</td>\n",
       "      <td>2768</td>\n",
       "      <td>1711</td>\n",
       "      <td>1710</td>\n",
       "      <td>1</td>\n",
       "    </tr>\n",
       "    <tr>\n",
       "      <th>4128</th>\n",
       "      <td>10002428</td>\n",
       "      <td>23473524</td>\n",
       "      <td>35479615</td>\n",
       "      <td>2156-05-11 14:49:00</td>\n",
       "      <td>2156-05-22 14:16:00</td>\n",
       "      <td>2156-05-11 14:49:34</td>\n",
       "      <td>2156-05-22 14:16:46</td>\n",
       "      <td>10002428-DS-18</td>\n",
       "      <td>10 days 23:27:12</td>\n",
       "      <td>10 days 23:27:00</td>\n",
       "      <td>263.453333</td>\n",
       "      <td>263.450000</td>\n",
       "      <td>17123</td>\n",
       "      <td>2537</td>\n",
       "      <td>1451</td>\n",
       "      <td>1450</td>\n",
       "      <td>0</td>\n",
       "    </tr>\n",
       "    <tr>\n",
       "      <th>567</th>\n",
       "      <td>10002930</td>\n",
       "      <td>25922998</td>\n",
       "      <td>35629889</td>\n",
       "      <td>2198-04-17 19:38:00</td>\n",
       "      <td>2198-04-22 16:02:00</td>\n",
       "      <td>2198-04-17 21:24:00</td>\n",
       "      <td>2198-04-18 13:41:43</td>\n",
       "      <td>10002930-DS-12</td>\n",
       "      <td>0 days 16:17:43</td>\n",
       "      <td>4 days 20:24:00</td>\n",
       "      <td>16.295278</td>\n",
       "      <td>116.400000</td>\n",
       "      <td>9599</td>\n",
       "      <td>1415</td>\n",
       "      <td>813</td>\n",
       "      <td>814</td>\n",
       "      <td>0</td>\n",
       "    </tr>\n",
       "    <tr>\n",
       "      <th>8245</th>\n",
       "      <td>10004235</td>\n",
       "      <td>24181354</td>\n",
       "      <td>34100191</td>\n",
       "      <td>2196-02-24 14:38:00</td>\n",
       "      <td>2196-03-04 14:02:00</td>\n",
       "      <td>2196-02-24 17:07:00</td>\n",
       "      <td>2196-02-29 15:58:02</td>\n",
       "      <td>10004235-DS-21</td>\n",
       "      <td>4 days 22:51:02</td>\n",
       "      <td>8 days 23:24:00</td>\n",
       "      <td>118.850556</td>\n",
       "      <td>215.400000</td>\n",
       "      <td>19755</td>\n",
       "      <td>2910</td>\n",
       "      <td>1711</td>\n",
       "      <td>1713</td>\n",
       "      <td>0</td>\n",
       "    </tr>\n",
       "    <tr>\n",
       "      <th>499</th>\n",
       "      <td>10004401</td>\n",
       "      <td>23920883</td>\n",
       "      <td>32743332</td>\n",
       "      <td>2144-04-21 20:29:00</td>\n",
       "      <td>2144-05-01 13:00:00</td>\n",
       "      <td>2144-04-21 20:49:00</td>\n",
       "      <td>2144-05-01 13:53:03</td>\n",
       "      <td>10004401-DS-31</td>\n",
       "      <td>9 days 17:04:03</td>\n",
       "      <td>9 days 16:31:00</td>\n",
       "      <td>233.067500</td>\n",
       "      <td>232.516667</td>\n",
       "      <td>21048</td>\n",
       "      <td>3063</td>\n",
       "      <td>1748</td>\n",
       "      <td>1748</td>\n",
       "      <td>0</td>\n",
       "    </tr>\n",
       "    <tr>\n",
       "      <th>8551</th>\n",
       "      <td>10004422</td>\n",
       "      <td>21255400</td>\n",
       "      <td>32155744</td>\n",
       "      <td>2111-01-15 14:55:00</td>\n",
       "      <td>2111-01-25 15:00:00</td>\n",
       "      <td>2111-01-17 09:44:50</td>\n",
       "      <td>2111-01-23 18:18:46</td>\n",
       "      <td>10004422-DS-19</td>\n",
       "      <td>6 days 08:33:56</td>\n",
       "      <td>10 days 00:05:00</td>\n",
       "      <td>152.565556</td>\n",
       "      <td>240.083333</td>\n",
       "      <td>7803</td>\n",
       "      <td>1210</td>\n",
       "      <td>717</td>\n",
       "      <td>716</td>\n",
       "      <td>0</td>\n",
       "    </tr>\n",
       "    <tr>\n",
       "      <th>2779</th>\n",
       "      <td>10006580</td>\n",
       "      <td>24159665</td>\n",
       "      <td>38329661</td>\n",
       "      <td>2137-08-10 11:00:00</td>\n",
       "      <td>2137-08-15 13:25:00</td>\n",
       "      <td>2137-08-10 16:23:10</td>\n",
       "      <td>2137-08-11 13:56:56</td>\n",
       "      <td>10006580-DS-21</td>\n",
       "      <td>0 days 21:33:46</td>\n",
       "      <td>5 days 02:25:00</td>\n",
       "      <td>21.562778</td>\n",
       "      <td>122.416667</td>\n",
       "      <td>6651</td>\n",
       "      <td>1043</td>\n",
       "      <td>599</td>\n",
       "      <td>599</td>\n",
       "      <td>0</td>\n",
       "    </tr>\n",
       "  </tbody>\n",
       "</table>\n",
       "</div>"
      ],
      "text/plain": [
       "      subject_id   hadm_id   stay_id           admittime           dischtime  \\\n",
       "7793    10000032  29079034  39553978 2180-07-23 12:35:00 2180-07-25 17:55:00   \n",
       "774     10001725  25563031  31205490 2110-04-11 15:08:00 2110-04-14 15:00:00   \n",
       "5154    10001884  26184834  37510196 2131-01-07 20:39:00 2131-01-20 05:15:00   \n",
       "4525    10002428  28662225  33987268 2156-04-12 14:16:00 2156-04-29 16:26:00   \n",
       "4128    10002428  23473524  35479615 2156-05-11 14:49:00 2156-05-22 14:16:00   \n",
       "567     10002930  25922998  35629889 2198-04-17 19:38:00 2198-04-22 16:02:00   \n",
       "8245    10004235  24181354  34100191 2196-02-24 14:38:00 2196-03-04 14:02:00   \n",
       "499     10004401  23920883  32743332 2144-04-21 20:29:00 2144-05-01 13:00:00   \n",
       "8551    10004422  21255400  32155744 2111-01-15 14:55:00 2111-01-25 15:00:00   \n",
       "2779    10006580  24159665  38329661 2137-08-10 11:00:00 2137-08-15 13:25:00   \n",
       "\n",
       "                  intime             outtime         note_id  \\\n",
       "7793 2180-07-23 14:00:00 2180-07-23 23:50:47  10000032-DS-23   \n",
       "774  2110-04-11 15:52:22 2110-04-12 23:59:56  10001725-DS-12   \n",
       "5154 2131-01-11 04:20:05 2131-01-20 08:27:30  10001884-DS-38   \n",
       "4525 2156-04-12 16:24:18 2156-04-17 15:57:08  10002428-DS-16   \n",
       "4128 2156-05-11 14:49:34 2156-05-22 14:16:46  10002428-DS-18   \n",
       "567  2198-04-17 21:24:00 2198-04-18 13:41:43  10002930-DS-12   \n",
       "8245 2196-02-24 17:07:00 2196-02-29 15:58:02  10004235-DS-21   \n",
       "499  2144-04-21 20:49:00 2144-05-01 13:53:03  10004401-DS-31   \n",
       "8551 2111-01-17 09:44:50 2111-01-23 18:18:46  10004422-DS-19   \n",
       "2779 2137-08-10 16:23:10 2137-08-11 13:56:56  10006580-DS-21   \n",
       "\n",
       "     length_of_icu_stay   admit_to_disch  length_of_icu_stay_hours  \\\n",
       "7793    0 days 09:50:47  2 days 05:20:00                  9.846389   \n",
       "774     1 days 08:07:34  2 days 23:52:00                 32.126111   \n",
       "5154    9 days 04:07:25 12 days 08:36:00                220.123611   \n",
       "4525    4 days 23:32:50 17 days 02:10:00                119.547222   \n",
       "4128   10 days 23:27:12 10 days 23:27:00                263.453333   \n",
       "567     0 days 16:17:43  4 days 20:24:00                 16.295278   \n",
       "8245    4 days 22:51:02  8 days 23:24:00                118.850556   \n",
       "499     9 days 17:04:03  9 days 16:31:00                233.067500   \n",
       "8551    6 days 08:33:56 10 days 00:05:00                152.565556   \n",
       "2779    0 days 21:33:46  5 days 02:25:00                 21.562778   \n",
       "\n",
       "      admit_to_disch_hours  note_length  word_count  spacy_lemmas_n  \\\n",
       "7793             53.333333        10608        1633             862   \n",
       "774              71.866667        12107        1828            1032   \n",
       "5154            296.600000         9303        1371             767   \n",
       "4525            410.166667        18547        2768            1711   \n",
       "4128            263.450000        17123        2537            1451   \n",
       "567             116.400000         9599        1415             813   \n",
       "8245            215.400000        19755        2910            1711   \n",
       "499             232.516667        21048        3063            1748   \n",
       "8551            240.083333         7803        1210             717   \n",
       "2779            122.416667         6651        1043             599   \n",
       "\n",
       "      advanced_spacy_lemmas_n  readmit_30days  \n",
       "7793                      862               0  \n",
       "774                      1031               0  \n",
       "5154                      767               0  \n",
       "4525                     1710               1  \n",
       "4128                     1450               0  \n",
       "567                       814               0  \n",
       "8245                     1713               0  \n",
       "499                      1748               0  \n",
       "8551                      716               0  \n",
       "2779                      599               0  "
      ]
     },
     "execution_count": 16,
     "metadata": {},
     "output_type": "execute_result"
    }
   ],
   "source": [
    "struc_data.head(10)"
   ]
  },
  {
   "cell_type": "code",
   "execution_count": 17,
   "id": "7d0812c7-c86f-44f3-bde4-322f3489f0cf",
   "metadata": {
    "tags": []
   },
   "outputs": [
    {
     "data": {
      "text/plain": [
       "subject_id\n",
       "10000032    1\n",
       "10001725    1\n",
       "10001884    1\n",
       "10002428    2\n",
       "10002930    1\n",
       "Name: hadm_id, dtype: int64"
      ]
     },
     "execution_count": 17,
     "metadata": {},
     "output_type": "execute_result"
    }
   ],
   "source": [
    "# Count number of unique hadm_ids per subject_id\n",
    "hadm_counts = struc_data.groupby('subject_id')['hadm_id'].nunique()\n",
    "hadm_counts.head()"
   ]
  },
  {
   "cell_type": "code",
   "execution_count": 18,
   "id": "7e6e5eb7-87f3-4875-9ec9-34340037be33",
   "metadata": {
    "tags": []
   },
   "outputs": [
    {
     "name": "stdout",
     "output_type": "stream",
     "text": [
      "<class 'pandas.core.series.Series'>\n"
     ]
    }
   ],
   "source": [
    "print(type(hadm_counts))"
   ]
  },
  {
   "cell_type": "code",
   "execution_count": 19,
   "id": "6d865639-737c-4dc2-9a14-496b26f43e3c",
   "metadata": {
    "tags": []
   },
   "outputs": [],
   "source": [
    "# Get subject_ids that have more than one hadm_id\n",
    "readm_subjects = hadm_counts[hadm_counts > 1].index\n",
    "sigadm_subjects = hadm_counts[hadm_counts == 1].index"
   ]
  },
  {
   "cell_type": "code",
   "execution_count": 20,
   "id": "bdcb5f13-ef5c-446c-b155-a5ab0ec3664c",
   "metadata": {
    "tags": []
   },
   "outputs": [],
   "source": [
    "readm_struc_data = struc_data[struc_data['subject_id'].isin(readm_subjects)]"
   ]
  },
  {
   "cell_type": "code",
   "execution_count": 21,
   "id": "fb07ce16-be6f-4dfd-9284-a3d548b70722",
   "metadata": {
    "tags": []
   },
   "outputs": [
    {
     "data": {
      "text/html": [
       "<div>\n",
       "<style scoped>\n",
       "    .dataframe tbody tr th:only-of-type {\n",
       "        vertical-align: middle;\n",
       "    }\n",
       "\n",
       "    .dataframe tbody tr th {\n",
       "        vertical-align: top;\n",
       "    }\n",
       "\n",
       "    .dataframe thead th {\n",
       "        text-align: right;\n",
       "    }\n",
       "</style>\n",
       "<table border=\"1\" class=\"dataframe\">\n",
       "  <thead>\n",
       "    <tr style=\"text-align: right;\">\n",
       "      <th></th>\n",
       "      <th>subject_id</th>\n",
       "      <th>hadm_id</th>\n",
       "      <th>stay_id</th>\n",
       "      <th>admittime</th>\n",
       "      <th>dischtime</th>\n",
       "      <th>intime</th>\n",
       "      <th>outtime</th>\n",
       "      <th>note_id</th>\n",
       "      <th>length_of_icu_stay</th>\n",
       "      <th>admit_to_disch</th>\n",
       "      <th>length_of_icu_stay_hours</th>\n",
       "      <th>admit_to_disch_hours</th>\n",
       "      <th>note_length</th>\n",
       "      <th>word_count</th>\n",
       "      <th>spacy_lemmas_n</th>\n",
       "      <th>advanced_spacy_lemmas_n</th>\n",
       "      <th>readmit_30days</th>\n",
       "    </tr>\n",
       "  </thead>\n",
       "  <tbody>\n",
       "    <tr>\n",
       "      <th>4525</th>\n",
       "      <td>10002428</td>\n",
       "      <td>28662225</td>\n",
       "      <td>33987268</td>\n",
       "      <td>2156-04-12 14:16:00</td>\n",
       "      <td>2156-04-29 16:26:00</td>\n",
       "      <td>2156-04-12 16:24:18</td>\n",
       "      <td>2156-04-17 15:57:08</td>\n",
       "      <td>10002428-DS-16</td>\n",
       "      <td>4 days 23:32:50</td>\n",
       "      <td>17 days 02:10:00</td>\n",
       "      <td>119.547222</td>\n",
       "      <td>410.166667</td>\n",
       "      <td>18547</td>\n",
       "      <td>2768</td>\n",
       "      <td>1711</td>\n",
       "      <td>1710</td>\n",
       "      <td>1</td>\n",
       "    </tr>\n",
       "    <tr>\n",
       "      <th>4128</th>\n",
       "      <td>10002428</td>\n",
       "      <td>23473524</td>\n",
       "      <td>35479615</td>\n",
       "      <td>2156-05-11 14:49:00</td>\n",
       "      <td>2156-05-22 14:16:00</td>\n",
       "      <td>2156-05-11 14:49:34</td>\n",
       "      <td>2156-05-22 14:16:46</td>\n",
       "      <td>10002428-DS-18</td>\n",
       "      <td>10 days 23:27:12</td>\n",
       "      <td>10 days 23:27:00</td>\n",
       "      <td>263.453333</td>\n",
       "      <td>263.450000</td>\n",
       "      <td>17123</td>\n",
       "      <td>2537</td>\n",
       "      <td>1451</td>\n",
       "      <td>1450</td>\n",
       "      <td>0</td>\n",
       "    </tr>\n",
       "    <tr>\n",
       "      <th>4818</th>\n",
       "      <td>10020740</td>\n",
       "      <td>23831430</td>\n",
       "      <td>35889503</td>\n",
       "      <td>2150-03-11 15:34:00</td>\n",
       "      <td>2150-04-25 13:50:00</td>\n",
       "      <td>2150-03-25 18:22:56</td>\n",
       "      <td>2150-03-28 22:20:47</td>\n",
       "      <td>10020740-DS-17</td>\n",
       "      <td>3 days 03:57:51</td>\n",
       "      <td>44 days 22:16:00</td>\n",
       "      <td>75.964167</td>\n",
       "      <td>1078.266667</td>\n",
       "      <td>23272</td>\n",
       "      <td>3576</td>\n",
       "      <td>2047</td>\n",
       "      <td>2044</td>\n",
       "      <td>0</td>\n",
       "    </tr>\n",
       "    <tr>\n",
       "      <th>9526</th>\n",
       "      <td>10020740</td>\n",
       "      <td>25826145</td>\n",
       "      <td>32145159</td>\n",
       "      <td>2150-06-03 20:12:00</td>\n",
       "      <td>2150-06-07 15:05:00</td>\n",
       "      <td>2150-06-03 20:12:32</td>\n",
       "      <td>2150-06-04 21:05:58</td>\n",
       "      <td>10020740-DS-18</td>\n",
       "      <td>1 days 00:53:26</td>\n",
       "      <td>3 days 18:53:00</td>\n",
       "      <td>24.890556</td>\n",
       "      <td>90.883333</td>\n",
       "      <td>8635</td>\n",
       "      <td>1330</td>\n",
       "      <td>719</td>\n",
       "      <td>717</td>\n",
       "      <td>0</td>\n",
       "    </tr>\n",
       "    <tr>\n",
       "      <th>643</th>\n",
       "      <td>10021927</td>\n",
       "      <td>25202388</td>\n",
       "      <td>39489017</td>\n",
       "      <td>2177-12-21 01:12:00</td>\n",
       "      <td>2177-12-23 20:40:00</td>\n",
       "      <td>2177-12-21 04:43:40</td>\n",
       "      <td>2177-12-21 20:39:40</td>\n",
       "      <td>10021927-DS-24</td>\n",
       "      <td>0 days 15:56:00</td>\n",
       "      <td>2 days 19:28:00</td>\n",
       "      <td>15.933333</td>\n",
       "      <td>67.466667</td>\n",
       "      <td>14680</td>\n",
       "      <td>2201</td>\n",
       "      <td>1197</td>\n",
       "      <td>1198</td>\n",
       "      <td>0</td>\n",
       "    </tr>\n",
       "    <tr>\n",
       "      <th>3398</th>\n",
       "      <td>10021927</td>\n",
       "      <td>24623461</td>\n",
       "      <td>34575919</td>\n",
       "      <td>2180-09-20 10:01:00</td>\n",
       "      <td>2180-09-27 10:32:00</td>\n",
       "      <td>2180-09-20 11:22:00</td>\n",
       "      <td>2180-09-27 12:31:45</td>\n",
       "      <td>10021927-DS-31</td>\n",
       "      <td>7 days 01:09:45</td>\n",
       "      <td>7 days 00:31:00</td>\n",
       "      <td>169.162500</td>\n",
       "      <td>168.516667</td>\n",
       "      <td>7439</td>\n",
       "      <td>1074</td>\n",
       "      <td>626</td>\n",
       "      <td>626</td>\n",
       "      <td>0</td>\n",
       "    </tr>\n",
       "    <tr>\n",
       "      <th>6167</th>\n",
       "      <td>10030753</td>\n",
       "      <td>24506973</td>\n",
       "      <td>30109052</td>\n",
       "      <td>2199-07-18 20:02:00</td>\n",
       "      <td>2199-07-23 17:00:00</td>\n",
       "      <td>2199-07-19 01:25:25</td>\n",
       "      <td>2199-07-22 01:41:49</td>\n",
       "      <td>10030753-DS-42</td>\n",
       "      <td>3 days 00:16:24</td>\n",
       "      <td>4 days 20:58:00</td>\n",
       "      <td>72.273333</td>\n",
       "      <td>116.966667</td>\n",
       "      <td>19069</td>\n",
       "      <td>2840</td>\n",
       "      <td>1563</td>\n",
       "      <td>1563</td>\n",
       "      <td>0</td>\n",
       "    </tr>\n",
       "    <tr>\n",
       "      <th>7192</th>\n",
       "      <td>10030753</td>\n",
       "      <td>26611680</td>\n",
       "      <td>34476284</td>\n",
       "      <td>2201-04-28 03:02:00</td>\n",
       "      <td>2201-06-02 17:00:00</td>\n",
       "      <td>2201-04-28 04:40:00</td>\n",
       "      <td>2201-05-01 23:31:27</td>\n",
       "      <td>10030753-DS-58</td>\n",
       "      <td>3 days 18:51:27</td>\n",
       "      <td>35 days 13:58:00</td>\n",
       "      <td>90.857500</td>\n",
       "      <td>853.966667</td>\n",
       "      <td>24303</td>\n",
       "      <td>3462</td>\n",
       "      <td>1998</td>\n",
       "      <td>1998</td>\n",
       "      <td>0</td>\n",
       "    </tr>\n",
       "    <tr>\n",
       "      <th>4437</th>\n",
       "      <td>10049041</td>\n",
       "      <td>22620123</td>\n",
       "      <td>39508268</td>\n",
       "      <td>2164-01-18 23:23:00</td>\n",
       "      <td>2164-01-21 14:46:00</td>\n",
       "      <td>2164-01-19 02:58:00</td>\n",
       "      <td>2164-01-21 14:46:46</td>\n",
       "      <td>10049041-DS-22</td>\n",
       "      <td>2 days 11:48:46</td>\n",
       "      <td>2 days 15:23:00</td>\n",
       "      <td>59.812778</td>\n",
       "      <td>63.383333</td>\n",
       "      <td>15132</td>\n",
       "      <td>2273</td>\n",
       "      <td>1266</td>\n",
       "      <td>1266</td>\n",
       "      <td>1</td>\n",
       "    </tr>\n",
       "    <tr>\n",
       "      <th>3004</th>\n",
       "      <td>10049041</td>\n",
       "      <td>22532814</td>\n",
       "      <td>38600445</td>\n",
       "      <td>2164-01-26 16:20:00</td>\n",
       "      <td>2164-01-30 15:38:00</td>\n",
       "      <td>2164-01-26 16:20:44</td>\n",
       "      <td>2164-01-30 15:39:10</td>\n",
       "      <td>10049041-DS-23</td>\n",
       "      <td>3 days 23:18:26</td>\n",
       "      <td>3 days 23:18:00</td>\n",
       "      <td>95.307222</td>\n",
       "      <td>95.300000</td>\n",
       "      <td>13792</td>\n",
       "      <td>2021</td>\n",
       "      <td>1107</td>\n",
       "      <td>1106</td>\n",
       "      <td>0</td>\n",
       "    </tr>\n",
       "  </tbody>\n",
       "</table>\n",
       "</div>"
      ],
      "text/plain": [
       "      subject_id   hadm_id   stay_id           admittime           dischtime  \\\n",
       "4525    10002428  28662225  33987268 2156-04-12 14:16:00 2156-04-29 16:26:00   \n",
       "4128    10002428  23473524  35479615 2156-05-11 14:49:00 2156-05-22 14:16:00   \n",
       "4818    10020740  23831430  35889503 2150-03-11 15:34:00 2150-04-25 13:50:00   \n",
       "9526    10020740  25826145  32145159 2150-06-03 20:12:00 2150-06-07 15:05:00   \n",
       "643     10021927  25202388  39489017 2177-12-21 01:12:00 2177-12-23 20:40:00   \n",
       "3398    10021927  24623461  34575919 2180-09-20 10:01:00 2180-09-27 10:32:00   \n",
       "6167    10030753  24506973  30109052 2199-07-18 20:02:00 2199-07-23 17:00:00   \n",
       "7192    10030753  26611680  34476284 2201-04-28 03:02:00 2201-06-02 17:00:00   \n",
       "4437    10049041  22620123  39508268 2164-01-18 23:23:00 2164-01-21 14:46:00   \n",
       "3004    10049041  22532814  38600445 2164-01-26 16:20:00 2164-01-30 15:38:00   \n",
       "\n",
       "                  intime             outtime         note_id  \\\n",
       "4525 2156-04-12 16:24:18 2156-04-17 15:57:08  10002428-DS-16   \n",
       "4128 2156-05-11 14:49:34 2156-05-22 14:16:46  10002428-DS-18   \n",
       "4818 2150-03-25 18:22:56 2150-03-28 22:20:47  10020740-DS-17   \n",
       "9526 2150-06-03 20:12:32 2150-06-04 21:05:58  10020740-DS-18   \n",
       "643  2177-12-21 04:43:40 2177-12-21 20:39:40  10021927-DS-24   \n",
       "3398 2180-09-20 11:22:00 2180-09-27 12:31:45  10021927-DS-31   \n",
       "6167 2199-07-19 01:25:25 2199-07-22 01:41:49  10030753-DS-42   \n",
       "7192 2201-04-28 04:40:00 2201-05-01 23:31:27  10030753-DS-58   \n",
       "4437 2164-01-19 02:58:00 2164-01-21 14:46:46  10049041-DS-22   \n",
       "3004 2164-01-26 16:20:44 2164-01-30 15:39:10  10049041-DS-23   \n",
       "\n",
       "     length_of_icu_stay   admit_to_disch  length_of_icu_stay_hours  \\\n",
       "4525    4 days 23:32:50 17 days 02:10:00                119.547222   \n",
       "4128   10 days 23:27:12 10 days 23:27:00                263.453333   \n",
       "4818    3 days 03:57:51 44 days 22:16:00                 75.964167   \n",
       "9526    1 days 00:53:26  3 days 18:53:00                 24.890556   \n",
       "643     0 days 15:56:00  2 days 19:28:00                 15.933333   \n",
       "3398    7 days 01:09:45  7 days 00:31:00                169.162500   \n",
       "6167    3 days 00:16:24  4 days 20:58:00                 72.273333   \n",
       "7192    3 days 18:51:27 35 days 13:58:00                 90.857500   \n",
       "4437    2 days 11:48:46  2 days 15:23:00                 59.812778   \n",
       "3004    3 days 23:18:26  3 days 23:18:00                 95.307222   \n",
       "\n",
       "      admit_to_disch_hours  note_length  word_count  spacy_lemmas_n  \\\n",
       "4525            410.166667        18547        2768            1711   \n",
       "4128            263.450000        17123        2537            1451   \n",
       "4818           1078.266667        23272        3576            2047   \n",
       "9526             90.883333         8635        1330             719   \n",
       "643              67.466667        14680        2201            1197   \n",
       "3398            168.516667         7439        1074             626   \n",
       "6167            116.966667        19069        2840            1563   \n",
       "7192            853.966667        24303        3462            1998   \n",
       "4437             63.383333        15132        2273            1266   \n",
       "3004             95.300000        13792        2021            1107   \n",
       "\n",
       "      advanced_spacy_lemmas_n  readmit_30days  \n",
       "4525                     1710               1  \n",
       "4128                     1450               0  \n",
       "4818                     2044               0  \n",
       "9526                      717               0  \n",
       "643                      1198               0  \n",
       "3398                      626               0  \n",
       "6167                     1563               0  \n",
       "7192                     1998               0  \n",
       "4437                     1266               1  \n",
       "3004                     1106               0  "
      ]
     },
     "execution_count": 21,
     "metadata": {},
     "output_type": "execute_result"
    }
   ],
   "source": [
    "readm_struc_data.head(10)"
   ]
  },
  {
   "cell_type": "markdown",
   "id": "16fcff94-7b78-4b44-8437-fe18468e67b7",
   "metadata": {},
   "source": [
    "For the same subject, the notes for different hadm_id are different. I only need to keep the first admission record for those subjects with more than one hospital admission. "
   ]
  },
  {
   "cell_type": "code",
   "execution_count": 22,
   "id": "d03a45a7-a0c6-433b-a82c-72390d15d209",
   "metadata": {
    "tags": []
   },
   "outputs": [],
   "source": [
    "# records of subjects with only one hospital admission\n",
    "sigadm_tfidf_combined = tfidf_combined[tfidf_combined['subject_id'].isin(sigadm_subjects)]\n",
    "\n",
    "# Filter out readmission records\n",
    "readm_tfidf_combined = tfidf_combined[tfidf_combined['subject_id'].isin(readm_subjects)]\n",
    "readm_tfidf_combined_sorted = readm_tfidf_combined.sort_values(by=['subject_id', 'admittime'])\n",
    "readm_tfidf_combined_1st = readm_tfidf_combined_sorted.groupby('subject_id').first().reset_index()\n",
    "\n",
    "# Combine the two sets\n",
    "tfidf_1to1 = pd.concat([sigadm_tfidf_combined, readm_tfidf_combined_1st], ignore_index=True)"
   ]
  },
  {
   "cell_type": "code",
   "execution_count": 23,
   "id": "8b421888-899a-4e71-9078-c6cd1bf562c6",
   "metadata": {
    "tags": []
   },
   "outputs": [
    {
     "data": {
      "text/plain": [
       "(8853, 2023)"
      ]
     },
     "execution_count": 23,
     "metadata": {},
     "output_type": "execute_result"
    }
   ],
   "source": [
    "sigadm_tfidf_combined.shape"
   ]
  },
  {
   "cell_type": "code",
   "execution_count": 24,
   "id": "f37a3d28-368a-4611-b8b6-be3e6c03fba2",
   "metadata": {
    "tags": []
   },
   "outputs": [
    {
     "data": {
      "text/plain": [
       "(506, 2023)"
      ]
     },
     "execution_count": 24,
     "metadata": {},
     "output_type": "execute_result"
    }
   ],
   "source": [
    "readm_tfidf_combined_1st.shape"
   ]
  },
  {
   "cell_type": "code",
   "execution_count": 25,
   "id": "ad0d7bba-ae43-419d-9289-ba13c2491766",
   "metadata": {
    "tags": []
   },
   "outputs": [
    {
     "data": {
      "text/plain": [
       "(9359, 2023)"
      ]
     },
     "execution_count": 25,
     "metadata": {},
     "output_type": "execute_result"
    }
   ],
   "source": [
    "tfidf_1to1.shape"
   ]
  },
  {
   "cell_type": "markdown",
   "id": "33c64c1f-16d9-4cd0-9493-c2838a62c95d",
   "metadata": {},
   "source": [
    "Note that the 8,853 records correspond to subjects with only one hospital admission. However, the same subject_id and hadm_id can have multiple icu_id values, resulting in multiple rows per admission."
   ]
  },
  {
   "cell_type": "code",
   "execution_count": 26,
   "id": "72e47ee1-59c3-40e9-8e3d-9065d67b2252",
   "metadata": {
    "tags": []
   },
   "outputs": [],
   "source": [
    "# Get the current working directory\n",
    "current_dir = os.getcwd()\n",
    "\n",
    "# # Create the full path\n",
    "folder_path = os.path.join(current_dir, 'Saved')\n",
    "\n",
    "# Save to csv file\n",
    "tfidf_1to1.to_csv(os.path.join(folder_path, \"tfidf_1to1_1.csv\"), index=False)"
   ]
  },
  {
   "cell_type": "markdown",
   "id": "1e87d403-975a-4efb-961e-eaad698e811c",
   "metadata": {},
   "source": [
    "## 2.2 Remove 10 Records with Mistakes Where dischtime < admittime"
   ]
  },
  {
   "cell_type": "code",
   "execution_count": 27,
   "id": "e0ddc3a8-13be-41df-b05d-0e741cb2dfb3",
   "metadata": {
    "tags": []
   },
   "outputs": [
    {
     "data": {
      "text/plain": [
       "0"
      ]
     },
     "execution_count": 27,
     "metadata": {},
     "output_type": "execute_result"
    }
   ],
   "source": [
    "tfidf_1to1.admit_to_disch_hours.isnull().sum()"
   ]
  },
  {
   "cell_type": "code",
   "execution_count": 28,
   "id": "3298689b-5db4-460b-899a-eebcce09422a",
   "metadata": {
    "tags": []
   },
   "outputs": [
    {
     "data": {
      "text/html": [
       "<div>\n",
       "<style scoped>\n",
       "    .dataframe tbody tr th:only-of-type {\n",
       "        vertical-align: middle;\n",
       "    }\n",
       "\n",
       "    .dataframe tbody tr th {\n",
       "        vertical-align: top;\n",
       "    }\n",
       "\n",
       "    .dataframe thead th {\n",
       "        text-align: right;\n",
       "    }\n",
       "</style>\n",
       "<table border=\"1\" class=\"dataframe\">\n",
       "  <thead>\n",
       "    <tr style=\"text-align: right;\">\n",
       "      <th></th>\n",
       "      <th>subject_id</th>\n",
       "      <th>hadm_id</th>\n",
       "      <th>stay_id</th>\n",
       "      <th>admittime</th>\n",
       "      <th>dischtime</th>\n",
       "      <th>intime</th>\n",
       "      <th>outtime</th>\n",
       "      <th>note_id</th>\n",
       "      <th>text</th>\n",
       "      <th>length_of_icu_stay</th>\n",
       "      <th>admit_to_disch</th>\n",
       "      <th>length_of_icu_stay_hours</th>\n",
       "      <th>admit_to_disch_hours</th>\n",
       "      <th>note_length</th>\n",
       "      <th>word_count</th>\n",
       "    </tr>\n",
       "  </thead>\n",
       "  <tbody>\n",
       "    <tr>\n",
       "      <th>44</th>\n",
       "      <td>10049642</td>\n",
       "      <td>26714941</td>\n",
       "      <td>36139911</td>\n",
       "      <td>2177-02-20 03:15:00</td>\n",
       "      <td>2177-02-20 02:30:00</td>\n",
       "      <td>2177-02-20 04:25:00</td>\n",
       "      <td>2177-02-21 02:40:41</td>\n",
       "      <td>10049642-DS-11</td>\n",
       "      <td>\\nName:  ___                     Unit No:   _...</td>\n",
       "      <td>0 days 22:15:41</td>\n",
       "      <td>-1 days +23:15:00</td>\n",
       "      <td>22.261389</td>\n",
       "      <td>-0.750000</td>\n",
       "      <td>3384</td>\n",
       "      <td>485</td>\n",
       "    </tr>\n",
       "    <tr>\n",
       "      <th>908</th>\n",
       "      <td>11042406</td>\n",
       "      <td>20609236</td>\n",
       "      <td>37639959</td>\n",
       "      <td>2131-01-31 15:08:00</td>\n",
       "      <td>2131-01-31 03:11:00</td>\n",
       "      <td>2131-01-31 16:03:00</td>\n",
       "      <td>2131-02-01 03:12:39</td>\n",
       "      <td>11042406-DS-29</td>\n",
       "      <td>\\nName:  ___                     Unit No:   _...</td>\n",
       "      <td>0 days 11:09:39</td>\n",
       "      <td>-1 days +12:03:00</td>\n",
       "      <td>11.160833</td>\n",
       "      <td>-11.950000</td>\n",
       "      <td>6101</td>\n",
       "      <td>907</td>\n",
       "    </tr>\n",
       "    <tr>\n",
       "      <th>1115</th>\n",
       "      <td>11230841</td>\n",
       "      <td>29647253</td>\n",
       "      <td>30674813</td>\n",
       "      <td>2179-04-26 04:28:00</td>\n",
       "      <td>2179-04-26 03:20:00</td>\n",
       "      <td>2179-04-26 05:39:00</td>\n",
       "      <td>2179-04-27 03:21:06</td>\n",
       "      <td>11230841-DS-13</td>\n",
       "      <td>\\nName:  ___               Unit No:   ___\\n \\...</td>\n",
       "      <td>0 days 21:42:06</td>\n",
       "      <td>-1 days +22:52:00</td>\n",
       "      <td>21.701667</td>\n",
       "      <td>-1.133333</td>\n",
       "      <td>11142</td>\n",
       "      <td>1607</td>\n",
       "    </tr>\n",
       "    <tr>\n",
       "      <th>1284</th>\n",
       "      <td>11436324</td>\n",
       "      <td>24532041</td>\n",
       "      <td>36082292</td>\n",
       "      <td>2110-02-14 02:13:00</td>\n",
       "      <td>2110-02-14 00:00:00</td>\n",
       "      <td>2110-02-14 03:47:00</td>\n",
       "      <td>2110-02-15 03:19:49</td>\n",
       "      <td>11436324-DS-12</td>\n",
       "      <td>\\nName:  ___                    Unit No:   __...</td>\n",
       "      <td>0 days 23:32:49</td>\n",
       "      <td>-1 days +21:47:00</td>\n",
       "      <td>23.546944</td>\n",
       "      <td>-2.216667</td>\n",
       "      <td>3797</td>\n",
       "      <td>540</td>\n",
       "    </tr>\n",
       "    <tr>\n",
       "      <th>1473</th>\n",
       "      <td>11660628</td>\n",
       "      <td>23822647</td>\n",
       "      <td>31337610</td>\n",
       "      <td>2177-01-30 22:43:00</td>\n",
       "      <td>2177-01-30 00:02:00</td>\n",
       "      <td>2177-01-30 23:00:00</td>\n",
       "      <td>2177-01-31 01:33:20</td>\n",
       "      <td>11660628-DS-20</td>\n",
       "      <td>\\nName:  ___                   Unit No:   ___...</td>\n",
       "      <td>0 days 02:33:20</td>\n",
       "      <td>-1 days +01:19:00</td>\n",
       "      <td>2.555556</td>\n",
       "      <td>-22.683333</td>\n",
       "      <td>4907</td>\n",
       "      <td>734</td>\n",
       "    </tr>\n",
       "    <tr>\n",
       "      <th>2030</th>\n",
       "      <td>12297145</td>\n",
       "      <td>20989293</td>\n",
       "      <td>39349688</td>\n",
       "      <td>2159-06-30 05:42:00</td>\n",
       "      <td>2159-06-30 00:10:00</td>\n",
       "      <td>2159-06-30 06:33:00</td>\n",
       "      <td>2159-07-01 03:01:40</td>\n",
       "      <td>12297145-DS-9</td>\n",
       "      <td>\\nName:  ___              Unit No:   ___\\n \\n...</td>\n",
       "      <td>0 days 20:28:40</td>\n",
       "      <td>-1 days +18:28:00</td>\n",
       "      <td>20.477778</td>\n",
       "      <td>-5.533333</td>\n",
       "      <td>9397</td>\n",
       "      <td>1414</td>\n",
       "    </tr>\n",
       "    <tr>\n",
       "      <th>4364</th>\n",
       "      <td>14868965</td>\n",
       "      <td>23276491</td>\n",
       "      <td>37614792</td>\n",
       "      <td>2111-12-05 11:56:00</td>\n",
       "      <td>2111-12-05 00:01:00</td>\n",
       "      <td>2111-12-05 13:41:00</td>\n",
       "      <td>2111-12-06 03:14:14</td>\n",
       "      <td>14868965-DS-15</td>\n",
       "      <td>\\nName:  ___               Unit No:   ___\\n \\...</td>\n",
       "      <td>0 days 13:33:14</td>\n",
       "      <td>-1 days +12:05:00</td>\n",
       "      <td>13.553889</td>\n",
       "      <td>-11.916667</td>\n",
       "      <td>9667</td>\n",
       "      <td>1419</td>\n",
       "    </tr>\n",
       "    <tr>\n",
       "      <th>4699</th>\n",
       "      <td>15286220</td>\n",
       "      <td>27705860</td>\n",
       "      <td>38334069</td>\n",
       "      <td>2177-09-05 17:05:00</td>\n",
       "      <td>2177-09-05 00:12:00</td>\n",
       "      <td>2177-09-05 18:26:00</td>\n",
       "      <td>2177-09-06 06:21:56</td>\n",
       "      <td>15286220-DS-19</td>\n",
       "      <td>\\nName:  ___                 Unit No:   ___\\n...</td>\n",
       "      <td>0 days 11:55:56</td>\n",
       "      <td>-1 days +07:07:00</td>\n",
       "      <td>11.932222</td>\n",
       "      <td>-16.883333</td>\n",
       "      <td>5901</td>\n",
       "      <td>895</td>\n",
       "    </tr>\n",
       "    <tr>\n",
       "      <th>6091</th>\n",
       "      <td>16831009</td>\n",
       "      <td>25098547</td>\n",
       "      <td>31760614</td>\n",
       "      <td>2134-12-21 02:39:00</td>\n",
       "      <td>2134-12-21 00:54:00</td>\n",
       "      <td>2134-12-21 03:59:00</td>\n",
       "      <td>2134-12-22 00:54:57</td>\n",
       "      <td>16831009-DS-5</td>\n",
       "      <td>\\nName:  ___                      Unit No:   ...</td>\n",
       "      <td>0 days 20:55:57</td>\n",
       "      <td>-1 days +22:15:00</td>\n",
       "      <td>20.932500</td>\n",
       "      <td>-1.750000</td>\n",
       "      <td>14688</td>\n",
       "      <td>2124</td>\n",
       "    </tr>\n",
       "    <tr>\n",
       "      <th>6766</th>\n",
       "      <td>17631949</td>\n",
       "      <td>20451446</td>\n",
       "      <td>31516595</td>\n",
       "      <td>2181-03-26 14:59:00</td>\n",
       "      <td>2181-03-26 00:05:00</td>\n",
       "      <td>2181-03-26 16:56:00</td>\n",
       "      <td>2181-03-27 00:05:47</td>\n",
       "      <td>17631949-DS-21</td>\n",
       "      <td>\\nName:  ___                    Unit No:   __...</td>\n",
       "      <td>0 days 07:09:47</td>\n",
       "      <td>-1 days +09:06:00</td>\n",
       "      <td>7.163056</td>\n",
       "      <td>-14.900000</td>\n",
       "      <td>9536</td>\n",
       "      <td>1380</td>\n",
       "    </tr>\n",
       "  </tbody>\n",
       "</table>\n",
       "</div>"
      ],
      "text/plain": [
       "      subject_id   hadm_id   stay_id           admittime           dischtime  \\\n",
       "44      10049642  26714941  36139911 2177-02-20 03:15:00 2177-02-20 02:30:00   \n",
       "908     11042406  20609236  37639959 2131-01-31 15:08:00 2131-01-31 03:11:00   \n",
       "1115    11230841  29647253  30674813 2179-04-26 04:28:00 2179-04-26 03:20:00   \n",
       "1284    11436324  24532041  36082292 2110-02-14 02:13:00 2110-02-14 00:00:00   \n",
       "1473    11660628  23822647  31337610 2177-01-30 22:43:00 2177-01-30 00:02:00   \n",
       "2030    12297145  20989293  39349688 2159-06-30 05:42:00 2159-06-30 00:10:00   \n",
       "4364    14868965  23276491  37614792 2111-12-05 11:56:00 2111-12-05 00:01:00   \n",
       "4699    15286220  27705860  38334069 2177-09-05 17:05:00 2177-09-05 00:12:00   \n",
       "6091    16831009  25098547  31760614 2134-12-21 02:39:00 2134-12-21 00:54:00   \n",
       "6766    17631949  20451446  31516595 2181-03-26 14:59:00 2181-03-26 00:05:00   \n",
       "\n",
       "                  intime             outtime         note_id  \\\n",
       "44   2177-02-20 04:25:00 2177-02-21 02:40:41  10049642-DS-11   \n",
       "908  2131-01-31 16:03:00 2131-02-01 03:12:39  11042406-DS-29   \n",
       "1115 2179-04-26 05:39:00 2179-04-27 03:21:06  11230841-DS-13   \n",
       "1284 2110-02-14 03:47:00 2110-02-15 03:19:49  11436324-DS-12   \n",
       "1473 2177-01-30 23:00:00 2177-01-31 01:33:20  11660628-DS-20   \n",
       "2030 2159-06-30 06:33:00 2159-07-01 03:01:40   12297145-DS-9   \n",
       "4364 2111-12-05 13:41:00 2111-12-06 03:14:14  14868965-DS-15   \n",
       "4699 2177-09-05 18:26:00 2177-09-06 06:21:56  15286220-DS-19   \n",
       "6091 2134-12-21 03:59:00 2134-12-22 00:54:57   16831009-DS-5   \n",
       "6766 2181-03-26 16:56:00 2181-03-27 00:05:47  17631949-DS-21   \n",
       "\n",
       "                                                   text length_of_icu_stay  \\\n",
       "44     \\nName:  ___                     Unit No:   _...    0 days 22:15:41   \n",
       "908    \\nName:  ___                     Unit No:   _...    0 days 11:09:39   \n",
       "1115   \\nName:  ___               Unit No:   ___\\n \\...    0 days 21:42:06   \n",
       "1284   \\nName:  ___                    Unit No:   __...    0 days 23:32:49   \n",
       "1473   \\nName:  ___                   Unit No:   ___...    0 days 02:33:20   \n",
       "2030   \\nName:  ___              Unit No:   ___\\n \\n...    0 days 20:28:40   \n",
       "4364   \\nName:  ___               Unit No:   ___\\n \\...    0 days 13:33:14   \n",
       "4699   \\nName:  ___                 Unit No:   ___\\n...    0 days 11:55:56   \n",
       "6091   \\nName:  ___                      Unit No:   ...    0 days 20:55:57   \n",
       "6766   \\nName:  ___                    Unit No:   __...    0 days 07:09:47   \n",
       "\n",
       "        admit_to_disch  length_of_icu_stay_hours  admit_to_disch_hours  \\\n",
       "44   -1 days +23:15:00                 22.261389             -0.750000   \n",
       "908  -1 days +12:03:00                 11.160833            -11.950000   \n",
       "1115 -1 days +22:52:00                 21.701667             -1.133333   \n",
       "1284 -1 days +21:47:00                 23.546944             -2.216667   \n",
       "1473 -1 days +01:19:00                  2.555556            -22.683333   \n",
       "2030 -1 days +18:28:00                 20.477778             -5.533333   \n",
       "4364 -1 days +12:05:00                 13.553889            -11.916667   \n",
       "4699 -1 days +07:07:00                 11.932222            -16.883333   \n",
       "6091 -1 days +22:15:00                 20.932500             -1.750000   \n",
       "6766 -1 days +09:06:00                  7.163056            -14.900000   \n",
       "\n",
       "      note_length  word_count  \n",
       "44           3384         485  \n",
       "908          6101         907  \n",
       "1115        11142        1607  \n",
       "1284         3797         540  \n",
       "1473         4907         734  \n",
       "2030         9397        1414  \n",
       "4364         9667        1419  \n",
       "4699         5901         895  \n",
       "6091        14688        2124  \n",
       "6766         9536        1380  "
      ]
     },
     "execution_count": 28,
     "metadata": {},
     "output_type": "execute_result"
    }
   ],
   "source": [
    "tfidf_1to1.loc[tfidf_1to1.admit_to_disch_hours < 0, tfidf_1to1.columns[:15]]"
   ]
  },
  {
   "cell_type": "code",
   "execution_count": 29,
   "id": "4262256c-a014-4bc2-a4c1-3d9b34e042e8",
   "metadata": {
    "tags": []
   },
   "outputs": [
    {
     "data": {
      "text/plain": [
       "44      0\n",
       "908     0\n",
       "1115    0\n",
       "1284    0\n",
       "1473    0\n",
       "2030    0\n",
       "4364    0\n",
       "4699    0\n",
       "6091    0\n",
       "6766    0\n",
       "Name: readmit_30days, dtype: int64"
      ]
     },
     "execution_count": 29,
     "metadata": {},
     "output_type": "execute_result"
    }
   ],
   "source": [
    "tfidf_1to1.loc[tfidf_1to1.admit_to_disch_hours < 0, tfidf_1to1.columns[-1]]"
   ]
  },
  {
   "cell_type": "markdown",
   "id": "32e63110-2a44-4489-9de4-dd5781894ab4",
   "metadata": {},
   "source": [
    "These 10 records are clearly flawed (discharge before admission). They are from the majority class (0) which is overrepresented already — so removing them won't hurt class balance."
   ]
  },
  {
   "cell_type": "code",
   "execution_count": 30,
   "id": "fbac062f-87f6-4fd1-a464-5aa202314225",
   "metadata": {
    "tags": []
   },
   "outputs": [],
   "source": [
    "tfidf_1to1_dropped_1 = tfidf_1to1.loc[tfidf_1to1.admit_to_disch_hours > 0]"
   ]
  },
  {
   "cell_type": "code",
   "execution_count": 31,
   "id": "e9df28ad-6c4c-4c76-bec6-5df6384a56ee",
   "metadata": {},
   "outputs": [],
   "source": [
    "# Get the current working directory\n",
    "current_dir = os.getcwd()\n",
    "\n",
    "# # Create the full path\n",
    "folder_path = os.path.join(current_dir, 'Saved')\n",
    "\n",
    "# Save to csv file\n",
    "tfidf_1to1_dropped_1.to_csv(os.path.join(folder_path, \"tfidf_1to1_dropped_1.csv\"), index=False)"
   ]
  },
  {
   "cell_type": "markdown",
   "id": "00c879ca-6f33-418d-8c49-8a32737332d8",
   "metadata": {},
   "source": [
    "## 2.3 Eliminate Non-Predictive or Redundant Columns"
   ]
  },
  {
   "cell_type": "markdown",
   "id": "c10c282f-1454-4509-b678-3b9f6aa89736",
   "metadata": {},
   "source": [
    "### Feature Selection Summary for Modeling\n",
    "\n",
    "#### Columns to Keep (after preprocessing if needed):\n",
    "\n",
    "- `length_of_icu_stay_hours`, `admit_to_disch_hours`  \n",
    "  - hour-based durations.\n",
    "- `note_length`, `word_count`  \n",
    "  - Simple text-based numeric features — useful for modeling.\n",
    "- `spacy_lemmas_n`, `advanced_spacy_lemmas_n`  \n",
    "  - Counts of tokens/lemmas — useful numeric features.\n",
    "\n",
    "#### Columns to Drop Before Modeling:\n",
    "\n",
    "- `subject_id`, `hadm_id`, `stay_id`, `note_id`  \n",
    "  - Identifiers — not useful for modeling; drop unless used for grouping/joining.\n",
    "- `text`, `spacy_lemmas`, `advanced_spacy_lemmas`  \n",
    "  - Raw/semi-processed text — drop **after** extracting features.\n",
    "- `admittime`, `dischtime`, `intime`, `outtime`, `next_admittime`\n",
    "  - Already convert to durations or extract time features (e.g., time of day, length of stay).\n",
    "- `lemma_text`  \n",
    "  - Already apply to text vectorization (e.g., TF-IDF or ClinicalBERT).\n",
    "- `length_of_icu_stay`, `admit_to_disch`, `days_to_next_admit`  \n",
    "  - Day-based durations, redundent to hour-based durations or binary values which have been kept."
   ]
  },
  {
   "cell_type": "code",
   "execution_count": 32,
   "id": "0189f057-d687-444e-b546-888d0f0f98d1",
   "metadata": {
    "tags": []
   },
   "outputs": [],
   "source": [
    "cols_to_drop = ['subject_id', 'hadm_id', 'stay_id', 'note_id', 'text', 'spacy_lemmas', 'advanced_spacy_lemmas', \n",
    "                'admittime', 'dischtime', 'intime', 'outtime', 'lemma_text', 'length_of_icu_stay', \n",
    "                'admit_to_disch', 'next_admittime', 'days_to_next_admit']\n",
    "cols_to_keep = ['length_of_icu_stay_hours', 'admit_to_disch_hours', 'note_length', 'word_count', 'spacy_lemmas_n', 'advanced_spacy_lemmas_n']"
   ]
  },
  {
   "cell_type": "code",
   "execution_count": 33,
   "id": "76b53eb3-25e4-45c8-a8f5-9160b5449f0e",
   "metadata": {
    "tags": []
   },
   "outputs": [],
   "source": [
    "tfidf_1to1_dropped_2 = tfidf_1to1_dropped_1.drop(columns=cols_to_drop)"
   ]
  },
  {
   "cell_type": "code",
   "execution_count": 34,
   "id": "da32c836-4d1e-43ee-8acf-ec91cd3ab714",
   "metadata": {
    "tags": []
   },
   "outputs": [
    {
     "name": "stdout",
     "output_type": "stream",
     "text": [
      "Index(['length_of_icu_stay_hours', 'admit_to_disch_hours', 'note_length',\n",
      "       'word_count', 'spacy_lemmas_n', 'advanced_spacy_lemmas_n', 'ab', 'abd',\n",
      "       'abd soft', 'abdoman'],\n",
      "      dtype='object')\n"
     ]
    }
   ],
   "source": [
    "print(tfidf_1to1_dropped_2.iloc[: , :10].columns)"
   ]
  },
  {
   "cell_type": "code",
   "execution_count": 35,
   "id": "22811359-d6b8-47f3-a61a-3510e94318ba",
   "metadata": {},
   "outputs": [],
   "source": [
    "# Get the current working directory\n",
    "current_dir = os.getcwd()\n",
    "\n",
    "# # Create the full path\n",
    "folder_path = os.path.join(current_dir, 'Saved')\n",
    "\n",
    "# Save to csv file\n",
    "tfidf_1to1_dropped_2.to_csv(os.path.join(folder_path, \"tfidf_1to1_dropped_2.csv\"), index=False)"
   ]
  },
  {
   "cell_type": "markdown",
   "id": "81a71793-5477-4e4c-8619-3dabdfb4f8bc",
   "metadata": {},
   "source": [
    "# 3. Feature Engineering"
   ]
  },
  {
   "cell_type": "markdown",
   "id": "89d81df7-19d6-4408-8cb2-0660af2cf449",
   "metadata": {},
   "source": [
    "## 3.1 Examine the Distribution of Retained Variables"
   ]
  },
  {
   "cell_type": "code",
   "execution_count": 36,
   "id": "ed79aa46-942b-456d-a899-efa2aaef1309",
   "metadata": {
    "tags": []
   },
   "outputs": [
    {
     "data": {
      "image/png": "[encoded data removed]",
      "text/plain": [
       "<Figure size 1500x1000 with 6 Axes>"
      ]
     },
     "metadata": {},
     "output_type": "display_data"
    }
   ],
   "source": [
    "# Plot distributions\n",
    "fig, axes = plt.subplots(nrows=2, ncols=3, figsize=(15, 10))\n",
    "axes = axes.flatten()\n",
    "\n",
    "for i, col in enumerate(cols_to_keep):\n",
    "    sns.histplot(tfidf_1to1_dropped_2[col], bins=30, kde=True, ax=axes[i])\n",
    "    axes[i].set_title(col)\n",
    "\n",
    "# Remove empty subplots (if any)\n",
    "for idx in range(i + 1, len(axes)):\n",
    "    fig.delaxes(axes[idx])\n",
    "\n",
    "plt.tight_layout()\n",
    "plt.show()"
   ]
  },
  {
   "cell_type": "markdown",
   "id": "2bb63177-20cc-4550-aad5-574a015b7769",
   "metadata": {},
   "source": [
    "## 3.2 Assigned Scalers for Retained Variables"
   ]
  },
  {
   "cell_type": "markdown",
   "id": "b721fe1e-22c5-4e7a-a8db-f8a545757325",
   "metadata": {},
   "source": [
    "### Scaler Selection Logic\n",
    "\n",
    "|Condition | Best Scaling Method |\n",
    "|------------| -------------------- |\n",
    "|Near-normal distributions with limited outliers| StandardScaler | \n",
    "|Non-Gaussian but no extreme outliers | MinMaxScaler | \n",
    "|Strong outliers, large spread, or moderate skew | RobustScaler | \n",
    "|Highly skewed (e.g., >1.0), heavy-tailed distribution | Log Transformation | "
   ]
  },
  {
   "cell_type": "code",
   "execution_count": 37,
   "id": "fbb62608-87c7-400a-a3fd-f4c6f3fac540",
   "metadata": {
    "tags": []
   },
   "outputs": [
    {
     "name": "stdout",
     "output_type": "stream",
     "text": [
      "Overwriting utils/auto_assign_scalers.py\n"
     ]
    }
   ],
   "source": [
    "%%writefile utils/auto_assign_scalers.py\n",
    "\n",
    "# Function to automatically classify variables into scalers based on statistical thresholds and predefined ordinal variables\n",
    "def auto_assign_scalers(df, feat2scale, ordinal_vars=None):\n",
    "    \"\"\"\n",
    "    Automatically assigns numerical variables to appropriate scalers based on statistical thresholds.\n",
    "    \n",
    "    Parameters:\n",
    "        feat2scale: A list of numerical variables needed to be scaled.\n",
    "        ordinal_vars (list): List of ordinal variables that should use MinMaxScaler.\n",
    "        \n",
    "    Returns:\n",
    "        dict: Dictionary containing scaler assignments for each variable.\n",
    "    \"\"\"\n",
    "    if ordinal_vars is None:\n",
    "        ordinal_vars = []  # Default empty list if no ordinal variables specified\n",
    "    \n",
    "    scaler_groups = {\"MinMaxScaler\": [], \"StandardScaler\": [], \"RobustScaler\": [], \"LogTransform\": []}\n",
    "    statistics = {'Scaler': [], 'Variable': [], 'Why': [], 'Outlier_count': [], 'Skewness': [] , 'Kurtosis': [], 'Range_val/IQR':[]}\n",
    "\n",
    "    for col in feat2scale:\n",
    "        Q1 = df[col].quantile(0.25)\n",
    "        Q3 = df[col].quantile(0.75)\n",
    "        IQR = Q3 - Q1\n",
    "        lower_bound = Q1 - 1.5 * IQR\n",
    "        upper_bound = Q3 + 1.5 * IQR\n",
    "        outliers = df[(df[col] < lower_bound) | (df[col] > upper_bound)][col]\n",
    "\n",
    "        # Compute relevant statistics\n",
    "        range_val = df[col].max() - df[col].min()\n",
    "        median_distance = df[col].max() - df[col].median()\n",
    "        outlier_count = len(outliers)\n",
    "        skewness = df[col].skew()\n",
    "        kurtosis = df[col].kurt()\n",
    "\n",
    "        # Special handling for ordinal variables (force MinMaxScaler)\n",
    "        if col in ordinal_vars:\n",
    "            # For discrete ordinal variables, assign highly skewed ones for RobustScaler\n",
    "            if outlier_count > 10:  \n",
    "                scaler_groups[\"RobustScaler\"].append(col)\n",
    "                statistics['Scaler'].append(\"RobustScaler\")\n",
    "                statistics['Variable'].append(col)\n",
    "                statistics['Outlier_count'].append(outlier_count)\n",
    "                statistics['Skewness'].append(abs(skewness))\n",
    "                statistics['Kurtosis'].append(abs(kurtosis))\n",
    "                statistics['Range_val/IQR'].append(range_val/IQR  if IQR != 0 else np.nan)\n",
    "                statistics['Why'].append('ordinal variable with outlier > 10')\n",
    "            # For discrete ordinal variables, remaining for MinMaxScaler\n",
    "            else:\n",
    "                scaler_groups[\"MinMaxScaler\"].append(col)\n",
    "                statistics['Scaler'].append(\"MinMaxScaler\")\n",
    "                statistics['Variable'].append(col)\n",
    "                statistics['Outlier_count'].append(outlier_count)\n",
    "                statistics['Skewness'].append(abs(skewness))\n",
    "                statistics['Kurtosis'].append(abs(kurtosis))\n",
    "                statistics['Range_val/IQR'].append(range_val/IQR  if IQR != 0 else np.nan)\n",
    "                statistics['Why'].append('ordinal variables')\n",
    "        else:\n",
    "            # For remaining continuous variables, firstly, find out normal distribution and assign them under Standard scaler\n",
    "            # StandardScaler only for near-normal distributions with limited outliers\n",
    "            if outlier_count < 5 and abs(skewness) < 0.5 and abs(kurtosis) < 3.0 and range_val < 5 * IQR:\n",
    "                scaler_groups[\"StandardScaler\"].append(col)\n",
    "                statistics['Scaler'].append(\"StandardScaler\")\n",
    "                statistics['Variable'].append(col)\n",
    "                statistics['Outlier_count'].append(outlier_count)\n",
    "                statistics['Skewness'].append(abs(skewness))\n",
    "                statistics['Kurtosis'].append(abs(kurtosis))\n",
    "                statistics['Range_val/IQR'].append(range_val/IQR  if IQR != 0 else np.nan)\n",
    "                statistics['Why'].append('outlier < 5 & skew < 0.5 & kurtosis < 3 & range < 5 * IQR')\n",
    "            # For remaining continuous variables, secondly, find out less normal distribution and assign them under MinMaxScaler\n",
    "            # MinMaxScaler for non-Gaussian but no extreme outliers\n",
    "            elif outlier_count < 5 and abs(skewness) < 0.5 and range_val < 10 * IQR:\n",
    "                scaler_groups[\"MinMaxScaler\"].append(col)\n",
    "                statistics['Scaler'].append(\"MinMaxScaler\")\n",
    "                statistics['Variable'].append(col)\n",
    "                statistics['Outlier_count'].append(outlier_count)\n",
    "                statistics['Skewness'].append(abs(skewness))\n",
    "                statistics['Kurtosis'].append(abs(kurtosis))\n",
    "                statistics['Range_val/IQR'].append(range_val/IQR  if IQR != 0 else np.nan)\n",
    "                statistics['Why'].append('outlier < 5 & skew < 0.5 & range < 10 * IQR')\n",
    "            # For remaining continuous variables, thirdly, find out extreme skewed distribution and assign them under Log Transformation. As the degree of skewness increases, PowerTransformer generally performs better than RobustScaler.\n",
    "            # Log Transform for highly skewed distributions with heavy tails\n",
    "            elif abs(skewness) > 1.0 and kurtosis > 2.0:\n",
    "                scaler_groups[\"LogTransform\"].append(col)\n",
    "                statistics['Scaler'].append(\"LogTransform\")\n",
    "                statistics['Variable'].append(col)\n",
    "                statistics['Outlier_count'].append(outlier_count)\n",
    "                statistics['Skewness'].append(abs(skewness))\n",
    "                statistics['Kurtosis'].append(abs(kurtosis))\n",
    "                statistics['Range_val/IQR'].append(range_val/IQR if IQR != 0 else np.nan)\n",
    "                statistics['Why'].append('skew > 1.0 & kurtosis > 2.0') \n",
    "            # For remaining continuous variables, fourthly, find out less extreme skewed distribution and assign them under RobustScaler\n",
    "            # RobustScaler for strong outliers, large spread, or moderate skew\n",
    "            elif outlier_count > 5 or range_val > 10 * IQR or abs(skewness) > 0.5:\n",
    "                scaler_groups[\"RobustScaler\"].append(col)\n",
    "                statistics['Scaler'].append(\"RobustScaler\")\n",
    "                statistics['Variable'].append(col)\n",
    "                statistics['Outlier_count'].append(outlier_count)\n",
    "                statistics['Skewness'].append(abs(skewness))\n",
    "                statistics['Kurtosis'].append(abs(kurtosis))\n",
    "                statistics['Range_val/IQR'].append(range_val/IQR  if IQR != 0 else np.nan)\n",
    "                statistics['Why'].append('outlier > 5 or skew > 0.5  or range > 10 * IQR')\n",
    "            # For remaining continuous variables, at last, assign the remaining variables for MinMaxScaler\n",
    "            else:\n",
    "                scaler_groups[\"MinMaxScaler\"].append(col)  # Default to StandardScaler\n",
    "                statistics['Scaler'].append(\"MinMaxScaler\")\n",
    "                statistics['Variable'].append(col)\n",
    "                statistics['Outlier_count'].append(outlier_count)\n",
    "                statistics['Skewness'].append(abs(skewness))\n",
    "                statistics['Kurtosis'].append(abs(kurtosis))\n",
    "                statistics['Range_val/IQR'].append(range_val/IQR  if IQR != 0 else np.nan)\n",
    "                statistics['Why'].append('Default as MinMaxScaler')  \n",
    "\n",
    "    return scaler_groups,  statistics"
   ]
  },
  {
   "cell_type": "code",
   "execution_count": 38,
   "id": "6fbfe490-bf4b-4854-97b8-362e8d91555c",
   "metadata": {
    "tags": []
   },
   "outputs": [
    {
     "data": {
      "image/png": "[encoded data removed]",
      "text/plain": [
       "<Figure size 2000x180 with 1 Axes>"
      ]
     },
     "metadata": {},
     "output_type": "display_data"
    }
   ],
   "source": [
    "from utils.auto_assign_scalers import auto_assign_scalers\n",
    "\n",
    "# Apply the customized function auto_assign_scalers() to classify 6 numerical variables\n",
    "scaler_results, statistics = auto_assign_scalers(tfidf_1to1_dropped_2, cols_to_keep)\n",
    "\n",
    "# Display the assigned scalers for each variable\n",
    "scaler_df = pd.DataFrame({key: pd.Series(val) for key, val in scaler_results.items()})\n",
    "statistics_df = pd.DataFrame({key: pd.Series(val) for key, val in statistics.items()})\n",
    "scaler_df = scaler_df.fillna('')\n",
    "\n",
    "# Set up figure and axis\n",
    "fig, ax = plt.subplots(figsize=(20, len(scaler_df) * 0.3))  # Adjust height based on number of rows\n",
    "\n",
    "# Hide axes\n",
    "ax.axis('off')\n",
    "\n",
    "# Create the table and add it to the plot\n",
    "table = pd.plotting.table(ax, scaler_df, loc='center', cellLoc='center', colWidths=[0.15]*len(scaler_df.columns))\n",
    "\n",
    "# Style the table\n",
    "table.auto_set_font_size(False)\n",
    "table.set_fontsize(10)\n",
    "table.scale(1, 1.2)\n",
    "\n",
    "# Bold the header row\n",
    "for (row, col), cell in table.get_celld().items():\n",
    "    if row == 0:\n",
    "        cell.set_text_props(weight='bold')\n",
    "\n"
   ]
  },
  {
   "cell_type": "markdown",
   "id": "020120a6-5af6-425a-9674-0318de7f2987",
   "metadata": {},
   "source": [
    "## 3.3 Split Data into Training and Testing Sets first, then Apply Feature Scaling"
   ]
  },
  {
   "cell_type": "code",
   "execution_count": 39,
   "id": "d74ea81a-3861-4498-8f83-69428c709f12",
   "metadata": {
    "tags": []
   },
   "outputs": [
    {
     "data": {
      "text/plain": [
       "0"
      ]
     },
     "execution_count": 39,
     "metadata": {},
     "output_type": "execute_result"
    }
   ],
   "source": [
    "tfidf_1to1_dropped_2.admit_to_disch_hours.isnull().sum()"
   ]
  },
  {
   "cell_type": "code",
   "execution_count": 40,
   "id": "e61927d7-f004-4368-9132-2c90196bf677",
   "metadata": {
    "tags": []
   },
   "outputs": [],
   "source": [
    "X_train, X_test, y_train, y_test = train_test_split(tfidf_1to1_dropped_2.drop(columns=['readmit_30days']),\n",
    "                                                    tfidf_1to1_dropped_2['readmit_30days'], test_size=0.3, \n",
    "                                                    random_state=42)"
   ]
  },
  {
   "cell_type": "code",
   "execution_count": 41,
   "id": "af80e292-82da-4b9d-898b-c8081f9494dc",
   "metadata": {
    "tags": []
   },
   "outputs": [
    {
     "data": {
      "text/plain": [
       "0"
      ]
     },
     "execution_count": 41,
     "metadata": {},
     "output_type": "execute_result"
    }
   ],
   "source": [
    "X_train.admit_to_disch_hours.isnull().sum()"
   ]
  },
  {
   "cell_type": "code",
   "execution_count": 42,
   "id": "c4e23fdb-88ea-418b-85c1-c804bd2bf6ab",
   "metadata": {
    "tags": []
   },
   "outputs": [
    {
     "data": {
      "text/plain": [
       "0"
      ]
     },
     "execution_count": 42,
     "metadata": {},
     "output_type": "execute_result"
    }
   ],
   "source": [
    "X_test.admit_to_disch_hours.isnull().sum()"
   ]
  },
  {
   "cell_type": "code",
   "execution_count": 43,
   "id": "9b521f54-703b-4708-b107-3fef43e8dc9b",
   "metadata": {
    "tags": []
   },
   "outputs": [],
   "source": [
    "# Define the methods dictionary\n",
    "method_dict = {\n",
    "    'reference_year': lambda df, col, ref_year: df[col] - ref_year,\n",
    "    'sin_cos_transform': lambda df, col: (\n",
    "        df.assign(**{f\"{col}_sin\": np.sin(2 * np.pi * df[col] / 12),\n",
    "                     f\"{col}_cos\": np.cos(2 * np.pi * df[col] / 12)}).drop(columns=[col])\n",
    "    ),\n",
    "    'MinMaxScaler': lambda: MinMaxScaler(), # Factory function to create a new instance\n",
    "    'StandardScaler': lambda: StandardScaler(),\n",
    "    'RobustScaler': lambda: RobustScaler(),\n",
    "    'LogTransform': lambda df, col: np.log1p(df[col])  # log(1 + X) to handle zero values\n",
    "}\n",
    "\n",
    "# Define a dictionary of each variable as key and its assigned scaler as value\n",
    "variable_to_method = dict(zip(statistics['Variable'], statistics['Scaler']))\n",
    "\n",
    "# Create a dictionary to store fitted scalers\n",
    "scaler_instances = {}\n",
    "\n",
    "year_cols = []  # Default empty list if no specified\n",
    "    \n",
    "month_cols = []  # Default empty list if no specified\n",
    "\n",
    "# Apply scaler methods\n",
    "for col in cols_to_keep:\n",
    "    method = variable_to_method[col]\n",
    "    # Create a new scaler instance for each column\n",
    "    scaler = method_dict[method]() if method in ['MinMaxScaler', 'StandardScaler', 'RobustScaler'] else method_dict[method]\n",
    "\n",
    "    if col in year_cols:\n",
    "        # Subtract reference year\n",
    "        ref_year = X_train[col].min()\n",
    "        X_train[col] = scaler(X_train, col, ref_year)\n",
    "        X_test[col] = scaler(X_test, col, ref_year)\n",
    "        print(f'reference year for {col} is {ref_year}')\n",
    "        \n",
    "    elif col in month_cols:\n",
    "        # Apply sin-cos transformation and update DataFrames\n",
    "        X_train = scaler(X_train, col)\n",
    "        X_test = scaler(X_test, col)\n",
    "    \n",
    "    \n",
    "    elif method == 'LogTransform':\n",
    "        # Apply log transformation\n",
    "        X_train[col] = scaler(X_train, col)\n",
    "        if col in X_test.columns:\n",
    "            X_test[col] = scaler(X_test, col)\n",
    "\n",
    "    else:\n",
    "        # Fit on train, transform on both train and test\n",
    "        scaler_instances[col] = scaler.fit(X_train[[col]])\n",
    "        X_train[col] = scaler_instances[col].transform(X_train[[col]])\n",
    "        X_test[col] = scaler_instances[col].transform(X_test[[col]])\n",
    "    "
   ]
  },
  {
   "cell_type": "code",
   "execution_count": 44,
   "id": "90b0b121-5ca5-467d-a662-7dbb8480b715",
   "metadata": {
    "tags": []
   },
   "outputs": [
    {
     "data": {
      "text/plain": [
       "0"
      ]
     },
     "execution_count": 44,
     "metadata": {},
     "output_type": "execute_result"
    }
   ],
   "source": [
    "X_train.admit_to_disch_hours.isnull().sum()"
   ]
  },
  {
   "cell_type": "code",
   "execution_count": 45,
   "id": "656d2748-6cfe-4a0c-a564-12da61fa1071",
   "metadata": {
    "tags": []
   },
   "outputs": [
    {
     "data": {
      "text/plain": [
       "0"
      ]
     },
     "execution_count": 45,
     "metadata": {},
     "output_type": "execute_result"
    }
   ],
   "source": [
    "X_test.admit_to_disch_hours.isnull().sum()"
   ]
  },
  {
   "cell_type": "code",
   "execution_count": 46,
   "id": "81bf11e7-6b8d-430a-893e-555c13285f58",
   "metadata": {
    "tags": []
   },
   "outputs": [
    {
     "name": "stdout",
     "output_type": "stream",
     "text": [
      "Transformed datasets saved as CSV files.\n"
     ]
    }
   ],
   "source": [
    "# Get the current working directory\n",
    "current_dir = os.getcwd()\n",
    "\n",
    "# # Create the full path\n",
    "folder_path = os.path.join(current_dir, 'Saved')\n",
    "\n",
    "# Save to csv file\n",
    "X_train.to_csv(os.path.join(folder_path, \"transformed_train_1.csv\"), index=False)\n",
    "X_test.to_csv(os.path.join(folder_path, \"transformed_test_1.csv\"), index=False)\n",
    "y_train.to_csv(os.path.join(folder_path, \"y_train_1.csv\"), index=False)\n",
    "y_test.to_csv(os.path.join(folder_path, \"y_test_1.csv\"), index=False)\n",
    "\n",
    "print(\"Transformed datasets saved as CSV files.\")"
   ]
  },
  {
   "cell_type": "code",
   "execution_count": 47,
   "id": "784ed350-62a0-492f-aa69-50bf1d6d0dd7",
   "metadata": {
    "tags": []
   },
   "outputs": [
    {
     "data": {
      "text/plain": [
       "['Saved/scaler_instances_v1.0_20250702_1300.joblib']"
      ]
     },
     "execution_count": 47,
     "metadata": {},
     "output_type": "execute_result"
    }
   ],
   "source": [
    "# Include versioning in the filename\n",
    "# Create version tag based on date or manual versioning\n",
    "version = \"v1.0\"\n",
    "timestamp = datetime.datetime.now().strftime(\"%Y%m%d_%H%M\")\n",
    "\n",
    "# Construct filename with version and timestamp\n",
    "filename = f\"Saved/scaler_instances_{version}_{timestamp}.joblib\"\n",
    "\n",
    "# Save metadata along with the object\n",
    "metadata = {\n",
    "    \"scaler\": scaler_instances,\n",
    "    \"created_by\": \"Sheng Miao\",\n",
    "    \"date_saved\": timestamp,\n",
    "    \"version\": version,\n",
    "    \"description\": \"StandardScaler fitted on structured and TF-IDF combined dataset for 30-day readmission model\"\n",
    "}\n",
    "\n",
    "joblib.dump(metadata, filename)"
   ]
  },
  {
   "cell_type": "markdown",
   "id": "315f203e-7faf-4b4b-9cde-18810f6e15d6",
   "metadata": {},
   "source": [
    "# 4. Modeling"
   ]
  },
  {
   "cell_type": "markdown",
   "id": "7794add7-72d9-40ae-a6d6-7e0d08b8c52c",
   "metadata": {},
   "source": [
    "load saved csv files"
   ]
  },
  {
   "cell_type": "code",
   "execution_count": 6,
   "id": "b307901b-9fa6-455d-8c8b-007c675f7cf7",
   "metadata": {},
   "outputs": [],
   "source": [
    "X_train = pd.read_csv('Saved/transformed_train_1.csv')\n",
    "X_test = pd.read_csv('Saved/transformed_test_1.csv')\n",
    "y_train = pd.read_csv('Saved/y_train_1.csv')\n",
    "y_test = pd.read_csv('Saved/y_test_1.csv')"
   ]
  },
  {
   "cell_type": "markdown",
   "id": "3e7914e8-90de-4d9b-932d-8702129d75c8",
   "metadata": {
    "tags": []
   },
   "source": [
    "## 4.1 Logistic Regression + Optuna (with regulation)"
   ]
  },
  {
   "cell_type": "markdown",
   "id": "200a31a5-c090-4ba5-b174-6087b0510076",
   "metadata": {},
   "source": [
    "Reasons: \n",
    "- Handles high-dimensional sparse data (like TF-IDF) very well.\n",
    "- Fast to train and easy to interpret (especially with L1 or L2 regularization).\n",
    "- A solid baseline model."
   ]
  },
  {
   "cell_type": "code",
   "execution_count": 20,
   "id": "004ecd07-1d57-42a8-8da1-c9b20c91fa7d",
   "metadata": {
    "tags": []
   },
   "outputs": [
    {
     "name": "stdout",
     "output_type": "stream",
     "text": [
      "Series([], dtype: int64)\n"
     ]
    }
   ],
   "source": [
    "null_counts = X_train.isnull().sum()\n",
    "null_columns = null_counts[null_counts > 0]\n",
    "print(null_columns)"
   ]
  },
  {
   "cell_type": "code",
   "execution_count": 21,
   "id": "dc79f0d2-b576-4a66-a370-7058abf67dfb",
   "metadata": {
    "tags": []
   },
   "outputs": [],
   "source": [
    "# # Reduce verbosity and show progress bars\n",
    "# optuna.logging.set_verbosity(optuna.logging.WARNING)\n",
    "\n",
    "\n",
    "# # Create a stratified tuning subset: preserve all class 1, sample class 0\n",
    "# positive_idx = y_train[y_train == 1].index\n",
    "# negative_idx = y_train[y_train == 0].sample(n=1000, random_state=42).index  # Sample 1000 from class 0\n",
    "# subset_idx = positive_idx.union(negative_idx)\n",
    "\n",
    "# X_tune = X_train.loc[subset_idx]\n",
    "# y_tune = y_train.loc[subset_idx]\n",
    "\n",
    "\n",
    "# cv = StratifiedKFold(n_splits=5, shuffle=True, random_state=42)\n",
    "# results = {}\n",
    "\n",
    "# # Optimization for L1, L2, and ElasticNet\n",
    "# def objective(trial, penalty_type):\n",
    "#     C = trial.suggest_float('C', 1e-4, 1e2, log=True)\n",
    "#     solver = 'saga'\n",
    "#     params = {\n",
    "#         'penalty': penalty_type,\n",
    "#         'C': C,\n",
    "#         'solver': solver,\n",
    "#         'max_iter': 2000,\n",
    "#         'random_state': 42\n",
    "#     }\n",
    "#     if penalty_type == 'elasticnet':\n",
    "#         l1_ratio = trial.suggest_float('l1_ratio', 0.0, 1.0)\n",
    "#         params['l1_ratio'] = l1_ratio\n",
    "\n",
    "#     model = LogisticRegression(**params)\n",
    "#     scores = cross_val_score(model, X_tune, y_tune, cv=cv, scoring='roc_auc', n_jobs=-1)\n",
    "#     return scores.mean()\n",
    "\n",
    "# # Run Optuna optimization for each penalty type\n",
    "# for penalty in ['l1', 'l2', 'elasticnet']:\n",
    "#     print(f\"\\nOptimizing penalty: {penalty}\")\n",
    "#     study = optuna.create_study(direction='maximize')\n",
    "#     study.optimize(lambda trial: objective(trial, penalty), n_trials=15, show_progress_bar=True)\n",
    "#     results[penalty] = study.best_value\n",
    "\n",
    "# # Plotting the results\n",
    "# penalties = list(results.keys())\n",
    "# auc_scores = list(results.values())\n",
    "\n",
    "# # Plot\n",
    "# plt.figure(figsize=(8, 4))\n",
    "# bars = plt.barh(penalties, auc_scores, height=0.5, color=plt.cm.viridis(0.6))\n",
    "\n",
    "# # Add AUC score labels to each bar\n",
    "# for bar, score in zip(bars, auc_scores):\n",
    "#     plt.text(score + 0.01, bar.get_y() + bar.get_height() / 2,\n",
    "#              f\"{score:.3f}\", va='center', fontsize=10)\n",
    "\n",
    "# # Styling\n",
    "# plt.xlim(0.5, 1.0)\n",
    "# plt.xlabel('ROC AUC', fontsize=12)\n",
    "# plt.title('Best ROC AUC Scores by Penalty Type (Optuna)', fontsize=13)\n",
    "# plt.grid(axis='x', linestyle='--', alpha=0.6)\n",
    "# plt.gca().spines['right'].set_visible(False)\n",
    "# plt.gca().spines['top'].set_visible(False)\n",
    "# plt.tight_layout()\n",
    "# plt.show()\n",
    "\n",
    "# # Runing took 38m 44.8s"
   ]
  },
  {
   "cell_type": "markdown",
   "id": "4afc47f6",
   "metadata": {},
   "source": [
    "Improvements:\n",
    "- Expand and Refine Hyperparameter Search Space: \n",
    "  -  C = trial.suggest_float('C', 1e-5, 1e2, log=True), \n",
    "  -  'max_iter': 3000,\n",
    "  -  'class_weight': 'balanced',\n",
    "  -  l1_ratio = trial.suggest_float('l1_ratio', 0.05, 0.95)\n",
    "  -  n_trials=25\n",
    "- Stratified Cross-Validation + SMOTE"
   ]
  },
  {
   "cell_type": "markdown",
   "id": "980dfe17",
   "metadata": {},
   "source": [
    "SMOTE creates synthetic samples for the minority class to increase minority class representativeness. It must be applied within each fold, or else you'll leak information."
   ]
  },
  {
   "cell_type": "code",
   "execution_count": null,
   "id": "55b2fdd9",
   "metadata": {},
   "outputs": [],
   "source": [
    "# # Reduce verbosity and show progress bars\n",
    "# optuna.logging.set_verbosity(optuna.logging.WARNING)\n",
    "\n",
    "# # Save original stdout to restore later (Save all the printed output (including progress bars and best parameters))\n",
    "# original_stdout = sys.stdout\n",
    "# # Redirect stdout to a file\n",
    "# log_path = \"Saved/logistical_regression_progress_bar_logs.txt\"\n",
    "# sys.stdout = open(log_path, \"w\")\n",
    "\n",
    "# # Create a stratified tuning subset: preserve all class 1, sample class 0\n",
    "# positive_idx = y_train[y_train == 1].index\n",
    "# negative_idx = y_train[y_train == 0].sample(n=1000, random_state=42).index  # Sample 1000 from class 0\n",
    "# subset_idx = positive_idx.union(negative_idx)\n",
    "\n",
    "# X_tune = X_train.loc[subset_idx]\n",
    "# y_tune = y_train.loc[subset_idx]\n",
    "\n",
    "\n",
    "# cv = StratifiedKFold(n_splits=5, shuffle=True, random_state=42) # Maintains class distribution in CV folds\n",
    "# results = {}\n",
    "\n",
    "# # Optimization for L1, L2, and ElasticNet\n",
    "# def objective(trial, penalty_type):\n",
    "#     C = trial.suggest_float('C', 1e-5, 1e2, log=True)\n",
    "#     params = {\n",
    "#         'penalty': penalty_type,\n",
    "#         'C': C,\n",
    "#         'solver': 'saga',\n",
    "#         'max_iter': 3000,\n",
    "#         'random_state': 42,\n",
    "#         'class_weight': 'balanced'  # NEW: Adjusts for imbalance\n",
    "#     }\n",
    "#     if penalty_type == 'elasticnet':\n",
    "#         l1_ratio = trial.suggest_float('l1_ratio', 0.05, 0.95)\n",
    "#         params['l1_ratio'] = l1_ratio\n",
    "\n",
    "#     model = LogisticRegression(**params)\n",
    "#     smote = SMOTE(random_state=42) # Data Balancing or class weight tuning\n",
    "\n",
    "#     pipe = ImbPipeline([\n",
    "#         ('smote', smote),\n",
    "#         ('clf', model)\n",
    "#     ])\n",
    "\n",
    "#     scores = cross_val_score(pipe, X_tune, y_tune, cv=cv, scoring='roc_auc', n_jobs=-1)\n",
    "#     return scores.mean()\n",
    "\n",
    "# # Run Optuna optimization for each penalty type\n",
    "# for penalty in ['l1', 'l2', 'elasticnet']:\n",
    "#     print(f\"\\nOptimizing penalty: {penalty}\")\n",
    "#     study = optuna.create_study(direction='maximize')\n",
    "#     study.optimize(lambda trial: objective(trial, penalty), n_trials=25, show_progress_bar=True)\n",
    "#     results[penalty] = study.best_value\n",
    "#     print(f\"Best AUC for {penalty}: {study.best_value:.4f}\")\n",
    "#     print(f\"Best Params: {study.best_params}\")\n",
    "\n",
    "\n",
    "# # Plotting the results\n",
    "# penalties = list(results.keys())\n",
    "# auc_scores = list(results.values())\n",
    "\n",
    "# # Plot\n",
    "# plt.figure(figsize=(8, 4))\n",
    "# bars = plt.barh(penalties, auc_scores, height=0.5, color=plt.cm.viridis(0.6))\n",
    "\n",
    "# # Add AUC score labels to each bar\n",
    "# for bar, score in zip(bars, auc_scores):\n",
    "#     plt.text(score + 0.01, bar.get_y() + bar.get_height() / 2,\n",
    "#              f\"{score:.3f}\", va='center', fontsize=10)\n",
    "\n",
    "# # Styling\n",
    "# plt.xlim(0.5, 1.0)\n",
    "# plt.xlabel('ROC AUC', fontsize=12)\n",
    "# plt.title('Best ROC AUC Scores by Penalty Type (Optuna)', fontsize=13)\n",
    "# plt.grid(axis='x', linestyle='--', alpha=0.6)\n",
    "# plt.gca().spines['right'].set_visible(False)\n",
    "# plt.gca().spines['top'].set_visible(False)\n",
    "# plt.tight_layout()\n",
    "# plt.savefig(\"Saved/logistical_regression_roc_auc_comparison.png\", dpi=300, bbox_inches='tight')\n",
    "# plt.show()\n",
    "\n",
    "# sys.stdout.close() # Closes the log file (log_path) so the buffered content is properly written to disk. \n",
    "# sys.stdout = original_stdout # Restores standard output back to my Jupyter notebook.\n",
    "\n",
    "# # Running took 142m 21.2s"
   ]
  },
  {
   "cell_type": "markdown",
   "id": "78b2b4b4-7863-47cb-a6d6-ae4565bb7897",
   "metadata": {},
   "source": [
    "## 4.2 Random Forest + Optuna"
   ]
  },
  {
   "cell_type": "markdown",
   "id": "9b7b886f",
   "metadata": {},
   "source": []
  },
  {
   "cell_type": "code",
   "execution_count": 23,
   "id": "d6635a01",
   "metadata": {},
   "outputs": [],
   "source": [
    "# Define Optuna Objective Function\n",
    "# Optuna objective\n",
    "def rf_objective(trial):\n",
    "    params = {\n",
    "        'n_estimators': trial.suggest_int('n_estimators', 200, 500),\n",
    "        'max_depth': trial.suggest_int('max_depth', 3, 30), \n",
    "        'min_samples_split': trial.suggest_int('min_samples_split', 2, 10),\n",
    "        'min_samples_leaf': trial.suggest_int('min_samples_leaf', 5, 20), \n",
    "        'max_features': trial.suggest_categorical('max_features', ['sqrt', 'log2']),  \n",
    "        'bootstrap': trial.suggest_categorical('bootstrap', [True]),\n",
    "        'random_state': 42,\n",
    "        'n_jobs': -1\n",
    "    }\n",
    "    model = RandomForestClassifier(**params)\n",
    "    auc_scores = cross_val_score(model, X_train, y_train, cv=cv, scoring='roc_auc', n_jobs=-1)\n",
    "    return auc_scores.mean()"
   ]
  },
  {
   "cell_type": "code",
   "execution_count": null,
   "id": "ae588404",
   "metadata": {},
   "outputs": [
    {
     "name": "stderr",
     "output_type": "stream",
     "text": [
      "[I 2025-07-02 15:01:15,823] A new study created in memory with name: RandomForest Optimization\n",
      "Optimizing:   0%|          | 0/15 [00:00<?, ?it/s][I 2025-07-02 15:01:34,643] Trial 0 finished with value: 0.5389351000665573 and parameters: {'n_estimators': 229, 'max_depth': 15, 'min_samples_split': 2, 'min_samples_leaf': 10, 'max_features': 'sqrt', 'bootstrap': True}. Best is trial 0 with value: 0.5389351000665573.\n",
      "[I 2025-07-02 15:01:40,696] Trial 1 finished with value: 0.591729215892081 and parameters: {'n_estimators': 289, 'max_depth': 25, 'min_samples_split': 8, 'min_samples_leaf': 14, 'max_features': 'log2', 'bootstrap': True}. Best is trial 1 with value: 0.591729215892081.\n",
      "[I 2025-07-02 15:01:46,586] Trial 2 finished with value: 0.5887013662973678 and parameters: {'n_estimators': 293, 'max_depth': 11, 'min_samples_split': 10, 'min_samples_leaf': 17, 'max_features': 'log2', 'bootstrap': True}. Best is trial 1 with value: 0.591729215892081.\n",
      "Optimizing:   7%|▋         | 1/15 [00:30<07:10, 30.76s/it][I 2025-07-02 15:02:25,129] Trial 3 finished with value: 0.5456408996410496 and parameters: {'n_estimators': 471, 'max_depth': 14, 'min_samples_split': 3, 'min_samples_leaf': 12, 'max_features': 'sqrt', 'bootstrap': True}. Best is trial 1 with value: 0.591729215892081.\n",
      "[I 2025-07-02 15:02:30,374] Trial 4 finished with value: 0.6030604059444653 and parameters: {'n_estimators': 259, 'max_depth': 23, 'min_samples_split': 3, 'min_samples_leaf': 16, 'max_features': 'log2', 'bootstrap': True}. Best is trial 4 with value: 0.6030604059444653.\n",
      "[I 2025-07-02 15:03:08,276] Trial 5 finished with value: 0.5446890201607284 and parameters: {'n_estimators': 392, 'max_depth': 26, 'min_samples_split': 3, 'min_samples_leaf': 9, 'max_features': 'sqrt', 'bootstrap': True}. Best is trial 4 with value: 0.6030604059444653.\n",
      "Optimizing:  13%|█▎        | 2/15 [01:52<13:09, 60.72s/it][I 2025-07-02 15:03:30,654] Trial 6 finished with value: 0.5884983301494696 and parameters: {'n_estimators': 286, 'max_depth': 22, 'min_samples_split': 9, 'min_samples_leaf': 19, 'max_features': 'sqrt', 'bootstrap': True}. Best is trial 4 with value: 0.6030604059444653.\n",
      "[I 2025-07-02 15:04:02,813] Trial 7 finished with value: 0.5450708855119675 and parameters: {'n_estimators': 365, 'max_depth': 24, 'min_samples_split': 6, 'min_samples_leaf': 12, 'max_features': 'sqrt', 'bootstrap': True}. Best is trial 4 with value: 0.6030604059444653.\n",
      "[I 2025-07-02 15:04:24,121] Trial 8 finished with value: 0.5952535130196722 and parameters: {'n_estimators': 276, 'max_depth': 15, 'min_samples_split': 7, 'min_samples_leaf': 19, 'max_features': 'sqrt', 'bootstrap': True}. Best is trial 4 with value: 0.6030604059444653.\n",
      "Optimizing:  20%|██        | 3/15 [03:08<13:31, 67.62s/it][I 2025-07-02 15:04:52,724] Trial 9 finished with value: 0.5690279977438377 and parameters: {'n_estimators': 369, 'max_depth': 15, 'min_samples_split': 9, 'min_samples_leaf': 16, 'max_features': 'sqrt', 'bootstrap': True}. Best is trial 4 with value: 0.6030604059444653.\n",
      "[I 2025-07-02 15:04:54,810] Trial 10 finished with value: 0.5936868467069036 and parameters: {'n_estimators': 203, 'max_depth': 3, 'min_samples_split': 5, 'min_samples_leaf': 15, 'max_features': 'log2', 'bootstrap': True}. Best is trial 4 with value: 0.6030604059444653.\n",
      "[I 2025-07-02 15:05:00,191] Trial 11 finished with value: 0.6116841768497834 and parameters: {'n_estimators': 254, 'max_depth': 30, 'min_samples_split': 6, 'min_samples_leaf': 20, 'max_features': 'log2', 'bootstrap': True}. Best is trial 11 with value: 0.6116841768497834.\n",
      "Optimizing:  27%|██▋       | 4/15 [03:44<10:06, 55.17s/it][I 2025-07-02 15:05:05,722] Trial 12 finished with value: 0.5619501313755684 and parameters: {'n_estimators': 239, 'max_depth': 30, 'min_samples_split': 5, 'min_samples_leaf': 6, 'max_features': 'log2', 'bootstrap': True}. Best is trial 11 with value: 0.6116841768497834.\n",
      "[I 2025-07-02 15:05:11,268] Trial 13 finished with value: 0.603882450534179 and parameters: {'n_estimators': 320, 'max_depth': 30, 'min_samples_split': 4, 'min_samples_leaf': 20, 'max_features': 'log2', 'bootstrap': True}. Best is trial 11 with value: 0.6116841768497834.\n",
      "[I 2025-07-02 15:05:17,026] Trial 14 finished with value: 0.6028761286913111 and parameters: {'n_estimators': 328, 'max_depth': 29, 'min_samples_split': 5, 'min_samples_leaf': 20, 'max_features': 'log2', 'bootstrap': True}. Best is trial 11 with value: 0.6116841768497834.\n",
      "Optimizing:  33%|███▎      | 5/15 [04:01<06:53, 41.34s/it][I 2025-07-02 15:05:22,863] Trial 15 finished with value: 0.5963607050128832 and parameters: {'n_estimators': 327, 'max_depth': 20, 'min_samples_split': 6, 'min_samples_leaf': 18, 'max_features': 'log2', 'bootstrap': True}. Best is trial 11 with value: 0.6116841768497834.\n",
      "[I 2025-07-02 15:05:29,965] Trial 16 finished with value: 0.606744025923168 and parameters: {'n_estimators': 429, 'max_depth': 28, 'min_samples_split': 4, 'min_samples_leaf': 20, 'max_features': 'log2', 'bootstrap': True}. Best is trial 11 with value: 0.6116841768497834.\n",
      "[I 2025-07-02 15:05:37,899] Trial 17 finished with value: 0.5773159154078262 and parameters: {'n_estimators': 447, 'max_depth': 19, 'min_samples_split': 7, 'min_samples_leaf': 6, 'max_features': 'log2', 'bootstrap': True}. Best is trial 11 with value: 0.6116841768497834.\n",
      "Optimizing:  40%|████      | 6/15 [04:22<05:09, 34.38s/it][I 2025-07-02 15:05:45,544] Trial 18 finished with value: 0.6045703188781768 and parameters: {'n_estimators': 459, 'max_depth': 27, 'min_samples_split': 4, 'min_samples_leaf': 18, 'max_features': 'log2', 'bootstrap': True}. Best is trial 11 with value: 0.6116841768497834.\n",
      "[I 2025-07-02 15:05:50,902] Trial 19 finished with value: 0.5971447650335362 and parameters: {'n_estimators': 411, 'max_depth': 7, 'min_samples_split': 6, 'min_samples_leaf': 14, 'max_features': 'log2', 'bootstrap': True}. Best is trial 11 with value: 0.6116841768497834.\n",
      "[I 2025-07-02 15:05:59,910] Trial 20 finished with value: 0.5776351346692625 and parameters: {'n_estimators': 498, 'max_depth': 27, 'min_samples_split': 2, 'min_samples_leaf': 10, 'max_features': 'log2', 'bootstrap': True}. Best is trial 11 with value: 0.6116841768497834.\n",
      "Optimizing:  47%|████▋     | 7/15 [04:44<04:02, 30.34s/it][I 2025-07-02 15:06:07,604] Trial 21 finished with value: 0.6052498652746019 and parameters: {'n_estimators': 436, 'max_depth': 27, 'min_samples_split': 4, 'min_samples_leaf': 18, 'max_features': 'log2', 'bootstrap': True}. Best is trial 11 with value: 0.6116841768497834.\n",
      "[I 2025-07-02 15:06:14,794] Trial 22 finished with value: 0.6075653405977659 and parameters: {'n_estimators': 420, 'max_depth': 28, 'min_samples_split': 4, 'min_samples_leaf': 20, 'max_features': 'log2', 'bootstrap': True}. Best is trial 11 with value: 0.6116841768497834.\n",
      "[I 2025-07-02 15:06:21,479] Trial 23 finished with value: 0.6049986966782136 and parameters: {'n_estimators': 403, 'max_depth': 21, 'min_samples_split': 5, 'min_samples_leaf': 20, 'max_features': 'log2', 'bootstrap': True}. Best is trial 11 with value: 0.6116841768497834.\n",
      "Optimizing:  53%|█████▎    | 8/15 [05:05<03:12, 27.55s/it][I 2025-07-02 15:06:28,819] Trial 24 finished with value: 0.5996351789675594 and parameters: {'n_estimators': 421, 'max_depth': 28, 'min_samples_split': 4, 'min_samples_leaf': 17, 'max_features': 'log2', 'bootstrap': True}. Best is trial 11 with value: 0.6116841768497834.\n",
      "[I 2025-07-02 15:06:38,134] Trial 25 finished with value: 0.6045820272657847 and parameters: {'n_estimators': 487, 'max_depth': 24, 'min_samples_split': 7, 'min_samples_leaf': 20, 'max_features': 'log2', 'bootstrap': True}. Best is trial 11 with value: 0.6116841768497834.\n",
      "[I 2025-07-02 15:06:44,691] Trial 26 finished with value: 0.5975185364880067 and parameters: {'n_estimators': 376, 'max_depth': 30, 'min_samples_split': 3, 'min_samples_leaf': 19, 'max_features': 'log2', 'bootstrap': True}. Best is trial 11 with value: 0.6116841768497834.\n",
      "Optimizing:  60%|██████    | 9/15 [05:28<02:37, 26.19s/it][I 2025-07-02 15:06:51,868] Trial 27 finished with value: 0.5978107130427122 and parameters: {'n_estimators': 436, 'max_depth': 18, 'min_samples_split': 5, 'min_samples_leaf': 17, 'max_features': 'log2', 'bootstrap': True}. Best is trial 11 with value: 0.6116841768497834.\n",
      "[I 2025-07-02 15:06:57,839] Trial 28 finished with value: 0.5961840304701502 and parameters: {'n_estimators': 350, 'max_depth': 28, 'min_samples_split': 6, 'min_samples_leaf': 19, 'max_features': 'log2', 'bootstrap': True}. Best is trial 11 with value: 0.6116841768497834.\n",
      "[I 2025-07-02 15:07:05,457] Trial 29 finished with value: 0.5804192704119352 and parameters: {'n_estimators': 389, 'max_depth': 11, 'min_samples_split': 2, 'min_samples_leaf': 8, 'max_features': 'log2', 'bootstrap': True}. Best is trial 11 with value: 0.6116841768497834.\n",
      "Optimizing:  67%|██████▋   | 10/15 [05:49<02:02, 24.52s/it][I 2025-07-02 15:07:10,080] Trial 30 finished with value: 0.5892056598457052 and parameters: {'n_estimators': 201, 'max_depth': 25, 'min_samples_split': 4, 'min_samples_leaf': 14, 'max_features': 'log2', 'bootstrap': True}. Best is trial 11 with value: 0.6116841768497834.\n",
      "[I 2025-07-02 15:07:18,324] Trial 31 finished with value: 0.6052498652746019 and parameters: {'n_estimators': 436, 'max_depth': 26, 'min_samples_split': 4, 'min_samples_leaf': 18, 'max_features': 'log2', 'bootstrap': True}. Best is trial 11 with value: 0.6116841768497834.\n",
      "[I 2025-07-02 15:07:26,739] Trial 32 finished with value: 0.6070223386669459 and parameters: {'n_estimators': 422, 'max_depth': 28, 'min_samples_split': 3, 'min_samples_leaf': 20, 'max_features': 'log2', 'bootstrap': True}. Best is trial 11 with value: 0.6116841768497834.\n",
      "Optimizing:  73%|███████▎  | 11/15 [06:10<01:34, 23.53s/it][I 2025-07-02 15:07:36,053] Trial 33 finished with value: 0.6037096116686839 and parameters: {'n_estimators': 465, 'max_depth': 29, 'min_samples_split': 2, 'min_samples_leaf': 20, 'max_features': 'log2', 'bootstrap': True}. Best is trial 11 with value: 0.6116841768497834.\n",
      "[I 2025-07-02 15:07:44,350] Trial 34 finished with value: 0.6040871005800759 and parameters: {'n_estimators': 417, 'max_depth': 25, 'min_samples_split': 3, 'min_samples_leaf': 16, 'max_features': 'log2', 'bootstrap': True}. Best is trial 11 with value: 0.6116841768497834.\n",
      "[I 2025-07-02 15:07:52,161] Trial 35 finished with value: 0.5991794480371218 and parameters: {'n_estimators': 394, 'max_depth': 23, 'min_samples_split': 3, 'min_samples_leaf': 17, 'max_features': 'log2', 'bootstrap': True}. Best is trial 11 with value: 0.6116841768497834.\n",
      "Optimizing:  80%|████████  | 12/15 [06:36<01:12, 24.10s/it][I 2025-07-02 15:07:58,844] Trial 36 finished with value: 0.5956338857440759 and parameters: {'n_estimators': 347, 'max_depth': 28, 'min_samples_split': 8, 'min_samples_leaf': 19, 'max_features': 'log2', 'bootstrap': True}. Best is trial 11 with value: 0.6116841768497834.\n",
      "[I 2025-07-02 15:08:33,519] Trial 37 finished with value: 0.5880081925306483 and parameters: {'n_estimators': 476, 'max_depth': 12, 'min_samples_split': 3, 'min_samples_leaf': 18, 'max_features': 'sqrt', 'bootstrap': True}. Best is trial 11 with value: 0.6116841768497834.\n",
      "[I 2025-07-02 15:08:38,791] Trial 38 finished with value: 0.6038822278223568 and parameters: {'n_estimators': 241, 'max_depth': 22, 'min_samples_split': 2, 'min_samples_leaf': 13, 'max_features': 'log2', 'bootstrap': True}. Best is trial 11 with value: 0.6116841768497834.\n",
      "Optimizing:  87%|████████▋ | 13/15 [07:22<01:01, 30.93s/it][I 2025-07-02 15:09:00,959] Trial 39 finished with value: 0.6042561640225588 and parameters: {'n_estimators': 306, 'max_depth': 17, 'min_samples_split': 8, 'min_samples_leaf': 20, 'max_features': 'sqrt', 'bootstrap': True}. Best is trial 11 with value: 0.6116841768497834.\n",
      "[I 2025-07-02 15:09:08,708] Trial 40 finished with value: 0.5964855670230788 and parameters: {'n_estimators': 449, 'max_depth': 26, 'min_samples_split': 5, 'min_samples_leaf': 19, 'max_features': 'log2', 'bootstrap': True}. Best is trial 11 with value: 0.6116841768497834.\n",
      "[I 2025-07-02 15:09:16,247] Trial 41 finished with value: 0.6059943741163222 and parameters: {'n_estimators': 434, 'max_depth': 27, 'min_samples_split': 4, 'min_samples_leaf': 18, 'max_features': 'log2', 'bootstrap': True}. Best is trial 11 with value: 0.6116841768497834.\n",
      "Optimizing:  93%|█████████▎| 14/15 [08:00<00:32, 32.90s/it][I 2025-07-02 15:09:24,079] Trial 42 finished with value: 0.6075653405977659 and parameters: {'n_estimators': 420, 'max_depth': 29, 'min_samples_split': 4, 'min_samples_leaf': 20, 'max_features': 'log2', 'bootstrap': True}. Best is trial 11 with value: 0.6116841768497834.\n",
      "[I 2025-07-02 15:09:30,460] Trial 43 finished with value: 0.5969439285462372 and parameters: {'n_estimators': 377, 'max_depth': 29, 'min_samples_split': 3, 'min_samples_leaf': 19, 'max_features': 'log2', 'bootstrap': True}. Best is trial 11 with value: 0.6116841768497834.\n",
      "[I 2025-07-02 15:09:58,783] Trial 44 finished with value: 0.603528995431784 and parameters: {'n_estimators': 419, 'max_depth': 30, 'min_samples_split': 3, 'min_samples_leaf': 20, 'max_features': 'sqrt', 'bootstrap': True}. Best is trial 11 with value: 0.6116841768497834.\n",
      "Optimizing: 100%|██████████| 15/15 [08:42<00:00, 34.86s/it]"
     ]
    },
    {
     "name": "stdout",
     "output_type": "stream",
     "text": [
      "\n",
      "Best AUC: 0.6117\n",
      "Best Parameters: {'n_estimators': 254, 'max_depth': 30, 'min_samples_split': 6, 'min_samples_leaf': 20, 'max_features': 'log2', 'bootstrap': True}\n"
     ]
    },
    {
     "name": "stderr",
     "output_type": "stream",
     "text": [
      "\n"
     ]
    }
   ],
   "source": [
    "cv = StratifiedKFold(n_splits=5, shuffle=True, random_state=42)\n",
    "\n",
    "n_outer_trial = 15\n",
    "n_inner_trial = 3\n",
    "\n",
    "# Run the study\n",
    "rf_study = optuna.create_study(direction='maximize', study_name='RandomForest Optimization')\n",
    "\n",
    "\n",
    "# Run optimization with manual loop + tqdm\n",
    "for _ in tqdm(range(n_outer_trial), desc='Optimizing'):\n",
    "    rf_study.optimize(rf_objective, n_trials=n_inner_trial)\n",
    "\n",
    "\n",
    "# Extract best score and parameters\n",
    "best_score = rf_study.best_value\n",
    "best_params = rf_study.best_params\n",
    "\n",
    "# Results\n",
    "print(f\"\\nBest AUC: {best_score:.4f}\")\n",
    "print(\"Best Parameters:\", best_params)\n",
    "\n",
    "# === Save everything ===\n",
    "os.makedirs(\"Saved\", exist_ok=True)\n",
    "\n",
    "# 1. Save Optuna study\n",
    "joblib.dump(rf_study, \"Saved/random_forest_optuna_study.pkl\") # Full Optuna study object (all trials)\n",
    "\n",
    "# 2. Save best parameters to JSON\n",
    "with open(\"Saved/random_forest_optuna_best_params.json\", \"w\") as f:   # Best hyperparameters\n",
    "    json.dump(best_params, f, indent=2)\n",
    "\n",
    "# 3. Save trial scores to CSV\n",
    "trial_scores = pd.DataFrame({\n",
    "    \"trial\": [t.number for t in rf_study.trials],\n",
    "    \"auc_score\": [t.value for t in rf_study.trials]\n",
    "})\n",
    "trial_scores.to_csv(\"Saved/random_forest_optuna_trial_scores.csv\", index=False)  # Trial number and AUC for each trial\n"
   ]
  },
  {
   "cell_type": "code",
   "execution_count": 27,
   "id": "71e268f0",
   "metadata": {},
   "outputs": [
    {
     "data": {
      "image/png": "[encoded data removed]",
      "text/plain": [
       "<Figure size 1000x600 with 1 Axes>"
      ]
     },
     "metadata": {},
     "output_type": "display_data"
    }
   ],
   "source": [
    "# 4. Plotting and save figure\n",
    "plt.figure(figsize=(10, 6))\n",
    "plt.plot(trial_scores[\"trial\"], trial_scores[\"auc_score\"], marker='o', linewidth=2, label='AUC per Trial')\n",
    "plt.axhline(best_score, color='r', linestyle='--', label='Best AUC')\n",
    "plt.title('Random Forest ROC AUC per Trial (Optuna)', fontsize=14)\n",
    "plt.xlabel('Trial', fontsize=12)\n",
    "plt.ylabel('ROC AUC', fontsize=12)\n",
    "plt.grid(True, linestyle='--', alpha=0.6)\n",
    "plt.legend()\n",
    "plt.tight_layout()\n",
    "plt.savefig(\"Saved/random_forest_optuna.png\", dpi=300, bbox_inches='tight')\n",
    "plt.show()\n"
   ]
  },
  {
   "cell_type": "markdown",
   "id": "ff07edb7-ee1d-4ad7-a73f-6f31e7d317e8",
   "metadata": {},
   "source": [
    "## 4.3 Gradient Boosting XGBoost + Optuna "
   ]
  },
  {
   "cell_type": "code",
   "execution_count": 28,
   "id": "9f14ed02",
   "metadata": {},
   "outputs": [],
   "source": [
    "# Define Optuna objective\n",
    "def xgb_objective(trial):\n",
    "    params = {\n",
    "        'objective': 'binary:logistic',\n",
    "        'eval_metric': 'auc',\n",
    "        'use_label_encoder': False,\n",
    "        # 'tree_method': 'hist',  # use 'gpu_hist' if using GPU\n",
    "        'n_estimators': trial.suggest_int('n_estimators', 100, 1000),\n",
    "        'max_depth': trial.suggest_int('max_depth', 3, 12),\n",
    "        'learning_rate': trial.suggest_float('learning_rate', 1e-3, 0.3, log=True),\n",
    "        'subsample': trial.suggest_float('subsample', 0.5, 1.0),\n",
    "        'colsample_bytree': trial.suggest_float('colsample_bytree', 0.5, 1.0),\n",
    "        'reg_alpha': trial.suggest_float('reg_alpha', 1e-5, 10.0, log=True),\n",
    "        'reg_lambda': trial.suggest_float('reg_lambda', 1e-5, 10.0, log=True),\n",
    "        'min_child_weight': trial.suggest_int('min_child_weight', 1, 10),\n",
    "        'random_state': 42,\n",
    "        'n_jobs': -1\n",
    "    }\n",
    "\n",
    "    model = xgb.XGBClassifier(**params)\n",
    "    scores = cross_val_score(model, X_train, y_train, scoring='roc_auc', cv=cv, n_jobs=-1)\n",
    "    return scores.mean()"
   ]
  },
  {
   "cell_type": "code",
   "execution_count": 30,
   "id": "9acb1436-a77c-4fd9-952a-e147e3be6334",
   "metadata": {},
   "outputs": [
    {
     "name": "stderr",
     "output_type": "stream",
     "text": [
      "[I 2025-07-02 15:30:17,780] A new study created in memory with name: XGBoost Optimization\n",
      "Best trial: 0. Best value: 0.638306:   3%|▎         | 1/30 [01:43<50:12, 103.88s/it]"
     ]
    },
    {
     "name": "stdout",
     "output_type": "stream",
     "text": [
      "[I 2025-07-02 15:32:01,657] Trial 0 finished with value: 0.6383055852708042 and parameters: {'n_estimators': 694, 'max_depth': 4, 'learning_rate': 0.00480141372954935, 'subsample': 0.5528907654872071, 'colsample_bytree': 0.6729100378538058, 'reg_alpha': 0.002446665607533447, 'reg_lambda': 1.3926622154911489e-05, 'min_child_weight': 9}. Best is trial 0 with value: 0.6383055852708042.\n"
     ]
    },
    {
     "name": "stderr",
     "output_type": "stream",
     "text": [
      "Best trial: 0. Best value: 0.638306:   7%|▋         | 2/30 [03:32<49:51, 106.85s/it]"
     ]
    },
    {
     "name": "stdout",
     "output_type": "stream",
     "text": [
      "[I 2025-07-02 15:33:50,591] Trial 1 finished with value: 0.5225216414874173 and parameters: {'n_estimators': 799, 'max_depth': 3, 'learning_rate': 0.1105816072027165, 'subsample': 0.8719977686141862, 'colsample_bytree': 0.6630922875107281, 'reg_alpha': 1.4964925715013599e-05, 'reg_lambda': 1.16490333392535e-05, 'min_child_weight': 8}. Best is trial 0 with value: 0.6383055852708042.\n"
     ]
    },
    {
     "name": "stderr",
     "output_type": "stream",
     "text": [
      "Best trial: 0. Best value: 0.638306:  10%|█         | 3/30 [06:53<1:07:23, 149.76s/it]"
     ]
    },
    {
     "name": "stdout",
     "output_type": "stream",
     "text": [
      "[I 2025-07-02 15:37:11,407] Trial 2 finished with value: 0.5009137049960424 and parameters: {'n_estimators': 988, 'max_depth': 7, 'learning_rate': 0.013629929783744436, 'subsample': 0.8028062692361493, 'colsample_bytree': 0.8490641631741329, 'reg_alpha': 6.702753123476778e-05, 'reg_lambda': 0.015861175379391454, 'min_child_weight': 4}. Best is trial 0 with value: 0.6383055852708042.\n"
     ]
    },
    {
     "name": "stderr",
     "output_type": "stream",
     "text": [
      "Best trial: 0. Best value: 0.638306:  13%|█▎        | 4/30 [08:12<52:44, 121.71s/it]  "
     ]
    },
    {
     "name": "stdout",
     "output_type": "stream",
     "text": [
      "[I 2025-07-02 15:38:30,124] Trial 3 finished with value: 0.5671521654728092 and parameters: {'n_estimators': 401, 'max_depth': 8, 'learning_rate': 0.0018081590570184292, 'subsample': 0.841146377193845, 'colsample_bytree': 0.5669524090162631, 'reg_alpha': 0.0012724000817531263, 'reg_lambda': 0.0004332985437240852, 'min_child_weight': 5}. Best is trial 0 with value: 0.6383055852708042.\n"
     ]
    },
    {
     "name": "stderr",
     "output_type": "stream",
     "text": [
      "Best trial: 0. Best value: 0.638306:  17%|█▋        | 5/30 [09:48<46:54, 112.59s/it]"
     ]
    },
    {
     "name": "stdout",
     "output_type": "stream",
     "text": [
      "[I 2025-07-02 15:40:06,543] Trial 4 finished with value: 0.4698795234296497 and parameters: {'n_estimators': 733, 'max_depth': 9, 'learning_rate': 0.0811013293853846, 'subsample': 0.6704233648645206, 'colsample_bytree': 0.7270803161789223, 'reg_alpha': 7.448809896491226e-05, 'reg_lambda': 0.026573036524987163, 'min_child_weight': 2}. Best is trial 0 with value: 0.6383055852708042.\n"
     ]
    },
    {
     "name": "stderr",
     "output_type": "stream",
     "text": [
      "Best trial: 0. Best value: 0.638306:  20%|██        | 6/30 [11:49<46:05, 115.21s/it]"
     ]
    },
    {
     "name": "stdout",
     "output_type": "stream",
     "text": [
      "[I 2025-07-02 15:42:06,841] Trial 5 finished with value: 0.6108160675230516 and parameters: {'n_estimators': 743, 'max_depth': 7, 'learning_rate': 0.0016717966391834214, 'subsample': 0.536872366833206, 'colsample_bytree': 0.5165391952832833, 'reg_alpha': 0.6291354500195574, 'reg_lambda': 0.014284448870396736, 'min_child_weight': 5}. Best is trial 0 with value: 0.6383055852708042.\n"
     ]
    },
    {
     "name": "stderr",
     "output_type": "stream",
     "text": [
      "Best trial: 0. Best value: 0.638306:  23%|██▎       | 7/30 [13:44<44:15, 115.44s/it]"
     ]
    },
    {
     "name": "stdout",
     "output_type": "stream",
     "text": [
      "[I 2025-07-02 15:44:02,751] Trial 6 finished with value: 0.6240384806062546 and parameters: {'n_estimators': 703, 'max_depth': 7, 'learning_rate': 0.0011820059412350036, 'subsample': 0.6752480729416617, 'colsample_bytree': 0.6294063749932637, 'reg_alpha': 0.05441950389978098, 'reg_lambda': 3.432109331063662, 'min_child_weight': 6}. Best is trial 0 with value: 0.6383055852708042.\n"
     ]
    },
    {
     "name": "stderr",
     "output_type": "stream",
     "text": [
      "Best trial: 0. Best value: 0.638306:  27%|██▋       | 8/30 [16:00<44:43, 121.97s/it]"
     ]
    },
    {
     "name": "stdout",
     "output_type": "stream",
     "text": [
      "[I 2025-07-02 15:46:18,711] Trial 7 finished with value: 0.5582526643655958 and parameters: {'n_estimators': 835, 'max_depth': 4, 'learning_rate': 0.0015404143291527104, 'subsample': 0.8980722113698952, 'colsample_bytree': 0.6954858604334766, 'reg_alpha': 0.3165488815801618, 'reg_lambda': 1.4416447509230267e-05, 'min_child_weight': 5}. Best is trial 0 with value: 0.6383055852708042.\n"
     ]
    },
    {
     "name": "stderr",
     "output_type": "stream",
     "text": [
      "Best trial: 0. Best value: 0.638306:  30%|███       | 9/30 [16:26<32:09, 91.87s/it] "
     ]
    },
    {
     "name": "stdout",
     "output_type": "stream",
     "text": [
      "[I 2025-07-02 15:46:44,391] Trial 8 finished with value: 0.5957717092772349 and parameters: {'n_estimators': 131, 'max_depth': 7, 'learning_rate': 0.005918691365417209, 'subsample': 0.8034778776039109, 'colsample_bytree': 0.9448237348809418, 'reg_alpha': 1.7577310011336065e-05, 'reg_lambda': 0.00022375487056271832, 'min_child_weight': 8}. Best is trial 0 with value: 0.6383055852708042.\n"
     ]
    },
    {
     "name": "stderr",
     "output_type": "stream",
     "text": [
      "Best trial: 0. Best value: 0.638306:  33%|███▎      | 10/30 [18:17<32:35, 97.76s/it]"
     ]
    },
    {
     "name": "stdout",
     "output_type": "stream",
     "text": [
      "[I 2025-07-02 15:48:35,329] Trial 9 finished with value: 0.501089994369357 and parameters: {'n_estimators': 674, 'max_depth': 9, 'learning_rate': 0.017155156829818614, 'subsample': 0.8551821092967723, 'colsample_bytree': 0.8127751359857006, 'reg_alpha': 0.0017802924506823245, 'reg_lambda': 0.012577509947565898, 'min_child_weight': 6}. Best is trial 0 with value: 0.6383055852708042.\n"
     ]
    },
    {
     "name": "stderr",
     "output_type": "stream",
     "text": [
      "Best trial: 0. Best value: 0.638306:  37%|███▋      | 11/30 [18:59<25:30, 80.54s/it]"
     ]
    },
    {
     "name": "stdout",
     "output_type": "stream",
     "text": [
      "[I 2025-07-02 15:49:16,815] Trial 10 finished with value: 0.6104835793658289 and parameters: {'n_estimators': 373, 'max_depth': 12, 'learning_rate': 0.27944403843185306, 'subsample': 0.5034706711826142, 'colsample_bytree': 0.9660130813706878, 'reg_alpha': 7.699310030566606, 'reg_lambda': 0.9874291119005236, 'min_child_weight': 9}. Best is trial 0 with value: 0.6383055852708042.\n"
     ]
    },
    {
     "name": "stderr",
     "output_type": "stream",
     "text": [
      "Best trial: 0. Best value: 0.638306:  40%|████      | 12/30 [20:13<23:38, 78.80s/it]"
     ]
    },
    {
     "name": "stdout",
     "output_type": "stream",
     "text": [
      "[I 2025-07-02 15:50:31,625] Trial 11 finished with value: 0.6281804460911695 and parameters: {'n_estimators': 555, 'max_depth': 5, 'learning_rate': 0.004838321156498221, 'subsample': 0.6450073687523593, 'colsample_bytree': 0.6092216892454451, 'reg_alpha': 0.01948774498098988, 'reg_lambda': 8.347955289271184, 'min_child_weight': 7}. Best is trial 0 with value: 0.6383055852708042.\n"
     ]
    },
    {
     "name": "stderr",
     "output_type": "stream",
     "text": [
      "Best trial: 12. Best value: 0.639279:  43%|████▎     | 13/30 [21:12<20:36, 72.73s/it]"
     ]
    },
    {
     "name": "stdout",
     "output_type": "stream",
     "text": [
      "[I 2025-07-02 15:51:30,412] Trial 12 finished with value: 0.6392787833064004 and parameters: {'n_estimators': 520, 'max_depth': 5, 'learning_rate': 0.005414773249596505, 'subsample': 0.6002008074343136, 'colsample_bytree': 0.6087815751234045, 'reg_alpha': 0.0072077076713604835, 'reg_lambda': 0.33162868366240345, 'min_child_weight': 10}. Best is trial 12 with value: 0.6392787833064004.\n"
     ]
    },
    {
     "name": "stderr",
     "output_type": "stream",
     "text": [
      "Best trial: 12. Best value: 0.639279:  47%|████▋     | 14/30 [22:04<17:41, 66.33s/it]"
     ]
    },
    {
     "name": "stdout",
     "output_type": "stream",
     "text": [
      "[I 2025-07-02 15:52:21,935] Trial 13 finished with value: 0.6358474004832053 and parameters: {'n_estimators': 460, 'max_depth': 5, 'learning_rate': 0.006756896764699793, 'subsample': 0.5935815274736319, 'colsample_bytree': 0.7787061763355808, 'reg_alpha': 0.0007898030486589338, 'reg_lambda': 0.2734480612061181, 'min_child_weight': 10}. Best is trial 12 with value: 0.6392787833064004.\n"
     ]
    },
    {
     "name": "stderr",
     "output_type": "stream",
     "text": [
      "Best trial: 12. Best value: 0.639279:  50%|█████     | 15/30 [22:35<13:55, 55.70s/it]"
     ]
    },
    {
     "name": "stdout",
     "output_type": "stream",
     "text": [
      "[I 2025-07-02 15:52:53,022] Trial 14 finished with value: 0.5281788169389364 and parameters: {'n_estimators': 226, 'max_depth': 3, 'learning_rate': 0.036132009536904854, 'subsample': 0.9666206398422, 'colsample_bytree': 0.5104122742892676, 'reg_alpha': 0.005352079919006727, 'reg_lambda': 0.22925314456519574, 'min_child_weight': 10}. Best is trial 12 with value: 0.6392787833064004.\n"
     ]
    },
    {
     "name": "stderr",
     "output_type": "stream",
     "text": [
      "Best trial: 12. Best value: 0.639279:  53%|█████▎    | 16/30 [23:46<14:04, 60.30s/it]"
     ]
    },
    {
     "name": "stdout",
     "output_type": "stream",
     "text": [
      "[I 2025-07-02 15:54:03,980] Trial 15 finished with value: 0.6314522025039887 and parameters: {'n_estimators': 563, 'max_depth': 5, 'learning_rate': 0.0037357272164592237, 'subsample': 0.5903715741044122, 'colsample_bytree': 0.5793659560058565, 'reg_alpha': 0.00029080341524421023, 'reg_lambda': 0.000736971739226249, 'min_child_weight': 9}. Best is trial 12 with value: 0.6392787833064004.\n"
     ]
    },
    {
     "name": "stderr",
     "output_type": "stream",
     "text": [
      "Best trial: 12. Best value: 0.639279:  57%|█████▋    | 17/30 [26:44<20:45, 95.80s/it]"
     ]
    },
    {
     "name": "stdout",
     "output_type": "stream",
     "text": [
      "[I 2025-07-02 15:57:02,357] Trial 16 finished with value: 0.5209121084878708 and parameters: {'n_estimators': 920, 'max_depth': 5, 'learning_rate': 0.009585726744695893, 'subsample': 0.7364091822155149, 'colsample_bytree': 0.6846880340510955, 'reg_alpha': 0.04537244073238692, 'reg_lambda': 0.13818623010405956, 'min_child_weight': 1}. Best is trial 12 with value: 0.6392787833064004.\n"
     ]
    },
    {
     "name": "stderr",
     "output_type": "stream",
     "text": [
      "Best trial: 12. Best value: 0.639279:  60%|██████    | 18/30 [27:52<17:28, 87.37s/it]"
     ]
    },
    {
     "name": "stdout",
     "output_type": "stream",
     "text": [
      "[I 2025-07-02 15:58:10,093] Trial 17 finished with value: 0.6010077366731076 and parameters: {'n_estimators': 617, 'max_depth': 4, 'learning_rate': 0.03169855569722563, 'subsample': 0.5830702312164939, 'colsample_bytree': 0.7464478687804614, 'reg_alpha': 0.009134527733457076, 'reg_lambda': 8.27467895467775e-05, 'min_child_weight': 10}. Best is trial 12 with value: 0.6392787833064004.\n"
     ]
    },
    {
     "name": "stderr",
     "output_type": "stream",
     "text": [
      "Best trial: 12. Best value: 0.639279:  63%|██████▎   | 19/30 [28:58<14:51, 81.04s/it]"
     ]
    },
    {
     "name": "stdout",
     "output_type": "stream",
     "text": [
      "[I 2025-07-02 15:59:16,402] Trial 18 finished with value: 0.6062122099224279 and parameters: {'n_estimators': 448, 'max_depth': 12, 'learning_rate': 0.003930088062741026, 'subsample': 0.71388060458489, 'colsample_bytree': 0.8854092482457296, 'reg_alpha': 0.23917360897892082, 'reg_lambda': 0.002479904733730448, 'min_child_weight': 8}. Best is trial 12 with value: 0.6392787833064004.\n"
     ]
    },
    {
     "name": "stderr",
     "output_type": "stream",
     "text": [
      "Best trial: 12. Best value: 0.639279:  67%|██████▋   | 20/30 [29:46<11:49, 71.00s/it]"
     ]
    },
    {
     "name": "stdout",
     "output_type": "stream",
     "text": [
      "[I 2025-07-02 16:00:03,986] Trial 19 finished with value: 0.5591283390298746 and parameters: {'n_estimators': 301, 'max_depth': 6, 'learning_rate': 0.002735022784301753, 'subsample': 0.5423555659690548, 'colsample_bytree': 0.6432571111502924, 'reg_alpha': 0.0002643581071796241, 'reg_lambda': 0.002740397396498766, 'min_child_weight': 3}. Best is trial 12 with value: 0.6392787833064004.\n"
     ]
    },
    {
     "name": "stderr",
     "output_type": "stream",
     "text": [
      "Best trial: 12. Best value: 0.639279:  70%|███████   | 21/30 [30:51<10:23, 69.31s/it]"
     ]
    },
    {
     "name": "stdout",
     "output_type": "stream",
     "text": [
      "[I 2025-07-02 16:01:09,351] Trial 20 finished with value: 0.5879330539855897 and parameters: {'n_estimators': 500, 'max_depth': 4, 'learning_rate': 0.023541084040334455, 'subsample': 0.6335953060812705, 'colsample_bytree': 0.5668629671355585, 'reg_alpha': 0.0033003205240399723, 'reg_lambda': 0.07343704252827628, 'min_child_weight': 9}. Best is trial 12 with value: 0.6392787833064004.\n"
     ]
    },
    {
     "name": "stderr",
     "output_type": "stream",
     "text": [
      "Best trial: 12. Best value: 0.639279:  73%|███████▎  | 22/30 [32:00<09:12, 69.06s/it]"
     ]
    },
    {
     "name": "stdout",
     "output_type": "stream",
     "text": [
      "[I 2025-07-02 16:02:17,833] Trial 21 finished with value: 0.631829287940881 and parameters: {'n_estimators': 616, 'max_depth': 6, 'learning_rate': 0.008256312556317568, 'subsample': 0.5918311086772664, 'colsample_bytree': 0.7831820883900824, 'reg_alpha': 0.00043573428659123643, 'reg_lambda': 0.6842643545451472, 'min_child_weight': 10}. Best is trial 12 with value: 0.6392787833064004.\n"
     ]
    },
    {
     "name": "stderr",
     "output_type": "stream",
     "text": [
      "Best trial: 12. Best value: 0.639279:  77%|███████▋  | 23/30 [32:55<07:33, 64.85s/it]"
     ]
    },
    {
     "name": "stdout",
     "output_type": "stream",
     "text": [
      "[I 2025-07-02 16:03:12,851] Trial 22 finished with value: 0.6305762273312925 and parameters: {'n_estimators': 490, 'max_depth': 3, 'learning_rate': 0.008848192219511676, 'subsample': 0.510484541426694, 'colsample_bytree': 0.7118475739397673, 'reg_alpha': 0.0008047123488345152, 'reg_lambda': 0.7273824621570619, 'min_child_weight': 10}. Best is trial 12 with value: 0.6392787833064004.\n"
     ]
    },
    {
     "name": "stderr",
     "output_type": "stream",
     "text": [
      "Best trial: 12. Best value: 0.639279:  80%|████████  | 24/30 [33:45<06:02, 60.45s/it]"
     ]
    },
    {
     "name": "stdout",
     "output_type": "stream",
     "text": [
      "[I 2025-07-02 16:04:03,047] Trial 23 finished with value: 0.6179132854130712 and parameters: {'n_estimators': 341, 'max_depth': 6, 'learning_rate': 0.002461036493095765, 'subsample': 0.6165386225256184, 'colsample_bytree': 0.7805086323958468, 'reg_alpha': 0.021137893212638568, 'reg_lambda': 0.0635384834874929, 'min_child_weight': 7}. Best is trial 12 with value: 0.6392787833064004.\n"
     ]
    },
    {
     "name": "stderr",
     "output_type": "stream",
     "text": [
      "Best trial: 12. Best value: 0.639279:  83%|████████▎ | 25/30 [35:04<05:30, 66.17s/it]"
     ]
    },
    {
     "name": "stdout",
     "output_type": "stream",
     "text": [
      "[I 2025-07-02 16:05:22,556] Trial 24 finished with value: 0.6208801043414038 and parameters: {'n_estimators': 630, 'max_depth': 5, 'learning_rate': 0.006021003752834104, 'subsample': 0.5755347703812687, 'colsample_bytree': 0.8521913826014529, 'reg_alpha': 0.00012121435673656474, 'reg_lambda': 0.2355804149074085, 'min_child_weight': 9}. Best is trial 12 with value: 0.6392787833064004.\n"
     ]
    },
    {
     "name": "stderr",
     "output_type": "stream",
     "text": [
      "Best trial: 12. Best value: 0.639279:  87%|████████▋ | 26/30 [35:39<03:47, 56.77s/it]"
     ]
    },
    {
     "name": "stdout",
     "output_type": "stream",
     "text": [
      "[I 2025-07-02 16:05:57,387] Trial 25 finished with value: 0.6282327574371716 and parameters: {'n_estimators': 251, 'max_depth': 4, 'learning_rate': 0.011237621290551671, 'subsample': 0.544334629326376, 'colsample_bytree': 0.6081267827243366, 'reg_alpha': 0.003351384908928815, 'reg_lambda': 2.513239972640518, 'min_child_weight': 7}. Best is trial 12 with value: 0.6392787833064004.\n"
     ]
    },
    {
     "name": "stderr",
     "output_type": "stream",
     "text": [
      "Best trial: 12. Best value: 0.639279:  90%|█████████ | 27/30 [36:37<02:50, 56.97s/it]"
     ]
    },
    {
     "name": "stdout",
     "output_type": "stream",
     "text": [
      "[I 2025-07-02 16:06:54,848] Trial 26 finished with value: 0.6303768277928734 and parameters: {'n_estimators': 433, 'max_depth': 6, 'learning_rate': 0.0028387166518288654, 'subsample': 0.6988136375193927, 'colsample_bytree': 0.7752277582003408, 'reg_alpha': 0.08063119731495433, 'reg_lambda': 4.137079882963571e-05, 'min_child_weight': 10}. Best is trial 12 with value: 0.6392787833064004.\n"
     ]
    },
    {
     "name": "stderr",
     "output_type": "stream",
     "text": [
      "Best trial: 12. Best value: 0.639279:  93%|█████████▎| 28/30 [37:45<02:00, 60.31s/it]"
     ]
    },
    {
     "name": "stdout",
     "output_type": "stream",
     "text": [
      "[I 2025-07-02 16:08:02,953] Trial 27 finished with value: 0.6129606610989932 and parameters: {'n_estimators': 511, 'max_depth': 10, 'learning_rate': 0.006785134562721628, 'subsample': 0.6216397716990428, 'colsample_bytree': 0.6722026625445997, 'reg_alpha': 0.012486207240215255, 'reg_lambda': 0.0024889940009160923, 'min_child_weight': 8}. Best is trial 12 with value: 0.6392787833064004.\n"
     ]
    },
    {
     "name": "stderr",
     "output_type": "stream",
     "text": [
      "Best trial: 12. Best value: 0.639279:  97%|█████████▋| 29/30 [39:34<01:15, 75.09s/it]"
     ]
    },
    {
     "name": "stdout",
     "output_type": "stream",
     "text": [
      "[I 2025-07-02 16:09:52,518] Trial 28 finished with value: 0.6318683936961693 and parameters: {'n_estimators': 838, 'max_depth': 4, 'learning_rate': 0.0010283794640503984, 'subsample': 0.6676119114616877, 'colsample_bytree': 0.7313088841511302, 'reg_alpha': 0.0007265406212772931, 'reg_lambda': 0.3388519348731367, 'min_child_weight': 9}. Best is trial 12 with value: 0.6392787833064004.\n"
     ]
    },
    {
     "name": "stderr",
     "output_type": "stream",
     "text": [
      "Best trial: 12. Best value: 0.639279: 100%|██████████| 30/30 [41:07<00:00, 82.26s/it]"
     ]
    },
    {
     "name": "stdout",
     "output_type": "stream",
     "text": [
      "[I 2025-07-02 16:11:25,451] Trial 29 finished with value: 0.5203232347860978 and parameters: {'n_estimators': 766, 'max_depth': 3, 'learning_rate': 0.05619815138888329, 'subsample': 0.7765546178110119, 'colsample_bytree': 0.6556982681014527, 'reg_alpha': 1.6053220510878373e-05, 'reg_lambda': 0.053317827663839204, 'min_child_weight': 8}. Best is trial 12 with value: 0.6392787833064004.\n",
      "\n",
      " Best ROC AUC: 0.6393\n",
      "Best Parameters:\n",
      "{\n",
      "  \"n_estimators\": 520,\n",
      "  \"max_depth\": 5,\n",
      "  \"learning_rate\": 0.005414773249596505,\n",
      "  \"subsample\": 0.6002008074343136,\n",
      "  \"colsample_bytree\": 0.6087815751234045,\n",
      "  \"reg_alpha\": 0.0072077076713604835,\n",
      "  \"reg_lambda\": 0.33162868366240345,\n",
      "  \"min_child_weight\": 10\n",
      "}\n"
     ]
    },
    {
     "name": "stderr",
     "output_type": "stream",
     "text": [
      "\n"
     ]
    }
   ],
   "source": [
    "# Define cross-validation\n",
    "cv = StratifiedKFold(n_splits=5, shuffle=True, random_state=42)\n",
    "\n",
    "# Create study and optimize with progress bar\n",
    "XGBoost_study = optuna.create_study(direction='maximize', study_name='XGBoost Optimization')\n",
    "\n",
    "XGBoost_study.optimize(xgb_objective, n_trials=30, show_progress_bar=True)\n",
    "\n",
    "# Report best result\n",
    "print(f\"\\n Best ROC AUC: {XGBoost_study.best_value:.4f}\")\n",
    "print(\"Best Parameters:\")\n",
    "print(json.dumps(XGBoost_study.best_params, indent=2))\n"
   ]
  },
  {
   "cell_type": "code",
   "execution_count": 31,
   "id": "53c6e2e0",
   "metadata": {},
   "outputs": [],
   "source": [
    "# Save study object\n",
    "joblib.dump(XGBoost_study, \"Saved/XGBoost_optuna_study.pkl\")\n",
    "\n",
    "# Save best params\n",
    "with open(\"Saved/XGBoost_optuna_best_params.json\", \"w\") as f:\n",
    "    json.dump(XGBoost_study.best_params, f, indent=2)\n",
    "\n",
    "# Save trial scores\n",
    "trial_df = pd.DataFrame({\n",
    "    'trial': [t.number for t in XGBoost_study.trials],\n",
    "    'auc_score': [t.value for t in XGBoost_study.trials]\n",
    "})\n",
    "trial_df.to_csv(\"Saved/XGBoost_optuna_trial_scores.csv\", index=False)\n"
   ]
  },
  {
   "cell_type": "code",
   "execution_count": 32,
   "id": "49a612f8",
   "metadata": {},
   "outputs": [
    {
     "data": {
      "image/png": "[encoded data removed]",
      "text/plain": [
       "<Figure size 1000x600 with 1 Axes>"
      ]
     },
     "metadata": {},
     "output_type": "display_data"
    }
   ],
   "source": [
    "# Plot and save performance\n",
    "plt.figure(figsize=(10, 6))\n",
    "plt.plot(trial_df['trial'], trial_df['auc_score'], marker='o', linewidth=2)\n",
    "plt.axhline(XGBoost_study.best_value, color='r', linestyle='--', label='Best AUC')\n",
    "plt.title(\"XGBoost ROC AUC per Trial (Optuna)\", fontsize=14)\n",
    "plt.xlabel(\"Trial\", fontsize=12)\n",
    "plt.ylabel(\"ROC AUC\", fontsize=12)\n",
    "plt.grid(True, linestyle='--', alpha=0.6)\n",
    "plt.legend()\n",
    "plt.tight_layout()\n",
    "plt.savefig(\"Saved/XGBoost_auc_trials.png\", dpi=300, bbox_inches='tight')\n",
    "plt.show()"
   ]
  },
  {
   "cell_type": "markdown",
   "id": "341d6517",
   "metadata": {},
   "source": [
    "## 4.4 Gradient Boosting LightGBM + Optuna "
   ]
  },
  {
   "cell_type": "code",
   "execution_count": 33,
   "id": "3d5adea5",
   "metadata": {},
   "outputs": [],
   "source": [
    "# Objective function for Optuna\n",
    "def lgb_objective(trial):\n",
    "    params = {\n",
    "        'objective': 'binary',\n",
    "        'metric': 'auc',\n",
    "        'verbosity': -1,\n",
    "        'boosting_type': 'gbdt',\n",
    "        'learning_rate': trial.suggest_float('learning_rate', 1e-3, 0.3, log=True),\n",
    "        'num_leaves': trial.suggest_int('num_leaves', 20, 256),\n",
    "        'max_depth': trial.suggest_int('max_depth', 3, 15),\n",
    "        'min_data_in_leaf': trial.suggest_int('min_data_in_leaf', 10, 100),\n",
    "        'feature_fraction': trial.suggest_float('feature_fraction', 0.5, 1.0),\n",
    "        'bagging_fraction': trial.suggest_float('bagging_fraction', 0.5, 1.0),\n",
    "        'bagging_freq': trial.suggest_int('bagging_freq', 1, 10),\n",
    "        'lambda_l1': trial.suggest_float('lambda_l1', 1e-8, 10.0, log=True),\n",
    "        'lambda_l2': trial.suggest_float('lambda_l2', 1e-8, 10.0, log=True),\n",
    "        'random_state': 42,\n",
    "        'n_jobs': -1\n",
    "    }\n",
    "\n",
    "    model = lgb.LGBMClassifier(**params)\n",
    "    scores = cross_val_score(model, X_train, y_train, cv=cv, scoring='roc_auc', n_jobs=-1)\n",
    "    return scores.mean()"
   ]
  },
  {
   "cell_type": "code",
   "execution_count": null,
   "id": "12614eda",
   "metadata": {},
   "outputs": [
    {
     "name": "stderr",
     "output_type": "stream",
     "text": [
      "[I 2025-07-02 16:23:35,434] A new study created in memory with name: LightGBM Optimization\n",
      "Best trial: 0. Best value: 0.507662:   3%|▎         | 1/30 [00:36<17:29, 36.19s/it]"
     ]
    },
    {
     "name": "stdout",
     "output_type": "stream",
     "text": [
      "[I 2025-07-02 16:24:11,621] Trial 0 finished with value: 0.5076618518506315 and parameters: {'learning_rate': 0.07260975242882176, 'num_leaves': 192, 'max_depth': 5, 'min_data_in_leaf': 18, 'feature_fraction': 0.9404270138706352, 'bagging_fraction': 0.9608632879597361, 'bagging_freq': 8, 'lambda_l1': 0.0012068374051895463, 'lambda_l2': 0.00016793476145128932}. Best is trial 0 with value: 0.5076618518506315.\n"
     ]
    },
    {
     "name": "stderr",
     "output_type": "stream",
     "text": [
      "Best trial: 1. Best value: 0.536834:   7%|▋         | 2/30 [01:02<14:11, 30.40s/it]"
     ]
    },
    {
     "name": "stdout",
     "output_type": "stream",
     "text": [
      "[I 2025-07-02 16:24:37,962] Trial 1 finished with value: 0.5368335943637923 and parameters: {'learning_rate': 0.1700296085576345, 'num_leaves': 228, 'max_depth': 13, 'min_data_in_leaf': 88, 'feature_fraction': 0.9152733475308158, 'bagging_fraction': 0.7030267682221129, 'bagging_freq': 7, 'lambda_l1': 1.2166556197426946e-06, 'lambda_l2': 6.8785064122369635}. Best is trial 1 with value: 0.5368335943637923.\n"
     ]
    },
    {
     "name": "stderr",
     "output_type": "stream",
     "text": [
      "Best trial: 2. Best value: 0.56893:  10%|█         | 3/30 [01:25<12:06, 26.91s/it] "
     ]
    },
    {
     "name": "stdout",
     "output_type": "stream",
     "text": [
      "[I 2025-07-02 16:25:00,716] Trial 2 finished with value: 0.5689297894573959 and parameters: {'learning_rate': 0.0076421623879435975, 'num_leaves': 95, 'max_depth': 5, 'min_data_in_leaf': 32, 'feature_fraction': 0.6927212010379722, 'bagging_fraction': 0.7158928415165395, 'bagging_freq': 1, 'lambda_l1': 0.0343527018973533, 'lambda_l2': 2.653021889610061e-06}. Best is trial 2 with value: 0.5689297894573959.\n"
     ]
    },
    {
     "name": "stderr",
     "output_type": "stream",
     "text": [
      "Best trial: 2. Best value: 0.56893:  13%|█▎        | 4/30 [01:54<12:01, 27.76s/it]"
     ]
    },
    {
     "name": "stdout",
     "output_type": "stream",
     "text": [
      "[I 2025-07-02 16:25:29,784] Trial 3 finished with value: 0.4939912358016637 and parameters: {'learning_rate': 0.006388692682154156, 'num_leaves': 239, 'max_depth': 12, 'min_data_in_leaf': 33, 'feature_fraction': 0.7337838876099452, 'bagging_fraction': 0.8086258639090043, 'bagging_freq': 7, 'lambda_l1': 2.357538671125284e-07, 'lambda_l2': 0.41775762766524116}. Best is trial 2 with value: 0.5689297894573959.\n"
     ]
    },
    {
     "name": "stderr",
     "output_type": "stream",
     "text": [
      "Best trial: 2. Best value: 0.56893:  17%|█▋        | 5/30 [02:15<10:37, 25.52s/it]"
     ]
    },
    {
     "name": "stdout",
     "output_type": "stream",
     "text": [
      "[I 2025-07-02 16:25:51,322] Trial 4 finished with value: 0.5231466677247003 and parameters: {'learning_rate': 0.0027083537050754673, 'num_leaves': 236, 'max_depth': 6, 'min_data_in_leaf': 87, 'feature_fraction': 0.7363242092858782, 'bagging_fraction': 0.9333278986219422, 'bagging_freq': 10, 'lambda_l1': 1.6666095031340264e-08, 'lambda_l2': 9.236443082663512e-05}. Best is trial 2 with value: 0.5689297894573959.\n"
     ]
    },
    {
     "name": "stderr",
     "output_type": "stream",
     "text": [
      "Best trial: 2. Best value: 0.56893:  20%|██        | 6/30 [02:40<10:05, 25.22s/it]"
     ]
    },
    {
     "name": "stdout",
     "output_type": "stream",
     "text": [
      "[I 2025-07-02 16:26:15,979] Trial 5 finished with value: 0.5439481380132347 and parameters: {'learning_rate': 0.012011222811404255, 'num_leaves': 95, 'max_depth': 13, 'min_data_in_leaf': 70, 'feature_fraction': 0.9959597590860394, 'bagging_fraction': 0.6669632820953051, 'bagging_freq': 7, 'lambda_l1': 0.00024182917993724587, 'lambda_l2': 2.42351851261837e-07}. Best is trial 2 with value: 0.5689297894573959.\n"
     ]
    },
    {
     "name": "stderr",
     "output_type": "stream",
     "text": [
      "Best trial: 2. Best value: 0.56893:  23%|██▎       | 7/30 [02:59<08:49, 23.01s/it]"
     ]
    },
    {
     "name": "stdout",
     "output_type": "stream",
     "text": [
      "[I 2025-07-02 16:26:34,437] Trial 6 finished with value: 0.5496910643806793 and parameters: {'learning_rate': 0.002792209850268427, 'num_leaves': 230, 'max_depth': 7, 'min_data_in_leaf': 24, 'feature_fraction': 0.6950781716138802, 'bagging_fraction': 0.5837508255377379, 'bagging_freq': 2, 'lambda_l1': 1.808898572303299e-07, 'lambda_l2': 0.004281762345598644}. Best is trial 2 with value: 0.5689297894573959.\n"
     ]
    },
    {
     "name": "stderr",
     "output_type": "stream",
     "text": [
      "Best trial: 2. Best value: 0.56893:  27%|██▋       | 8/30 [03:23<08:34, 23.39s/it]"
     ]
    },
    {
     "name": "stdout",
     "output_type": "stream",
     "text": [
      "[I 2025-07-02 16:26:58,630] Trial 7 finished with value: 0.5067657479529427 and parameters: {'learning_rate': 0.12802945338245866, 'num_leaves': 69, 'max_depth': 15, 'min_data_in_leaf': 11, 'feature_fraction': 0.502779175375538, 'bagging_fraction': 0.9002189538418381, 'bagging_freq': 1, 'lambda_l1': 6.265031608190614e-08, 'lambda_l2': 0.006973084280194755}. Best is trial 2 with value: 0.5689297894573959.\n"
     ]
    },
    {
     "name": "stderr",
     "output_type": "stream",
     "text": [
      "Best trial: 2. Best value: 0.56893:  30%|███       | 9/30 [03:46<08:12, 23.43s/it]"
     ]
    },
    {
     "name": "stdout",
     "output_type": "stream",
     "text": [
      "[I 2025-07-02 16:27:22,142] Trial 8 finished with value: 0.5271027229906695 and parameters: {'learning_rate': 0.05287193349827776, 'num_leaves': 29, 'max_depth': 8, 'min_data_in_leaf': 37, 'feature_fraction': 0.6275981658889371, 'bagging_fraction': 0.7328942474520039, 'bagging_freq': 7, 'lambda_l1': 0.00658863410439194, 'lambda_l2': 0.0013648717112826312}. Best is trial 2 with value: 0.5689297894573959.\n"
     ]
    },
    {
     "name": "stderr",
     "output_type": "stream",
     "text": [
      "Best trial: 9. Best value: 0.598596:  33%|███▎      | 10/30 [03:58<06:34, 19.74s/it]"
     ]
    },
    {
     "name": "stdout",
     "output_type": "stream",
     "text": [
      "[I 2025-07-02 16:27:33,628] Trial 9 finished with value: 0.5985957211140326 and parameters: {'learning_rate': 0.004982099006148298, 'num_leaves': 189, 'max_depth': 3, 'min_data_in_leaf': 26, 'feature_fraction': 0.5233950953930708, 'bagging_fraction': 0.5099040387370675, 'bagging_freq': 10, 'lambda_l1': 0.01181722964628491, 'lambda_l2': 0.00026593101117116156}. Best is trial 9 with value: 0.5985957211140326.\n"
     ]
    },
    {
     "name": "stderr",
     "output_type": "stream",
     "text": [
      "Best trial: 10. Best value: 0.598939:  37%|███▋      | 11/30 [04:10<05:33, 17.58s/it]"
     ]
    },
    {
     "name": "stdout",
     "output_type": "stream",
     "text": [
      "[I 2025-07-02 16:27:46,311] Trial 10 finished with value: 0.5989388056251759 and parameters: {'learning_rate': 0.0012978066852119509, 'num_leaves': 173, 'max_depth': 3, 'min_data_in_leaf': 57, 'feature_fraction': 0.5061423311249903, 'bagging_fraction': 0.5032700526605071, 'bagging_freq': 10, 'lambda_l1': 3.466055376174343, 'lambda_l2': 2.3459198508256137e-08}. Best is trial 10 with value: 0.5989388056251759.\n"
     ]
    },
    {
     "name": "stderr",
     "output_type": "stream",
     "text": [
      "Best trial: 11. Best value: 0.631905:  40%|████      | 12/30 [04:21<04:36, 15.38s/it]"
     ]
    },
    {
     "name": "stdout",
     "output_type": "stream",
     "text": [
      "[I 2025-07-02 16:27:56,648] Trial 11 finished with value: 0.6319051930112176 and parameters: {'learning_rate': 0.0013691315858490763, 'num_leaves': 166, 'max_depth': 3, 'min_data_in_leaf': 59, 'feature_fraction': 0.5008545852260579, 'bagging_fraction': 0.5267928393868748, 'bagging_freq': 10, 'lambda_l1': 9.411205419185405, 'lambda_l2': 2.8406627808123057e-08}. Best is trial 11 with value: 0.6319051930112176.\n"
     ]
    },
    {
     "name": "stderr",
     "output_type": "stream",
     "text": [
      "Best trial: 12. Best value: 0.642253:  43%|████▎     | 13/30 [04:32<03:59, 14.07s/it]"
     ]
    },
    {
     "name": "stdout",
     "output_type": "stream",
     "text": [
      "[I 2025-07-02 16:28:07,721] Trial 12 finished with value: 0.6422528365553937 and parameters: {'learning_rate': 0.0011234655416568406, 'num_leaves': 146, 'max_depth': 3, 'min_data_in_leaf': 56, 'feature_fraction': 0.5982954466740837, 'bagging_fraction': 0.503933587769379, 'bagging_freq': 4, 'lambda_l1': 9.593111462986858, 'lambda_l2': 1.3042569691326063e-08}. Best is trial 12 with value: 0.6422528365553937.\n"
     ]
    },
    {
     "name": "stderr",
     "output_type": "stream",
     "text": [
      "Best trial: 12. Best value: 0.642253:  47%|████▋     | 14/30 [04:49<03:59, 15.00s/it]"
     ]
    },
    {
     "name": "stdout",
     "output_type": "stream",
     "text": [
      "[I 2025-07-02 16:28:24,862] Trial 13 finished with value: 0.548306662524837 and parameters: {'learning_rate': 0.001275725448166862, 'num_leaves': 144, 'max_depth': 10, 'min_data_in_leaf': 54, 'feature_fraction': 0.6004951627942208, 'bagging_fraction': 0.6055837597388227, 'bagging_freq': 3, 'lambda_l1': 1.2341751560462013, 'lambda_l2': 1.3490356638781456e-08}. Best is trial 12 with value: 0.6422528365553937.\n"
     ]
    },
    {
     "name": "stderr",
     "output_type": "stream",
     "text": [
      "Best trial: 12. Best value: 0.642253:  50%|█████     | 15/30 [05:03<03:39, 14.66s/it]"
     ]
    },
    {
     "name": "stdout",
     "output_type": "stream",
     "text": [
      "[I 2025-07-02 16:28:38,744] Trial 14 finished with value: 0.575417248310624 and parameters: {'learning_rate': 0.028254425338089785, 'num_leaves': 151, 'max_depth': 3, 'min_data_in_leaf': 53, 'feature_fraction': 0.5973954409391592, 'bagging_fraction': 0.580634799637737, 'bagging_freq': 4, 'lambda_l1': 0.26959789369812204, 'lambda_l2': 2.272242687608507e-06}. Best is trial 12 with value: 0.6422528365553937.\n"
     ]
    },
    {
     "name": "stderr",
     "output_type": "stream",
     "text": [
      "Best trial: 12. Best value: 0.642253:  53%|█████▎    | 16/30 [05:23<03:50, 16.45s/it]"
     ]
    },
    {
     "name": "stdout",
     "output_type": "stream",
     "text": [
      "[I 2025-07-02 16:28:59,363] Trial 15 finished with value: 0.5852776380489907 and parameters: {'learning_rate': 0.001062014284812403, 'num_leaves': 111, 'max_depth': 10, 'min_data_in_leaf': 68, 'feature_fraction': 0.8285003419056568, 'bagging_fraction': 0.8113714224959203, 'bagging_freq': 5, 'lambda_l1': 9.235742095813144, 'lambda_l2': 6.273632017915641e-07}. Best is trial 12 with value: 0.6422528365553937.\n"
     ]
    },
    {
     "name": "stderr",
     "output_type": "stream",
     "text": [
      "Best trial: 12. Best value: 0.642253:  57%|█████▋    | 17/30 [05:42<03:43, 17.18s/it]"
     ]
    },
    {
     "name": "stdout",
     "output_type": "stream",
     "text": [
      "[I 2025-07-02 16:29:18,243] Trial 16 finished with value: 0.563814649580948 and parameters: {'learning_rate': 0.002744469776178116, 'num_leaves': 124, 'max_depth': 5, 'min_data_in_leaf': 44, 'feature_fraction': 0.5733593547815569, 'bagging_fraction': 0.6342859656591672, 'bagging_freq': 5, 'lambda_l1': 5.957075104684367e-05, 'lambda_l2': 9.593185337437031e-08}. Best is trial 12 with value: 0.6422528365553937.\n"
     ]
    },
    {
     "name": "stderr",
     "output_type": "stream",
     "text": [
      "Best trial: 12. Best value: 0.642253:  60%|██████    | 18/30 [06:00<03:26, 17.21s/it]"
     ]
    },
    {
     "name": "stdout",
     "output_type": "stream",
     "text": [
      "[I 2025-07-02 16:29:35,497] Trial 17 finished with value: 0.5265468747063561 and parameters: {'learning_rate': 0.019618532170896034, 'num_leaves': 176, 'max_depth': 4, 'min_data_in_leaf': 73, 'feature_fraction': 0.8234712608875898, 'bagging_fraction': 0.5537530664608787, 'bagging_freq': 3, 'lambda_l1': 0.1576667111478171, 'lambda_l2': 1.4412650268259744e-05}. Best is trial 12 with value: 0.6422528365553937.\n"
     ]
    },
    {
     "name": "stderr",
     "output_type": "stream",
     "text": [
      "Best trial: 12. Best value: 0.642253:  63%|██████▎   | 19/30 [06:15<03:03, 16.68s/it]"
     ]
    },
    {
     "name": "stdout",
     "output_type": "stream",
     "text": [
      "[I 2025-07-02 16:29:50,959] Trial 18 finished with value: 0.5865432628087366 and parameters: {'learning_rate': 0.0019637344098150686, 'num_leaves': 155, 'max_depth': 7, 'min_data_in_leaf': 98, 'feature_fraction': 0.6525588533438343, 'bagging_fraction': 0.5410847571483233, 'bagging_freq': 9, 'lambda_l1': 0.7574684103064085, 'lambda_l2': 8.850686611810694e-08}. Best is trial 12 with value: 0.6422528365553937.\n"
     ]
    },
    {
     "name": "stderr",
     "output_type": "stream",
     "text": [
      "Best trial: 12. Best value: 0.642253:  67%|██████▋   | 20/30 [06:32<02:46, 16.68s/it]"
     ]
    },
    {
     "name": "stdout",
     "output_type": "stream",
     "text": [
      "[I 2025-07-02 16:30:07,625] Trial 19 finished with value: 0.5700389088231224 and parameters: {'learning_rate': 0.003915257457599025, 'num_leaves': 208, 'max_depth': 8, 'min_data_in_leaf': 62, 'feature_fraction': 0.549544592489583, 'bagging_fraction': 0.6220948070898573, 'bagging_freq': 6, 'lambda_l1': 7.842035425337874e-06, 'lambda_l2': 1.3024510642199477e-05}. Best is trial 12 with value: 0.6422528365553937.\n"
     ]
    },
    {
     "name": "stderr",
     "output_type": "stream",
     "text": [
      "Best trial: 12. Best value: 0.642253:  70%|███████   | 21/30 [06:48<02:28, 16.50s/it]"
     ]
    },
    {
     "name": "stdout",
     "output_type": "stream",
     "text": [
      "[I 2025-07-02 16:30:23,722] Trial 20 finished with value: 0.5835976915034891 and parameters: {'learning_rate': 0.00866211885947446, 'num_leaves': 60, 'max_depth': 4, 'min_data_in_leaf': 43, 'feature_fraction': 0.7968216548764373, 'bagging_fraction': 0.7935836937874979, 'bagging_freq': 4, 'lambda_l1': 0.08020297608502015, 'lambda_l2': 1.4926948104417333e-08}. Best is trial 12 with value: 0.6422528365553937.\n"
     ]
    },
    {
     "name": "stderr",
     "output_type": "stream",
     "text": [
      "Best trial: 12. Best value: 0.642253:  73%|███████▎  | 22/30 [07:03<02:09, 16.21s/it]"
     ]
    },
    {
     "name": "stdout",
     "output_type": "stream",
     "text": [
      "[I 2025-07-02 16:30:39,257] Trial 21 finished with value: 0.6058011197462281 and parameters: {'learning_rate': 0.0016285580738103806, 'num_leaves': 170, 'max_depth': 3, 'min_data_in_leaf': 60, 'feature_fraction': 0.5382351907930156, 'bagging_fraction': 0.5099956772224561, 'bagging_freq': 9, 'lambda_l1': 9.783657184313713, 'lambda_l2': 2.038250645871468e-08}. Best is trial 12 with value: 0.6422528365553937.\n"
     ]
    },
    {
     "name": "stderr",
     "output_type": "stream",
     "text": [
      "Best trial: 12. Best value: 0.642253:  77%|███████▋  | 23/30 [07:14<01:42, 14.64s/it]"
     ]
    },
    {
     "name": "stdout",
     "output_type": "stream",
     "text": [
      "[I 2025-07-02 16:30:50,241] Trial 22 finished with value: 0.6038484854558808 and parameters: {'learning_rate': 0.0017618830887569368, 'num_leaves': 130, 'max_depth': 4, 'min_data_in_leaf': 78, 'feature_fraction': 0.5511279102294578, 'bagging_fraction': 0.5404523722951022, 'bagging_freq': 9, 'lambda_l1': 9.821961001905311, 'lambda_l2': 7.210941671350944e-07}. Best is trial 12 with value: 0.6422528365553937.\n"
     ]
    },
    {
     "name": "stderr",
     "output_type": "stream",
     "text": [
      "Best trial: 12. Best value: 0.642253:  80%|████████  | 24/30 [07:27<01:24, 14.05s/it]"
     ]
    },
    {
     "name": "stdout",
     "output_type": "stream",
     "text": [
      "[I 2025-07-02 16:31:02,913] Trial 23 finished with value: 0.5719793465903613 and parameters: {'learning_rate': 0.0017814281284842847, 'num_leaves': 165, 'max_depth': 3, 'min_data_in_leaf': 48, 'feature_fraction': 0.6597032827800257, 'bagging_fraction': 0.5053625826062641, 'bagging_freq': 9, 'lambda_l1': 1.176259411627971, 'lambda_l2': 8.781681923179283e-08}. Best is trial 12 with value: 0.6422528365553937.\n"
     ]
    },
    {
     "name": "stderr",
     "output_type": "stream",
     "text": [
      "Best trial: 12. Best value: 0.642253:  83%|████████▎ | 25/30 [07:45<01:16, 15.32s/it]"
     ]
    },
    {
     "name": "stdout",
     "output_type": "stream",
     "text": [
      "[I 2025-07-02 16:31:21,196] Trial 24 finished with value: 0.5386740200313724 and parameters: {'learning_rate': 0.003908013448862637, 'num_leaves': 203, 'max_depth': 6, 'min_data_in_leaf': 60, 'feature_fraction': 0.565623857316107, 'bagging_fraction': 0.6519761769682566, 'bagging_freq': 8, 'lambda_l1': 0.5119146688026392, 'lambda_l2': 1.0779162528255134e-08}. Best is trial 12 with value: 0.6422528365553937.\n"
     ]
    },
    {
     "name": "stderr",
     "output_type": "stream",
     "text": [
      "Best trial: 12. Best value: 0.642253:  87%|████████▋ | 26/30 [07:59<00:59, 14.98s/it]"
     ]
    },
    {
     "name": "stdout",
     "output_type": "stream",
     "text": [
      "[I 2025-07-02 16:31:35,392] Trial 25 finished with value: 0.5538220826642826 and parameters: {'learning_rate': 0.289907382465321, 'num_leaves': 132, 'max_depth': 4, 'min_data_in_leaf': 64, 'feature_fraction': 0.6272766738230907, 'bagging_fraction': 0.5715430836586638, 'bagging_freq': 6, 'lambda_l1': 2.5746802358139402, 'lambda_l2': 7.0281374888897905e-06}. Best is trial 12 with value: 0.6422528365553937.\n"
     ]
    },
    {
     "name": "stderr",
     "output_type": "stream",
     "text": [
      "Best trial: 12. Best value: 0.642253:  90%|█████████ | 27/30 [08:14<00:44, 14.96s/it]"
     ]
    },
    {
     "name": "stdout",
     "output_type": "stream",
     "text": [
      "[I 2025-07-02 16:31:50,285] Trial 26 finished with value: 0.5795396090534979 and parameters: {'learning_rate': 0.0011243081307007472, 'num_leaves': 212, 'max_depth': 6, 'min_data_in_leaf': 81, 'feature_fraction': 0.535447677902646, 'bagging_fraction': 0.5387035536087701, 'bagging_freq': 8, 'lambda_l1': 0.0031926747345385055, 'lambda_l2': 3.36220415533665e-07}. Best is trial 12 with value: 0.6422528365553937.\n"
     ]
    },
    {
     "name": "stderr",
     "output_type": "stream",
     "text": [
      "Best trial: 12. Best value: 0.642253:  93%|█████████▎| 28/30 [08:30<00:30, 15.17s/it]"
     ]
    },
    {
     "name": "stdout",
     "output_type": "stream",
     "text": [
      "[I 2025-07-02 16:32:05,948] Trial 27 finished with value: 0.5286294186330596 and parameters: {'learning_rate': 0.002011818241777965, 'num_leaves': 111, 'max_depth': 5, 'min_data_in_leaf': 49, 'feature_fraction': 0.5934525614354242, 'bagging_fraction': 0.6742773406964879, 'bagging_freq': 4, 'lambda_l1': 0.03071116181303832, 'lambda_l2': 0.04997318991215606}. Best is trial 12 with value: 0.6422528365553937.\n"
     ]
    },
    {
     "name": "stderr",
     "output_type": "stream",
     "text": [
      "Best trial: 12. Best value: 0.642253:  97%|█████████▋| 29/30 [08:44<00:14, 14.69s/it]"
     ]
    },
    {
     "name": "stdout",
     "output_type": "stream",
     "text": [
      "[I 2025-07-02 16:32:19,522] Trial 28 finished with value: 0.5743411627521862 and parameters: {'learning_rate': 0.0035684607144600804, 'num_leaves': 185, 'max_depth': 3, 'min_data_in_leaf': 64, 'feature_fraction': 0.502011188627899, 'bagging_fraction': 0.7651403464565059, 'bagging_freq': 9, 'lambda_l1': 5.481892954205671, 'lambda_l2': 5.674093868272611e-08}. Best is trial 12 with value: 0.6422528365553937.\n"
     ]
    },
    {
     "name": "stderr",
     "output_type": "stream",
     "text": [
      "Best trial: 12. Best value: 0.642253: 100%|██████████| 30/30 [09:03<00:00, 18.12s/it]"
     ]
    },
    {
     "name": "stdout",
     "output_type": "stream",
     "text": [
      "[I 2025-07-02 16:32:38,995] Trial 29 finished with value: 0.5524769177501444 and parameters: {'learning_rate': 0.04379157561256663, 'num_leaves': 156, 'max_depth': 4, 'min_data_in_leaf': 40, 'feature_fraction': 0.6268198451060063, 'bagging_fraction': 0.6136032634758886, 'bagging_freq': 10, 'lambda_l1': 0.0005290196683184618, 'lambda_l2': 5.655585977540439e-05}. Best is trial 12 with value: 0.6422528365553937.\n",
      "\n",
      " Best ROC AUC: 0.6423\n",
      "Best Parameters:\n",
      "learning_rate: 0.0011234655416568406\n",
      "num_leaves: 146\n",
      "max_depth: 3\n",
      "min_data_in_leaf: 56\n",
      "feature_fraction: 0.5982954466740837\n",
      "bagging_fraction: 0.503933587769379\n",
      "bagging_freq: 4\n",
      "lambda_l1: 9.593111462986858\n",
      "lambda_l2: 1.3042569691326063e-08\n"
     ]
    },
    {
     "name": "stderr",
     "output_type": "stream",
     "text": [
      "\n"
     ]
    }
   ],
   "source": [
    "# Stratified K-Fold cross-validation\n",
    "cv = StratifiedKFold(n_splits=5, shuffle=True, random_state=42)\n",
    "\n",
    "# Run Optuna study with progress bar\n",
    "lgb_study = optuna.create_study(direction='maximize', study_name='LightGBM Optimization')\n",
    "lgb_study.optimize(lgb_objective, n_trials=30, show_progress_bar=True)\n",
    "\n",
    "# Report best score and parameters\n",
    "print(f\"\\n Best ROC AUC: {lgb_study.best_value:.4f}\")\n",
    "print(\"Best Parameters:\")\n",
    "for k, v in lgb_study.best_params.items():\n",
    "    print(f\"{k}: {v}\")"
   ]
  },
  {
   "cell_type": "code",
   "execution_count": 35,
   "id": "38dfea2c",
   "metadata": {},
   "outputs": [],
   "source": [
    "# 1. Save Optuna study\n",
    "joblib.dump(lgb_study, \"Saved/lightgbm_optuna_study.pkl\")\n",
    "\n",
    "# 2. Save best parameters to JSON\n",
    "with open(\"Saved/lightgbm_optuna_best_params.json\", \"w\") as f:\n",
    "    json.dump(lgb_study.best_params, f, indent=2)\n",
    "\n",
    "# 3. Save trial scores to CSV\n",
    "trial_scores = pd.DataFrame({\n",
    "    \"trial\": [t.number for t in lgb_study.trials],\n",
    "    \"auc_score\": [t.value for t in lgb_study.trials]\n",
    "})\n",
    "trial_scores.to_csv(\"Saved/lightgbm_optuna_trial_scores.csv\", index=False)"
   ]
  },
  {
   "cell_type": "code",
   "execution_count": 36,
   "id": "be7812a7",
   "metadata": {},
   "outputs": [
    {
     "data": {
      "image/png": "[encoded data removed]",
      "text/plain": [
       "<Figure size 1000x600 with 1 Axes>"
      ]
     },
     "metadata": {},
     "output_type": "display_data"
    }
   ],
   "source": [
    "#  Save and plot trial AUC values\n",
    "plt.figure(figsize=(10, 6))\n",
    "plt.plot([t.value for t in lgb_study.trials], marker='o', linewidth=2)\n",
    "plt.title('LightGBM ROC AUC per Trial (Optuna)', fontsize=14)\n",
    "plt.xlabel('Trial', fontsize=12)\n",
    "plt.ylabel('ROC AUC', fontsize=12)\n",
    "plt.grid(True, linestyle='--', alpha=0.6)\n",
    "plt.tight_layout()\n",
    "plt.savefig(\"Saved/lightgbm_optuna_auc_plot.png\", dpi=300, bbox_inches='tight')\n",
    "plt.show()"
   ]
  },
  {
   "cell_type": "markdown",
   "id": "1df19a2d",
   "metadata": {},
   "source": [
    "Logistic regression with L1 is the current best. But that may reflect the nature of the data rather than the absolute superiority of the model."
   ]
  },
  {
   "cell_type": "markdown",
   "id": "e6887c70",
   "metadata": {},
   "source": [
    "## 4.5 Stacking (RF + LGBM + LR using Stacking Classifier)"
   ]
  },
  {
   "cell_type": "markdown",
   "id": "518a96a8",
   "metadata": {},
   "source": [
    "Here’s a lean, production-ready template for tuning a 3-level stack (Random Forest + LightGBM as base learners, Logistic Regression as meta-learner) with Optuna, a tqdm progress bar, and full artifact saving."
   ]
  },
  {
   "cell_type": "markdown",
   "id": "75bc17cb",
   "metadata": {},
   "source": [
    "Level-0 (base learners):\n",
    "\n",
    "- RF averages many deep, decorrelated trees → low-variance\n",
    "- LGBM builds trees sequentially to correct previous errors → low-bias, good at capturing complex interactions\n",
    "\n",
    "Level-1 (meta learner) -- Logistic Regression (LR): \n",
    "- Learns how much to trust each base model for every region of feature space. With the raw features passed through, LR can up-weight one model when certain predictors are present and down-weight it elsewhere.\n",
    "\n",
    "\n",
    "Because the two level-0 learners make uncorrelated errors, LR can often find decision boundaries in the 2-D “prediction space” (RF_prob, LGBM_prob) that neither original model could draw on its own, nudging borderline cases across the 0.5 threshold and lifting ROC-AUC by a few points."
   ]
  },
  {
   "cell_type": "code",
   "execution_count": null,
   "id": "e6f4a807",
   "metadata": {},
   "outputs": [
    {
     "name": "stderr",
     "output_type": "stream",
     "text": [
      "Optimising stack: 100%|██████████| 30/30 [8:54:41<00:00, 1069.40s/it]  \n",
      "c:\\Users\\Sheng Miao\\anaconda3\\envs\\ds_env\\lib\\site-packages\\sklearn\\preprocessing\\_label.py:93: DataConversionWarning: A column-vector y was passed when a 1d array was expected. Please change the shape of y to (n_samples, ), for example using ravel().\n",
      "  y = column_or_1d(y, warn=True)\n",
      "c:\\Users\\Sheng Miao\\anaconda3\\envs\\ds_env\\lib\\site-packages\\sklearn\\preprocessing\\_label.py:129: DataConversionWarning: A column-vector y was passed when a 1d array was expected. Please change the shape of y to (n_samples, ), for example using ravel().\n",
      "  y = column_or_1d(y, dtype=self.classes_.dtype, warn=True)\n"
     ]
    },
    {
     "name": "stdout",
     "output_type": "stream",
     "text": [
      "Best AUC : 0.6568\n"
     ]
    },
    {
     "name": "stderr",
     "output_type": "stream",
     "text": [
      "c:\\Users\\Sheng Miao\\anaconda3\\envs\\ds_env\\lib\\site-packages\\sklearn\\linear_model\\_sag.py:348: ConvergenceWarning: The max_iter was reached which means the coef_ did not converge\n",
      "  warnings.warn(\n"
     ]
    },
    {
     "data": {
      "image/png": "[encoded data removed]",
      "text/plain": [
       "<Figure size 800x400 with 1 Axes>"
      ]
     },
     "metadata": {},
     "output_type": "display_data"
    }
   ],
   "source": [
    "\n",
    "\n",
    "\n",
    "# ----------------- 0.  Load best-param JSONs ------------------\n",
    "param_dir = Path(\"Saved\")\n",
    "\n",
    "with (param_dir/\"lightgbm_optuna_best_params.json\").open() as f:\n",
    "    lgb_base = json.load(f)          \n",
    "\n",
    "with (param_dir/\"random_forest_optuna_best_params.json\").open() as f:\n",
    "    rf_base = json.load(f)          \n",
    "\n",
    "with(param_dir/\"logistic_regression_L1_optuna_best_params.json\").open() as f:\n",
    "    lr_base = json.load(f)          \n",
    "\n",
    "# ----------------- 1. CV splitter ------------------\n",
    "cv_outer = StratifiedKFold(n_splits=5, shuffle=True, random_state=42)\n",
    "\n",
    "# ----------------- 2. Optuna objective ------------------\n",
    "def stack_objective(trial):\n",
    "    # --- base learners (inner jobs **single-thread**)\n",
    "    rf = RandomForestClassifier(**rf_base, n_jobs=1, random_state=42)\n",
    "    lgbm = lgb.LGBMClassifier(**lgb_base, n_jobs=1, random_state=42)\n",
    "\n",
    "    # --- meta learner: tune only a few high-impact params\n",
    "    C = trial.suggest_float(\"lr_C\", 1e-3, 10.0, log=True)\n",
    "    pen = trial.suggest_categorical(\"lr_penalty\", [\"l1\", \"l2\"])\n",
    "\n",
    "    lr_params = lr_base.copy()\n",
    "    lr_params.update(\n",
    "        C=C,\n",
    "        penalty=pen,\n",
    "        solver=\"saga\",\n",
    "        n_jobs=1,\n",
    "        max_iter=4000,\n",
    "        random_state=42,\n",
    "    )\n",
    "\n",
    "    lr = LogisticRegression(**lr_params)\n",
    "\n",
    "    stack = StackingClassifier(\n",
    "        estimators=[('rf', rf), ('lgbm', lgbm)],\n",
    "        final_estimator=lr,\n",
    "        passthrough=True,          # feed original features to meta learner\n",
    "        cv=5,                      # internal CV for meta features\n",
    "        n_jobs=1                   # keep inner layer single-threaded\n",
    "    )\n",
    "\n",
    "    # outer CV parallelised – only one level of parallelism\n",
    "    auc = cross_val_score(stack, X_train, y_train,\n",
    "                          cv=cv_outer,\n",
    "                          scoring=\"roc_auc\",\n",
    "                          n_jobs=-1).mean()\n",
    "    return auc\n",
    "\n",
    "# ----------------- 3.  Run study -----------------------\n",
    "optuna.logging.set_verbosity(optuna.logging.WARNING)\n",
    "sampler = optuna.samplers.TPESampler(seed=42)\n",
    "study   = optuna.create_study(direction=\"maximize\",\n",
    "                              sampler=sampler,\n",
    "                              study_name=\"Stack_RF_LGBM_LR\")\n",
    "\n",
    "with tqdm(total=30, desc=\"Optimising stack\") as pbar:\n",
    "    study.optimize(stack_objective,\n",
    "                   n_trials=30,\n",
    "                   callbacks=[lambda s, t: pbar.update()])\n",
    "\n",
    "print(f\"Best AUC : {study.best_value:.4f}\")\n",
    "\n",
    "# ----------------- 4.  Train final model --------------------\n",
    "best = study.best_params\n",
    "rf_final  = RandomForestClassifier(**rf_base,  n_jobs=1, random_state=42)\n",
    "lgb_final = lgb.LGBMClassifier(**lgb_base,     n_jobs=1, random_state=42)\n",
    "\n",
    "# --- build a clean parameter set for the meta-learner\n",
    "lr_params = lr_base.copy()            # start from the Optuna-best L1 baseline\n",
    "lr_params.update(\n",
    "    C=best[\"lr_C\"],                  # overwrite the tuned values …\n",
    "    penalty=best[\"lr_penalty\"],\n",
    "    solver=\"saga\",                   # keep the solver compatible with L1/L2\n",
    "    n_jobs=1,\n",
    "    max_iter=4000,\n",
    "    random_state=42,\n",
    ")\n",
    "\n",
    "lr_final = LogisticRegression(**lr_params)\n",
    "\n",
    "final_stack = StackingClassifier(\n",
    "    estimators=[(\"rf\", rf_final), (\"lgbm\", lgb_final)],\n",
    "    final_estimator=lr_final,\n",
    "    passthrough=True,\n",
    "    cv=5,\n",
    "    n_jobs=-1                # only here we parallelise prediction\n",
    ").fit(X_train, y_train)\n",
    "\n",
    "# ----------------- 5.  Persist artefacts --------------------\n",
    "param_dir.mkdir(exist_ok=True)\n",
    "joblib.dump(study,       param_dir/\"stack_study.pkl\")\n",
    "joblib.dump(final_stack, param_dir/\"stack_model.pkl\")\n",
    "with (param_dir/\"stack_best_params.json\").open(\"w\") as f:\n",
    "    json.dump(best, f, indent=2)\n",
    "\n",
    "pd.DataFrame({\n",
    "    \"trial\": [t.number for t in study.trials],\n",
    "    \"auc\"  : [t.value  for t in study.trials]\n",
    "}).to_csv(param_dir/\"stack_trial_scores.csv\", index=False)\n",
    "\n",
    "# Optional plot\n",
    "plt.figure(figsize=(8,4))\n",
    "plt.plot([t.value for t in study.trials], marker=\"o\")\n",
    "plt.axhline(study.best_value, ls=\"--\")\n",
    "plt.title(\"Stacking ROC-AUC per Trial\"); plt.xlabel(\"Trial\"); plt.ylabel(\"ROC-AUC\")\n",
    "plt.tight_layout(); plt.savefig(param_dir/\"stack_trials.png\", dpi=300); plt.show()"
   ]
  },
  {
   "cell_type": "markdown",
   "id": "74bfde94",
   "metadata": {},
   "source": [
    "No complementary signal: RF and LGBM aren’t adding information that LR-L1 doesn’t already capture. The meta-learner is just blending noise with a strong predictor → dilution of AUC."
   ]
  },
  {
   "cell_type": "markdown",
   "id": "2a74b379",
   "metadata": {},
   "source": [
    "| Model                        | Best ROC AUC | Notes                                   |\n",
    "| ---------------------------- | ------------ | --------------------------------------- |\n",
    "| **Logistic Regression (L1)** | **0.675**    | Highest score; simpler model            |\n",
    "| Stacking ensemble (RF + LGBM + LR)| 0.6568  | Second-best                             |\n",
    "| LightGBM + Optuna            | 0.6423       | fast and scalable                       |\n",
    "| XGBoost + Optuna             | 0.6393       | Slightly behind LightGBM                |\n",
    "| Random Forest + Optuna       | 0.6117       | Lowest; stable but less performant here |\n",
    "\n"
   ]
  },
  {
   "cell_type": "markdown",
   "id": "19c8f766",
   "metadata": {},
   "source": [
    "# 5. SHAP Analysis"
   ]
  },
  {
   "cell_type": "markdown",
   "id": "a8e3095e",
   "metadata": {},
   "source": [
    "Among Logistic Regression, Random Forest, XGBoost, LightGBM, and the stacking ensemble of all three, the L1-regularized Logistic Regression model achieved the best performance."
   ]
  },
  {
   "cell_type": "code",
   "execution_count": 8,
   "id": "c7c4f457",
   "metadata": {},
   "outputs": [
    {
     "name": "stderr",
     "output_type": "stream",
     "text": [
      "c:\\Users\\Sheng Miao\\anaconda3\\envs\\ds_env\\lib\\site-packages\\sklearn\\utils\\validation.py:1408: DataConversionWarning: A column-vector y was passed when a 1d array was expected. Please change the shape of y to (n_samples, ), for example using ravel().\n",
      "  y = column_or_1d(y, warn=True)\n",
      "c:\\Users\\Sheng Miao\\anaconda3\\envs\\ds_env\\lib\\site-packages\\sklearn\\linear_model\\_sag.py:348: ConvergenceWarning: The max_iter was reached which means the coef_ did not converge\n",
      "  warnings.warn(\n"
     ]
    },
    {
     "data": {
      "text/html": [
       "<style>#sk-container-id-1 {\n",
       "  /* Definition of color scheme common for light and dark mode */\n",
       "  --sklearn-color-text: #000;\n",
       "  --sklearn-color-text-muted: #666;\n",
       "  --sklearn-color-line: gray;\n",
       "  /* Definition of color scheme for unfitted estimators */\n",
       "  --sklearn-color-unfitted-level-0: #fff5e6;\n",
       "  --sklearn-color-unfitted-level-1: #f6e4d2;\n",
       "  --sklearn-color-unfitted-level-2: #ffe0b3;\n",
       "  --sklearn-color-unfitted-level-3: chocolate;\n",
       "  /* Definition of color scheme for fitted estimators */\n",
       "  --sklearn-color-fitted-level-0: #f0f8ff;\n",
       "  --sklearn-color-fitted-level-1: #d4ebff;\n",
       "  --sklearn-color-fitted-level-2: #b3dbfd;\n",
       "  --sklearn-color-fitted-level-3: cornflowerblue;\n",
       "\n",
       "  /* Specific color for light theme */\n",
       "  --sklearn-color-text-on-default-background: var(--sg-text-color, var(--theme-code-foreground, var(--jp-content-font-color1, black)));\n",
       "  --sklearn-color-background: var(--sg-background-color, var(--theme-background, var(--jp-layout-color0, white)));\n",
       "  --sklearn-color-border-box: var(--sg-text-color, var(--theme-code-foreground, var(--jp-content-font-color1, black)));\n",
       "  --sklearn-color-icon: #696969;\n",
       "\n",
       "  @media (prefers-color-scheme: dark) {\n",
       "    /* Redefinition of color scheme for dark theme */\n",
       "    --sklearn-color-text-on-default-background: var(--sg-text-color, var(--theme-code-foreground, var(--jp-content-font-color1, white)));\n",
       "    --sklearn-color-background: var(--sg-background-color, var(--theme-background, var(--jp-layout-color0, #111)));\n",
       "    --sklearn-color-border-box: var(--sg-text-color, var(--theme-code-foreground, var(--jp-content-font-color1, white)));\n",
       "    --sklearn-color-icon: #878787;\n",
       "  }\n",
       "}\n",
       "\n",
       "#sk-container-id-1 {\n",
       "  color: var(--sklearn-color-text);\n",
       "}\n",
       "\n",
       "#sk-container-id-1 pre {\n",
       "  padding: 0;\n",
       "}\n",
       "\n",
       "#sk-container-id-1 input.sk-hidden--visually {\n",
       "  border: 0;\n",
       "  clip: rect(1px 1px 1px 1px);\n",
       "  clip: rect(1px, 1px, 1px, 1px);\n",
       "  height: 1px;\n",
       "  margin: -1px;\n",
       "  overflow: hidden;\n",
       "  padding: 0;\n",
       "  position: absolute;\n",
       "  width: 1px;\n",
       "}\n",
       "\n",
       "#sk-container-id-1 div.sk-dashed-wrapped {\n",
       "  border: 1px dashed var(--sklearn-color-line);\n",
       "  margin: 0 0.4em 0.5em 0.4em;\n",
       "  box-sizing: border-box;\n",
       "  padding-bottom: 0.4em;\n",
       "  background-color: var(--sklearn-color-background);\n",
       "}\n",
       "\n",
       "#sk-container-id-1 div.sk-container {\n",
       "  /* jupyter's `normalize.less` sets `[hidden] { display: none; }`\n",
       "     but bootstrap.min.css set `[hidden] { display: none !important; }`\n",
       "     so we also need the `!important` here to be able to override the\n",
       "     default hidden behavior on the sphinx rendered scikit-learn.org.\n",
       "     See: https://github.com/scikit-learn/scikit-learn/issues/21755 */\n",
       "  display: inline-block !important;\n",
       "  position: relative;\n",
       "}\n",
       "\n",
       "#sk-container-id-1 div.sk-text-repr-fallback {\n",
       "  display: none;\n",
       "}\n",
       "\n",
       "div.sk-parallel-item,\n",
       "div.sk-serial,\n",
       "div.sk-item {\n",
       "  /* draw centered vertical line to link estimators */\n",
       "  background-image: linear-gradient(var(--sklearn-color-text-on-default-background), var(--sklearn-color-text-on-default-background));\n",
       "  background-size: 2px 100%;\n",
       "  background-repeat: no-repeat;\n",
       "  background-position: center center;\n",
       "}\n",
       "\n",
       "/* Parallel-specific style estimator block */\n",
       "\n",
       "#sk-container-id-1 div.sk-parallel-item::after {\n",
       "  content: \"\";\n",
       "  width: 100%;\n",
       "  border-bottom: 2px solid var(--sklearn-color-text-on-default-background);\n",
       "  flex-grow: 1;\n",
       "}\n",
       "\n",
       "#sk-container-id-1 div.sk-parallel {\n",
       "  display: flex;\n",
       "  align-items: stretch;\n",
       "  justify-content: center;\n",
       "  background-color: var(--sklearn-color-background);\n",
       "  position: relative;\n",
       "}\n",
       "\n",
       "#sk-container-id-1 div.sk-parallel-item {\n",
       "  display: flex;\n",
       "  flex-direction: column;\n",
       "}\n",
       "\n",
       "#sk-container-id-1 div.sk-parallel-item:first-child::after {\n",
       "  align-self: flex-end;\n",
       "  width: 50%;\n",
       "}\n",
       "\n",
       "#sk-container-id-1 div.sk-parallel-item:last-child::after {\n",
       "  align-self: flex-start;\n",
       "  width: 50%;\n",
       "}\n",
       "\n",
       "#sk-container-id-1 div.sk-parallel-item:only-child::after {\n",
       "  width: 0;\n",
       "}\n",
       "\n",
       "/* Serial-specific style estimator block */\n",
       "\n",
       "#sk-container-id-1 div.sk-serial {\n",
       "  display: flex;\n",
       "  flex-direction: column;\n",
       "  align-items: center;\n",
       "  background-color: var(--sklearn-color-background);\n",
       "  padding-right: 1em;\n",
       "  padding-left: 1em;\n",
       "}\n",
       "\n",
       "\n",
       "/* Toggleable style: style used for estimator/Pipeline/ColumnTransformer box that is\n",
       "clickable and can be expanded/collapsed.\n",
       "- Pipeline and ColumnTransformer use this feature and define the default style\n",
       "- Estimators will overwrite some part of the style using the `sk-estimator` class\n",
       "*/\n",
       "\n",
       "/* Pipeline and ColumnTransformer style (default) */\n",
       "\n",
       "#sk-container-id-1 div.sk-toggleable {\n",
       "  /* Default theme specific background. It is overwritten whether we have a\n",
       "  specific estimator or a Pipeline/ColumnTransformer */\n",
       "  background-color: var(--sklearn-color-background);\n",
       "}\n",
       "\n",
       "/* Toggleable label */\n",
       "#sk-container-id-1 label.sk-toggleable__label {\n",
       "  cursor: pointer;\n",
       "  display: flex;\n",
       "  width: 100%;\n",
       "  margin-bottom: 0;\n",
       "  padding: 0.5em;\n",
       "  box-sizing: border-box;\n",
       "  text-align: center;\n",
       "  align-items: start;\n",
       "  justify-content: space-between;\n",
       "  gap: 0.5em;\n",
       "}\n",
       "\n",
       "#sk-container-id-1 label.sk-toggleable__label .caption {\n",
       "  font-size: 0.6rem;\n",
       "  font-weight: lighter;\n",
       "  color: var(--sklearn-color-text-muted);\n",
       "}\n",
       "\n",
       "#sk-container-id-1 label.sk-toggleable__label-arrow:before {\n",
       "  /* Arrow on the left of the label */\n",
       "  content: \"▸\";\n",
       "  float: left;\n",
       "  margin-right: 0.25em;\n",
       "  color: var(--sklearn-color-icon);\n",
       "}\n",
       "\n",
       "#sk-container-id-1 label.sk-toggleable__label-arrow:hover:before {\n",
       "  color: var(--sklearn-color-text);\n",
       "}\n",
       "\n",
       "/* Toggleable content - dropdown */\n",
       "\n",
       "#sk-container-id-1 div.sk-toggleable__content {\n",
       "  max-height: 0;\n",
       "  max-width: 0;\n",
       "  overflow: hidden;\n",
       "  text-align: left;\n",
       "  /* unfitted */\n",
       "  background-color: var(--sklearn-color-unfitted-level-0);\n",
       "}\n",
       "\n",
       "#sk-container-id-1 div.sk-toggleable__content.fitted {\n",
       "  /* fitted */\n",
       "  background-color: var(--sklearn-color-fitted-level-0);\n",
       "}\n",
       "\n",
       "#sk-container-id-1 div.sk-toggleable__content pre {\n",
       "  margin: 0.2em;\n",
       "  border-radius: 0.25em;\n",
       "  color: var(--sklearn-color-text);\n",
       "  /* unfitted */\n",
       "  background-color: var(--sklearn-color-unfitted-level-0);\n",
       "}\n",
       "\n",
       "#sk-container-id-1 div.sk-toggleable__content.fitted pre {\n",
       "  /* unfitted */\n",
       "  background-color: var(--sklearn-color-fitted-level-0);\n",
       "}\n",
       "\n",
       "#sk-container-id-1 input.sk-toggleable__control:checked~div.sk-toggleable__content {\n",
       "  /* Expand drop-down */\n",
       "  max-height: 200px;\n",
       "  max-width: 100%;\n",
       "  overflow: auto;\n",
       "}\n",
       "\n",
       "#sk-container-id-1 input.sk-toggleable__control:checked~label.sk-toggleable__label-arrow:before {\n",
       "  content: \"▾\";\n",
       "}\n",
       "\n",
       "/* Pipeline/ColumnTransformer-specific style */\n",
       "\n",
       "#sk-container-id-1 div.sk-label input.sk-toggleable__control:checked~label.sk-toggleable__label {\n",
       "  color: var(--sklearn-color-text);\n",
       "  background-color: var(--sklearn-color-unfitted-level-2);\n",
       "}\n",
       "\n",
       "#sk-container-id-1 div.sk-label.fitted input.sk-toggleable__control:checked~label.sk-toggleable__label {\n",
       "  background-color: var(--sklearn-color-fitted-level-2);\n",
       "}\n",
       "\n",
       "/* Estimator-specific style */\n",
       "\n",
       "/* Colorize estimator box */\n",
       "#sk-container-id-1 div.sk-estimator input.sk-toggleable__control:checked~label.sk-toggleable__label {\n",
       "  /* unfitted */\n",
       "  background-color: var(--sklearn-color-unfitted-level-2);\n",
       "}\n",
       "\n",
       "#sk-container-id-1 div.sk-estimator.fitted input.sk-toggleable__control:checked~label.sk-toggleable__label {\n",
       "  /* fitted */\n",
       "  background-color: var(--sklearn-color-fitted-level-2);\n",
       "}\n",
       "\n",
       "#sk-container-id-1 div.sk-label label.sk-toggleable__label,\n",
       "#sk-container-id-1 div.sk-label label {\n",
       "  /* The background is the default theme color */\n",
       "  color: var(--sklearn-color-text-on-default-background);\n",
       "}\n",
       "\n",
       "/* On hover, darken the color of the background */\n",
       "#sk-container-id-1 div.sk-label:hover label.sk-toggleable__label {\n",
       "  color: var(--sklearn-color-text);\n",
       "  background-color: var(--sklearn-color-unfitted-level-2);\n",
       "}\n",
       "\n",
       "/* Label box, darken color on hover, fitted */\n",
       "#sk-container-id-1 div.sk-label.fitted:hover label.sk-toggleable__label.fitted {\n",
       "  color: var(--sklearn-color-text);\n",
       "  background-color: var(--sklearn-color-fitted-level-2);\n",
       "}\n",
       "\n",
       "/* Estimator label */\n",
       "\n",
       "#sk-container-id-1 div.sk-label label {\n",
       "  font-family: monospace;\n",
       "  font-weight: bold;\n",
       "  display: inline-block;\n",
       "  line-height: 1.2em;\n",
       "}\n",
       "\n",
       "#sk-container-id-1 div.sk-label-container {\n",
       "  text-align: center;\n",
       "}\n",
       "\n",
       "/* Estimator-specific */\n",
       "#sk-container-id-1 div.sk-estimator {\n",
       "  font-family: monospace;\n",
       "  border: 1px dotted var(--sklearn-color-border-box);\n",
       "  border-radius: 0.25em;\n",
       "  box-sizing: border-box;\n",
       "  margin-bottom: 0.5em;\n",
       "  /* unfitted */\n",
       "  background-color: var(--sklearn-color-unfitted-level-0);\n",
       "}\n",
       "\n",
       "#sk-container-id-1 div.sk-estimator.fitted {\n",
       "  /* fitted */\n",
       "  background-color: var(--sklearn-color-fitted-level-0);\n",
       "}\n",
       "\n",
       "/* on hover */\n",
       "#sk-container-id-1 div.sk-estimator:hover {\n",
       "  /* unfitted */\n",
       "  background-color: var(--sklearn-color-unfitted-level-2);\n",
       "}\n",
       "\n",
       "#sk-container-id-1 div.sk-estimator.fitted:hover {\n",
       "  /* fitted */\n",
       "  background-color: var(--sklearn-color-fitted-level-2);\n",
       "}\n",
       "\n",
       "/* Specification for estimator info (e.g. \"i\" and \"?\") */\n",
       "\n",
       "/* Common style for \"i\" and \"?\" */\n",
       "\n",
       ".sk-estimator-doc-link,\n",
       "a:link.sk-estimator-doc-link,\n",
       "a:visited.sk-estimator-doc-link {\n",
       "  float: right;\n",
       "  font-size: smaller;\n",
       "  line-height: 1em;\n",
       "  font-family: monospace;\n",
       "  background-color: var(--sklearn-color-background);\n",
       "  border-radius: 1em;\n",
       "  height: 1em;\n",
       "  width: 1em;\n",
       "  text-decoration: none !important;\n",
       "  margin-left: 0.5em;\n",
       "  text-align: center;\n",
       "  /* unfitted */\n",
       "  border: var(--sklearn-color-unfitted-level-1) 1pt solid;\n",
       "  color: var(--sklearn-color-unfitted-level-1);\n",
       "}\n",
       "\n",
       ".sk-estimator-doc-link.fitted,\n",
       "a:link.sk-estimator-doc-link.fitted,\n",
       "a:visited.sk-estimator-doc-link.fitted {\n",
       "  /* fitted */\n",
       "  border: var(--sklearn-color-fitted-level-1) 1pt solid;\n",
       "  color: var(--sklearn-color-fitted-level-1);\n",
       "}\n",
       "\n",
       "/* On hover */\n",
       "div.sk-estimator:hover .sk-estimator-doc-link:hover,\n",
       ".sk-estimator-doc-link:hover,\n",
       "div.sk-label-container:hover .sk-estimator-doc-link:hover,\n",
       ".sk-estimator-doc-link:hover {\n",
       "  /* unfitted */\n",
       "  background-color: var(--sklearn-color-unfitted-level-3);\n",
       "  color: var(--sklearn-color-background);\n",
       "  text-decoration: none;\n",
       "}\n",
       "\n",
       "div.sk-estimator.fitted:hover .sk-estimator-doc-link.fitted:hover,\n",
       ".sk-estimator-doc-link.fitted:hover,\n",
       "div.sk-label-container:hover .sk-estimator-doc-link.fitted:hover,\n",
       ".sk-estimator-doc-link.fitted:hover {\n",
       "  /* fitted */\n",
       "  background-color: var(--sklearn-color-fitted-level-3);\n",
       "  color: var(--sklearn-color-background);\n",
       "  text-decoration: none;\n",
       "}\n",
       "\n",
       "/* Span, style for the box shown on hovering the info icon */\n",
       ".sk-estimator-doc-link span {\n",
       "  display: none;\n",
       "  z-index: 9999;\n",
       "  position: relative;\n",
       "  font-weight: normal;\n",
       "  right: .2ex;\n",
       "  padding: .5ex;\n",
       "  margin: .5ex;\n",
       "  width: min-content;\n",
       "  min-width: 20ex;\n",
       "  max-width: 50ex;\n",
       "  color: var(--sklearn-color-text);\n",
       "  box-shadow: 2pt 2pt 4pt #999;\n",
       "  /* unfitted */\n",
       "  background: var(--sklearn-color-unfitted-level-0);\n",
       "  border: .5pt solid var(--sklearn-color-unfitted-level-3);\n",
       "}\n",
       "\n",
       ".sk-estimator-doc-link.fitted span {\n",
       "  /* fitted */\n",
       "  background: var(--sklearn-color-fitted-level-0);\n",
       "  border: var(--sklearn-color-fitted-level-3);\n",
       "}\n",
       "\n",
       ".sk-estimator-doc-link:hover span {\n",
       "  display: block;\n",
       "}\n",
       "\n",
       "/* \"?\"-specific style due to the `<a>` HTML tag */\n",
       "\n",
       "#sk-container-id-1 a.estimator_doc_link {\n",
       "  float: right;\n",
       "  font-size: 1rem;\n",
       "  line-height: 1em;\n",
       "  font-family: monospace;\n",
       "  background-color: var(--sklearn-color-background);\n",
       "  border-radius: 1rem;\n",
       "  height: 1rem;\n",
       "  width: 1rem;\n",
       "  text-decoration: none;\n",
       "  /* unfitted */\n",
       "  color: var(--sklearn-color-unfitted-level-1);\n",
       "  border: var(--sklearn-color-unfitted-level-1) 1pt solid;\n",
       "}\n",
       "\n",
       "#sk-container-id-1 a.estimator_doc_link.fitted {\n",
       "  /* fitted */\n",
       "  border: var(--sklearn-color-fitted-level-1) 1pt solid;\n",
       "  color: var(--sklearn-color-fitted-level-1);\n",
       "}\n",
       "\n",
       "/* On hover */\n",
       "#sk-container-id-1 a.estimator_doc_link:hover {\n",
       "  /* unfitted */\n",
       "  background-color: var(--sklearn-color-unfitted-level-3);\n",
       "  color: var(--sklearn-color-background);\n",
       "  text-decoration: none;\n",
       "}\n",
       "\n",
       "#sk-container-id-1 a.estimator_doc_link.fitted:hover {\n",
       "  /* fitted */\n",
       "  background-color: var(--sklearn-color-fitted-level-3);\n",
       "}\n",
       "</style><div id=\"sk-container-id-1\" class=\"sk-top-container\"><div class=\"sk-text-repr-fallback\"><pre>LogisticRegression(C=0.38045229148528126, class_weight=&#x27;balanced&#x27;,\n",
       "                   max_iter=3000, penalty=&#x27;l1&#x27;, random_state=42, solver=&#x27;saga&#x27;)</pre><b>In a Jupyter environment, please rerun this cell to show the HTML representation or trust the notebook. <br />On GitHub, the HTML representation is unable to render, please try loading this page with nbviewer.org.</b></div><div class=\"sk-container\" hidden><div class=\"sk-item\"><div class=\"sk-estimator fitted sk-toggleable\"><input class=\"sk-toggleable__control sk-hidden--visually\" id=\"sk-estimator-id-1\" type=\"checkbox\" checked><label for=\"sk-estimator-id-1\" class=\"sk-toggleable__label fitted sk-toggleable__label-arrow\"><div><div>LogisticRegression</div></div><div><a class=\"sk-estimator-doc-link fitted\" rel=\"noreferrer\" target=\"_blank\" href=\"https://scikit-learn.org/1.6/modules/generated/sklearn.linear_model.LogisticRegression.html\">?<span>Documentation for LogisticRegression</span></a><span class=\"sk-estimator-doc-link fitted\">i<span>Fitted</span></span></div></label><div class=\"sk-toggleable__content fitted\"><pre>LogisticRegression(C=0.38045229148528126, class_weight=&#x27;balanced&#x27;,\n",
       "                   max_iter=3000, penalty=&#x27;l1&#x27;, random_state=42, solver=&#x27;saga&#x27;)</pre></div> </div></div></div></div>"
      ],
      "text/plain": [
       "LogisticRegression(C=0.38045229148528126, class_weight='balanced',\n",
       "                   max_iter=3000, penalty='l1', random_state=42, solver='saga')"
      ]
     },
     "execution_count": 8,
     "metadata": {},
     "output_type": "execute_result"
    }
   ],
   "source": [
    "param_dir = Path(\"Saved\")\n",
    "with(param_dir/\"logistic_regression_L1_optuna_best_params.json\").open() as f:\n",
    "    lr_l1_best = json.load(f)    \n",
    "\n",
    "lr_l1_best_model = LogisticRegression(**lr_l1_best)\n",
    "lr_l1_best_model.fit(X_train, y_train)"
   ]
  },
  {
   "cell_type": "code",
   "execution_count": 9,
   "id": "78dee4a5",
   "metadata": {},
   "outputs": [
    {
     "data": {
      "text/plain": [
       "['Saved/lr_l1_best_model_1.joblib']"
      ]
     },
     "execution_count": 9,
     "metadata": {},
     "output_type": "execute_result"
    }
   ],
   "source": [
    "# Save the model\n",
    "joblib.dump(lr_l1_best_model, 'Saved/lr_l1_best_model_1.joblib')"
   ]
  },
  {
   "cell_type": "code",
   "execution_count": 25,
   "id": "93a6b720",
   "metadata": {},
   "outputs": [
    {
     "data": {
      "image/png": "[encoded data removed]",
      "text/plain": [
       "<Figure size 800x950 with 1 Axes>"
      ]
     },
     "metadata": {},
     "output_type": "display_data"
    }
   ],
   "source": [
    "# 1. Create SHAP explainer and compute SHAP values\n",
    "# -------------------------------------------------------------------\n",
    "explainer = shap.LinearExplainer(lr_l1_best_model, X_train)\n",
    "shap_values = explainer(X_train)\n",
    "\n",
    "# -------------------------------------------------------------------\n",
    "# 2. Global Feature Importance plot\n",
    "# -------------------------------------------------------------------\n",
    "shap.summary_plot(shap_values, X_train, plot_type=\"bar\", show=False)\n",
    "plt.title(\"SHAP Summary Plot (Feature Impact)\", fontsize=14)\n",
    "plt.savefig('Saved/lr_l1_SHAP_Summary_bar_Plot.png', dpi=300, bbox_inches=\"tight\")\n",
    "plt.subplots_adjust(bottom=0.8)\n",
    "plt.tight_layout()\n",
    "plt.show()\n"
   ]
  },
  {
   "cell_type": "code",
   "execution_count": null,
   "id": "fdaa4ea9",
   "metadata": {},
   "outputs": [
    {
     "data": {
      "image/png": "[encoded data removed]",
      "text/plain": [
       "<Figure size 800x950 with 2 Axes>"
      ]
     },
     "metadata": {},
     "output_type": "display_data"
    }
   ],
   "source": [
    "# full beeswarm plot\n",
    "shap.summary_plot(shap_values, X_train, show=False)\n",
    "plt.title(\"SHAP Summary Plot (Feature Impact)\", fontsize=14)\n",
    "plt.savefig('Saved/lr_l1_SHAP_Summary_Plot.png', dpi=300, bbox_inches=\"tight\")\n",
    "plt.subplots_adjust(bottom=0.8)\n",
    "plt.tight_layout()\n",
    "plt.show()\n"
   ]
  },
  {
   "cell_type": "code",
   "execution_count": 22,
   "id": "e5bf38f6",
   "metadata": {},
   "outputs": [
    {
     "data": {
      "image/png": "[encoded data removed]",
      "text/plain": [
       "<Figure size 800x650 with 1 Axes>"
      ]
     },
     "metadata": {},
     "output_type": "display_data"
    }
   ],
   "source": [
    "# Bar plot of mean absolute SHAP values\n",
    "shap.plots.bar(shap_values, show=False)\n",
    "plt.title(\"Feature Impact Bar Plot\", fontsize=14)\n",
    "plt.savefig('Saved/lr_l1_SHAP_Bar_Plot.jpg', dpi=300, bbox_inches=\"tight\")\n",
    "plt.show()"
   ]
  }
 ],
 "metadata": {
  "environment": {
   "kernel": "ds_env",
   "name": "workbench-notebooks.m130",
   "type": "gcloud",
   "uri": "us-docker.pkg.dev/deeplearning-platform-release/gcr.io/workbench-notebooks:m130"
  },
  "kernelspec": {
   "display_name": "ds_env",
   "language": "python",
   "name": "python3"
  },
  "language_info": {
   "codemirror_mode": {
    "name": "ipython",
    "version": 3
   },
   "file_extension": ".py",
   "mimetype": "text/x-python",
   "name": "python",
   "nbconvert_exporter": "python",
   "pygments_lexer": "ipython3",
   "version": "3.10.18"
  },
  "toc-autonumbering": false
 },
 "nbformat": 4,
 "nbformat_minor": 5
}
