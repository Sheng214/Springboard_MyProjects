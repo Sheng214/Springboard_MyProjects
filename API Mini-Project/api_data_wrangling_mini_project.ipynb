{
 "cells": [
  {
   "cell_type": "markdown",
   "metadata": {},
   "source": [
    "This exercise will require you to pull some data from https://data.nasdaq.com/ (formerly Quandl API)."
   ]
  },
  {
   "cell_type": "markdown",
   "metadata": {},
   "source": [
    "As a first step, you will need to register a free account on the https://data.nasdaq.com/ website."
   ]
  },
  {
   "cell_type": "markdown",
   "metadata": {},
   "source": [
    "After you register, you will be provided with a unique API key, that you should store:\n",
    "\n",
    "*Note*: Use a `.env` file and put your key in there and `python-dotenv` to access it in this notebook. \n",
    "\n",
    "The code below uses a key that was used when generating this project but has since been deleted. Never submit your keys to source control. There is a `.env-example` file in this repository to illusrtate what you need. Copy that to a file called `.env` and use your own api key in that `.env` file. Make sure you also have a `.gitignore` file with a line for `.env` added to it. \n",
    "\n",
    "The standard Python gitignore is [here](https://github.com/github/gitignore/blob/master/Python.gitignore) you can just copy that. "
   ]
  },
  {
   "cell_type": "code",
   "execution_count": 40,
   "metadata": {},
   "outputs": [],
   "source": [
    "# get api key from your .env file\n",
    "import os\n",
    "from dotenv import load_dotenv\n",
    "\n",
    "load_dotenv()\n",
    "API_KEY = os.getenv('NASDAQ_API_KEY')"
   ]
  },
  {
   "cell_type": "markdown",
   "metadata": {},
   "source": [
    "Nasdaq Data has a large number of data sources, but, unfortunately, most of them require a Premium subscription. Still, there are also a good number of free datasets."
   ]
  },
  {
   "cell_type": "markdown",
   "metadata": {},
   "source": [
    "For this mini project, we will focus on equities data from the Frankfurt Stock Exhange (FSE), which is available for free. We'll try and analyze the stock prices of a company called Carl Zeiss Meditec, which manufactures tools for eye examinations, as well as medical lasers for laser eye surgery: https://www.zeiss.com/meditec/int/home.html. The company is listed under the stock ticker AFX_X."
   ]
  },
  {
   "cell_type": "markdown",
   "metadata": {},
   "source": [
    "You can find the detailed Nasdaq Data API instructions here: https://docs.data.nasdaq.com/docs/in-depth-usage"
   ]
  },
  {
   "cell_type": "markdown",
   "metadata": {},
   "source": [
    "While there is a dedicated Python package for connecting to the Nasdaq API, we would prefer that you use the *requests* package, which can be easily downloaded using *pip* or *conda*. You can find the documentation for the package here: http://docs.python-requests.org/en/master/ "
   ]
  },
  {
   "cell_type": "markdown",
   "metadata": {},
   "source": [
    "Finally, apart from the *requests* package, you are encouraged to not use any third party Python packages, such as *pandas*, and instead focus on what's available in the Python Standard Library (the *collections* module might come in handy: https://pymotw.com/3/collections/).\n",
    "Also, since you won't have access to DataFrames, you are encouraged to us Python's native data structures - preferably dictionaries, though some questions can also be answered using lists.\n",
    "You can read more on these data structures here: https://docs.python.org/3/tutorial/datastructures.html"
   ]
  },
  {
   "cell_type": "markdown",
   "metadata": {},
   "source": [
    "Keep in mind that the JSON responses you will be getting from the API map almost one-to-one to Python's dictionaries. Unfortunately, they can be very nested, so make sure you read up on indexing dictionaries in the documentation provided above."
   ]
  },
  {
   "cell_type": "code",
   "execution_count": 41,
   "metadata": {},
   "outputs": [],
   "source": [
    "# First, import the relevant modules\n",
    "import requests\n",
    "import json"
   ]
  },
  {
   "cell_type": "markdown",
   "metadata": {},
   "source": [
    "Note: API's can change a bit with each version, for this exercise it is reccomended to use the nasdaq api at `https://data.nasdaq.com/api/v3/`. This is the same api as what used to be quandl so `https://www.quandl.com/api/v3/` should work too.\n",
    "\n",
    "Hint: We are looking for the `AFX_X` data on the `datasets/FSE/` dataset."
   ]
  },
  {
   "cell_type": "code",
   "execution_count": 42,
   "metadata": {},
   "outputs": [
    {
     "name": "stdout",
     "output_type": "stream",
     "text": [
      "{\n",
      "  \"dataset\": {\n",
      "    \"id\": 10095370,\n",
      "    \"dataset_code\": \"AFX_X\",\n",
      "    \"database_code\": \"FSE\",\n",
      "    \"name\": \"Carl Zeiss Meditec (AFX_X)\",\n",
      "    \"description\": \"Stock Prices for Carl Zeiss Meditec (2020-11-02) from the Frankfurt Stock Exchange.<br><br>Trading System: Xetra<br><br>ISIN: DE0005313704\",\n",
      "    \"refreshed_at\": \"2020-12-01T14:48:09.907Z\",\n",
      "    \"newest_available_date\": \"2020-12-01\",\n",
      "    \"oldest_available_date\": \"2000-06-07\",\n",
      "    \"column_names\": [\n",
      "      \"Date\",\n",
      "      \"Open\",\n",
      "      \"High\",\n",
      "      \"Low\",\n",
      "      \"Close\",\n",
      "      \"Change\",\n",
      "      \"Traded Volume\",\n",
      "      \"Turnover\",\n",
      "      \"Last Price of the Day\",\n",
      "      \"Daily Traded Units\",\n",
      "      \"Daily Turnover\"\n",
      "    ],\n",
      "    \"frequency\": \"daily\",\n",
      "    \"type\": \"Time Series\",\n",
      "    \"premium\": false,\n",
      "    \"limit\": null,\n",
      "    \"transform\": null,\n",
      "    \"column_index\": null,\n",
      "    \"start_date\": \"2020-12-01\",\n",
      "    \"end_date\": \"2020-12-01\",\n",
      "    \"data\": [\n",
      "      [\n",
      "        \"2020-12-01\",\n",
      "        112.2,\n",
      "        112.2,\n",
      "        111.5,\n",
      "        112.0,\n",
      "        null,\n",
      "        51.0,\n",
      "        5703.0,\n",
      "        null,\n",
      "        null,\n",
      "        null\n",
      "      ]\n",
      "    ],\n",
      "    \"collapse\": null,\n",
      "    \"order\": null,\n",
      "    \"database_id\": 6129\n",
      "  }\n",
      "}\n"
     ]
    }
   ],
   "source": [
    "# Now, call the Nasdaq API and pull out a small sample of the data (only one day) to get a glimpse\n",
    "url = 'https://data.nasdaq.com/api/v3/datasets/FSE/AFX_X.json'\n",
    "\n",
    "params = {'api_key': API_KEY, 'start_date': '2020-12-01', 'end_date': '2020-12-01'}\n",
    "\n",
    "response = requests.get(url, params=params)\n",
    "#print(response.status_code)\n",
    "\n",
    "# into the JSON structure that will be returned\n",
    "afxx = response.json()\n",
    "print(json.dumps(afxx, indent=2))\n"
   ]
  },
  {
   "cell_type": "code",
   "execution_count": 43,
   "metadata": {},
   "outputs": [],
   "source": [
    "# Inspect the JSON structure of the object you created, and take note of how nested it is,\n",
    "# as well as the overall structure"
   ]
  },
  {
   "cell_type": "markdown",
   "metadata": {},
   "source": [
    "These are your tasks for this mini project:\n",
    "\n",
    "1. Collect data from the Franfurt Stock Exchange, for the ticker AFX_X, for the whole year 2017 (keep in mind that the date format is YYYY-MM-DD).\n",
    "2. Convert the returned JSON object into a Python dictionary.\n",
    "3. Calculate what the highest and lowest opening prices were for the stock in this period.\n",
    "4. What was the largest change in any one day (based on High and Low price)?\n",
    "5. What was the largest change between any two days (based on Closing Price)?\n",
    "6. What was the average daily trading volume during this year?\n",
    "7. (Optional) What was the median trading volume during this year. (Note: you may need to implement your own function for calculating the median.)"
   ]
  },
  {
   "cell_type": "code",
   "execution_count": 44,
   "metadata": {},
   "outputs": [
    {
     "name": "stdout",
     "output_type": "stream",
     "text": [
      "<class 'dict'>\n"
     ]
    }
   ],
   "source": [
    "# 1. Collect data from the Franfurt Stock Exchange, for the ticker AFX_X, for the whole year 2017 (keep in mind that the date format is YYYY-MM-DD).\n",
    "# 2. Convert the returned JSON object into a Python dictionary.\n",
    "\n",
    "url = 'https://data.nasdaq.com/api/v3/datasets/FSE/AFX_X.json'\n",
    "\n",
    "params = {'api_key': API_KEY, 'start_date': '2017-01-01', 'end_date': '2017-12-31'}\n",
    "response = requests.get(url, params=params)\n",
    "afxx = response.json()\n",
    "#print(json.dumps(afxx, indent=2))\n",
    "print(type(afxx))"
   ]
  },
  {
   "cell_type": "code",
   "execution_count": 45,
   "metadata": {},
   "outputs": [],
   "source": [
    "%%capture\n",
    "import builtins\n",
    "dict = builtins.dict\n",
    "print(\"Global variables:\", globals().keys())\n",
    "# Recheck the dict type\n",
    "print(\"Builtin dict type:\", dict)\n",
    "print(\"Is the builtin dict type correct?\", isinstance({}, dict))"
   ]
  },
  {
   "cell_type": "code",
   "execution_count": 46,
   "metadata": {},
   "outputs": [],
   "source": [
    "%%capture\n",
    "a1 = {\"a\": {\"b\": 1}, \"c\": {\"d\": 2}}\n",
    "print(\"Type of a1:\", type(a1))\n",
    "test_var = a1\n",
    "print(\"Is test_var a dictionary?\", isinstance(test_var, dict))"
   ]
  },
  {
   "cell_type": "code",
   "execution_count": 47,
   "metadata": {},
   "outputs": [],
   "source": [
    "%%capture\n",
    "\n",
    "def get_all_keys(json_obj, parent_key=''):\n",
    "    keys = []\n",
    "    if isinstance(json_obj, dict):\n",
    "        for key, value in json_obj.items():\n",
    "            full_key = f\"{parent_key}.{key}\" if parent_key else key\n",
    "            keys.append(full_key)\n",
    "            if isinstance(value, dict):\n",
    "                keys.extend(get_all_keys(value, full_key))\n",
    "    else:\n",
    "        keys.append(parent_key)\n",
    "    return keys\n",
    "\n",
    "print(\"Type of afxx:\", type(afxx))\n",
    "\n",
    "if isinstance(afxx, dict):\n",
    "    all_keys = get_all_keys(afxx)\n",
    "    print(all_keys)\n",
    "else:\n",
    "    print(\"afxx is not a dictionary\")\n",
    "\n",
    "all_keys = get_all_keys(afxx)\n",
    "print(all_keys)"
   ]
  },
  {
   "cell_type": "code",
   "execution_count": 48,
   "metadata": {},
   "outputs": [
    {
     "name": "stdout",
     "output_type": "stream",
     "text": [
      "['Date', 'Open', 'High', 'Low', 'Close', 'Change', 'Traded Volume', 'Turnover', 'Last Price of the Day', 'Daily Traded Units', 'Daily Turnover']\n",
      "\n",
      "Answers to task 3:\n",
      "The highest opening price for the stock in this period is 53.11\n",
      "The lowest opening price for the stock in this period is 34.0\n",
      "\n",
      "Answer to task 4:\n",
      "1 [-0.44]\n",
      "The largest change is 2.81\n",
      "\n",
      "Answer to task 5:\n",
      "The largest change between any two days is 2.56\n",
      "\n",
      "Answer to task 6:\n",
      "The average daily trading volume during this year is 89124.34\n",
      "\n",
      "Answer to task 7:\n",
      "The median trading volume during this year is 134965.0\n"
     ]
    }
   ],
   "source": [
    "print(afxx[\"dataset\"][\"column_names\"])\n",
    "print()\n",
    "data = afxx[\"dataset\"][\"data\"]\n",
    "\n",
    "# 3. Calculate what the highest and lowest opening prices were for the stock in this period.\n",
    "opening_prices = []\n",
    "for line in data:\n",
    "    if line[1] is not None:\n",
    "        opening_prices.append(line[1])\n",
    "\n",
    "print('Answers to task 3:')\n",
    "print('The highest opening price for the stock in this period is', max(opening_prices)) \n",
    "print('The lowest opening price for the stock in this period is', min(opening_prices)) \n",
    "print()\n",
    "\n",
    "# 4. What was the largest change in any one day (based on High and Low price)?\n",
    "change_1 = []\n",
    "for line in data:\n",
    "    if line[5] is not None:\n",
    "        change_1.append(line[5])\n",
    "\n",
    "print('Answer to task 4:')\n",
    "print(len(change_1), change_1)\n",
    "\n",
    "change_2 = []\n",
    "for line in data:\n",
    "    change_2.append(line[2] - line[3])\n",
    "print(f\"The largest change is {round(max(change_2), 2)}\")\n",
    "print()\n",
    "\n",
    "# 5. What was the largest change between any two days (based on Closing Price)?\n",
    "print('Answer to task 5:')\n",
    "change_3 = []\n",
    "for a in range(0, len(data)-1):\n",
    "    last = data[a][4]\n",
    "    next = data[a+1][4]\n",
    "    if last and next is not None:\n",
    "        change_two_days = next - last\n",
    "        change_3.append(abs(change_two_days))\n",
    "print(f\"The largest change between any two days is {round(max(change_3),2)}\")\n",
    "print()\n",
    "\n",
    "# 6. What was the average daily trading volume during this year?\n",
    "volume = []\n",
    "for line in data:\n",
    "    volume.append(line[6])\n",
    "    average = sum(volume)/len(volume)\n",
    "print('Answer to task 6:')\n",
    "print(f\"The average daily trading volume during this year is {round(average, 2)}\")\n",
    "print()\n",
    "\n",
    "# 7. (Optional) What was the median trading volume during this year. (Note: you may need to implement your own function for calculating the median.)\n",
    "print('Answer to task 7:')\n",
    "def median(list):\n",
    "    sorted(list)\n",
    "    if len(list) % 2 != 0:\n",
    "        median = list[int((len(list)-1) /2)]\n",
    "    else:\n",
    "        index_1 = int(len(list)/2 - 1)\n",
    "        index_2 = int(len(list)/2)\n",
    "        median = (list[index_1] + list[index_2]) / 2\n",
    "    print(f'The median trading volume during this year is {median}')\n",
    "\n",
    "median(volume)\n",
    "\n"
   ]
  }
 ],
 "metadata": {
  "interpreter": {
   "hash": "7635eb1b9d0fe97add78a7368b6b431c09bb8ad5c42e437d64abdd99821c31ae"
  },
  "kernelspec": {
   "display_name": "Python 3.8.1 64-bit ('dsc_v5_solutions-7Q1D_Dt-': venv)",
   "name": "python3"
  },
  "language_info": {
   "codemirror_mode": {
    "name": "ipython",
    "version": 3
   },
   "file_extension": ".py",
   "mimetype": "text/x-python",
   "name": "python",
   "nbconvert_exporter": "python",
   "pygments_lexer": "ipython3",
   "version": "3.11.7"
  }
 },
 "nbformat": 4,
 "nbformat_minor": 4
}
